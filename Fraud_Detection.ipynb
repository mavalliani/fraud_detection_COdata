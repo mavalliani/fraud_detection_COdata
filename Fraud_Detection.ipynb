{
  "nbformat": 4,
  "nbformat_minor": 0,
  "metadata": {
    "colab": {
      "name": "Fraud Detection",
      "provenance": [],
      "collapsed_sections": [],
      "toc_visible": true,
      "machine_shape": "hm",
      "authorship_tag": "ABX9TyPbpfsK2T4EAhaWAT9ldZ2P"
    },
    "kernelspec": {
      "name": "python3",
      "display_name": "Python 3"
    },
    "accelerator": "GPU"
  },
  "cells": [
    {
      "cell_type": "code",
      "metadata": {
        "id": "X4h3moDmvdOf",
        "colab_type": "code",
        "outputId": "f67f7fc9-3cea-4b18-b42a-253a921a5f6b",
        "colab": {
          "base_uri": "https://localhost:8080/",
          "height": 33
        }
      },
      "source": [
        "# importing libraries\n",
        "import pandas as pd\n",
        "import numpy as np\n",
        "import matplotlib.pyplot as plt\n",
        "import seaborn as sns\n",
        "from sklearn.metrics import classification_report,accuracy_score\n",
        "from sklearn.metrics import (confusion_matrix, precision_recall_curve, auc,\n",
        "                             roc_curve, recall_score, classification_report, f1_score,\n",
        "                             precision_recall_fscore_support)\n",
        "from sklearn.model_selection import train_test_split\n",
        "from sklearn.model_selection import StratifiedShuffleSplit\n",
        "from sklearn.model_selection import KFold, StratifiedKFold\n",
        "from sklearn.ensemble import IsolationForest\n",
        "from sklearn.neighbors import LocalOutlierFactor\n",
        "from sklearn.svm import OneClassSVM\n",
        "from sklearn.metrics import confusion_matrix\n",
        "import time\n",
        "import datetime\n",
        "from sklearn.manifold import TSNE\n",
        "from sklearn.decomposition import PCA, TruncatedSVD\n",
        "import matplotlib.patches as mpatches\n",
        "import tensorflow as tf\n",
        "import keras\n",
        "from keras.models import Model, load_model\n",
        "from keras.layers import Input, Dense\n",
        "from keras.callbacks import ModelCheckpoint, TensorBoard\n",
        "from keras import regularizers\n",
        "from sklearn import preprocessing\n",
        "%matplotlib inline"
      ],
      "execution_count": 0,
      "outputs": [
        {
          "output_type": "stream",
          "text": [
            "Using TensorFlow backend.\n"
          ],
          "name": "stderr"
        }
      ]
    },
    {
      "cell_type": "markdown",
      "metadata": {
        "id": "WrGo0tz4p9qC",
        "colab_type": "text"
      },
      "source": [
        "## Question 1: Load\n"
      ]
    },
    {
      "cell_type": "markdown",
      "metadata": {
        "id": "h3dwtjINqewS",
        "colab_type": "text"
      },
      "source": [
        "### Downloading Data Programmatically"
      ]
    },
    {
      "cell_type": "code",
      "metadata": {
        "id": "3t8vz8hQpzhz",
        "colab_type": "code",
        "outputId": "bc56300d-a9cf-40ab-ab42-17725c50e91b",
        "colab": {
          "base_uri": "https://localhost:8080/",
          "height": 277
        }
      },
      "source": [
        "\"\"\"\n",
        "Data exists at: https://github.com/CapitalOneRecruiting/DS/raw/master/transactions.zip\n",
        "\"\"\"\n",
        "\n",
        "#downloading the file\n",
        "!wget -c https://github.com/CapitalOneRecruiting/DS/raw/master/transactions.zip\n"
      ],
      "execution_count": 0,
      "outputs": [
        {
          "output_type": "stream",
          "text": [
            "--2020-03-30 11:52:42--  https://github.com/CapitalOneRecruiting/DS/raw/master/transactions.zip\n",
            "Resolving github.com (github.com)... 140.82.114.4\n",
            "Connecting to github.com (github.com)|140.82.114.4|:443... connected.\n",
            "HTTP request sent, awaiting response... 302 Found\n",
            "Location: https://raw.githubusercontent.com/CapitalOneRecruiting/DS/master/transactions.zip [following]\n",
            "--2020-03-30 11:52:42--  https://raw.githubusercontent.com/CapitalOneRecruiting/DS/master/transactions.zip\n",
            "Resolving raw.githubusercontent.com (raw.githubusercontent.com)... 151.101.0.133, 151.101.64.133, 151.101.128.133, ...\n",
            "Connecting to raw.githubusercontent.com (raw.githubusercontent.com)|151.101.0.133|:443... connected.\n",
            "HTTP request sent, awaiting response... 200 OK\n",
            "Length: 30522086 (29M) [application/zip]\n",
            "Saving to: ‘transactions.zip’\n",
            "\n",
            "transactions.zip    100%[===================>]  29.11M   157MB/s    in 0.2s    \n",
            "\n",
            "2020-03-30 11:52:43 (157 MB/s) - ‘transactions.zip’ saved [30522086/30522086]\n",
            "\n"
          ],
          "name": "stdout"
        }
      ]
    },
    {
      "cell_type": "code",
      "metadata": {
        "id": "J8iFSDDqqzfL",
        "colab_type": "code",
        "colab": {}
      },
      "source": [
        "# extracting the zip file in the current directory\n",
        "import zipfile\n",
        "\n",
        "with zipfile.ZipFile(\"/content/transactions.zip\") as zf:\n",
        "  zf.extractall()\n",
        "  zf.close()"
      ],
      "execution_count": 0,
      "outputs": []
    },
    {
      "cell_type": "code",
      "metadata": {
        "id": "70YFaYDtsmz-",
        "colab_type": "code",
        "outputId": "86a4a592-af86-4213-843b-66536f54948f",
        "colab": {
          "base_uri": "https://localhost:8080/",
          "height": 232
        }
      },
      "source": [
        "# lets preview the file\n",
        "f = open(\"/content/transactions.txt\", \"r\")\n",
        "i=0\n",
        "for elem in f:\n",
        "  print(elem)\n",
        "  i+=1\n",
        "  if i>5:\n",
        "    break\n",
        "f.close()"
      ],
      "execution_count": 0,
      "outputs": [
        {
          "output_type": "stream",
          "text": [
            "{\"accountNumber\": \"737265056\", \"customerId\": \"737265056\", \"creditLimit\": 5000.0, \"availableMoney\": 5000.0, \"transactionDateTime\": \"2016-08-13T14:27:32\", \"transactionAmount\": 98.55, \"merchantName\": \"Uber\", \"acqCountry\": \"US\", \"merchantCountryCode\": \"US\", \"posEntryMode\": \"02\", \"posConditionCode\": \"01\", \"merchantCategoryCode\": \"rideshare\", \"currentExpDate\": \"06/2023\", \"accountOpenDate\": \"2015-03-14\", \"dateOfLastAddressChange\": \"2015-03-14\", \"cardCVV\": \"414\", \"enteredCVV\": \"414\", \"cardLast4Digits\": \"1803\", \"transactionType\": \"PURCHASE\", \"echoBuffer\": \"\", \"currentBalance\": 0.0, \"merchantCity\": \"\", \"merchantState\": \"\", \"merchantZip\": \"\", \"cardPresent\": false, \"posOnPremises\": \"\", \"recurringAuthInd\": \"\", \"expirationDateKeyInMatch\": false, \"isFraud\": false}\n",
            "\n",
            "{\"accountNumber\": \"737265056\", \"customerId\": \"737265056\", \"creditLimit\": 5000.0, \"availableMoney\": 5000.0, \"transactionDateTime\": \"2016-10-11T05:05:54\", \"transactionAmount\": 74.51, \"merchantName\": \"AMC #191138\", \"acqCountry\": \"US\", \"merchantCountryCode\": \"US\", \"posEntryMode\": \"09\", \"posConditionCode\": \"01\", \"merchantCategoryCode\": \"entertainment\", \"cardPresent\": true, \"currentExpDate\": \"02/2024\", \"accountOpenDate\": \"2015-03-14\", \"dateOfLastAddressChange\": \"2015-03-14\", \"cardCVV\": \"486\", \"enteredCVV\": \"486\", \"cardLast4Digits\": \"767\", \"transactionType\": \"PURCHASE\", \"echoBuffer\": \"\", \"currentBalance\": 0.0, \"merchantCity\": \"\", \"merchantState\": \"\", \"merchantZip\": \"\", \"posOnPremises\": \"\", \"recurringAuthInd\": \"\", \"expirationDateKeyInMatch\": false, \"isFraud\": false}\n",
            "\n",
            "{\"accountNumber\": \"737265056\", \"customerId\": \"737265056\", \"creditLimit\": 5000.0, \"availableMoney\": 5000.0, \"transactionDateTime\": \"2016-11-08T09:18:39\", \"transactionAmount\": 7.47, \"merchantName\": \"Play Store\", \"acqCountry\": \"US\", \"merchantCountryCode\": \"US\", \"posEntryMode\": \"09\", \"posConditionCode\": \"01\", \"merchantCategoryCode\": \"mobileapps\", \"currentExpDate\": \"08/2025\", \"accountOpenDate\": \"2015-03-14\", \"dateOfLastAddressChange\": \"2015-03-14\", \"cardCVV\": \"486\", \"enteredCVV\": \"486\", \"cardLast4Digits\": \"767\", \"transactionType\": \"PURCHASE\", \"echoBuffer\": \"\", \"currentBalance\": 0.0, \"merchantCity\": \"\", \"merchantState\": \"\", \"merchantZip\": \"\", \"cardPresent\": false, \"posOnPremises\": \"\", \"recurringAuthInd\": \"\", \"expirationDateKeyInMatch\": false, \"isFraud\": false}\n",
            "\n",
            "{\"accountNumber\": \"737265056\", \"customerId\": \"737265056\", \"creditLimit\": 5000.0, \"availableMoney\": 5000.0, \"transactionDateTime\": \"2016-12-10T02:14:50\", \"transactionAmount\": 7.47, \"merchantName\": \"Play Store\", \"acqCountry\": \"US\", \"merchantCountryCode\": \"US\", \"posEntryMode\": \"09\", \"posConditionCode\": \"01\", \"merchantCategoryCode\": \"mobileapps\", \"currentExpDate\": \"08/2025\", \"accountOpenDate\": \"2015-03-14\", \"dateOfLastAddressChange\": \"2015-03-14\", \"cardCVV\": \"486\", \"enteredCVV\": \"486\", \"cardLast4Digits\": \"767\", \"transactionType\": \"PURCHASE\", \"echoBuffer\": \"\", \"currentBalance\": 0.0, \"merchantCity\": \"\", \"merchantState\": \"\", \"merchantZip\": \"\", \"cardPresent\": false, \"posOnPremises\": \"\", \"recurringAuthInd\": \"\", \"expirationDateKeyInMatch\": false, \"isFraud\": false}\n",
            "\n",
            "{\"accountNumber\": \"830329091\", \"customerId\": \"830329091\", \"creditLimit\": 5000.0, \"availableMoney\": 5000.0, \"transactionDateTime\": \"2016-03-24T21:04:46\", \"transactionAmount\": 71.18, \"merchantName\": \"Tim Hortons #947751\", \"acqCountry\": \"US\", \"merchantCountryCode\": \"US\", \"posEntryMode\": \"02\", \"posConditionCode\": \"01\", \"merchantCategoryCode\": \"fastfood\", \"cardPresent\": true, \"currentExpDate\": \"10/2029\", \"accountOpenDate\": \"2015-08-06\", \"dateOfLastAddressChange\": \"2015-08-06\", \"cardCVV\": \"885\", \"enteredCVV\": \"885\", \"cardLast4Digits\": \"3143\", \"transactionType\": \"PURCHASE\", \"echoBuffer\": \"\", \"currentBalance\": 0.0, \"merchantCity\": \"\", \"merchantState\": \"\", \"merchantZip\": \"\", \"posOnPremises\": \"\", \"recurringAuthInd\": \"\", \"expirationDateKeyInMatch\": false, \"isFraud\": false}\n",
            "\n",
            "{\"accountNumber\": \"830329091\", \"customerId\": \"830329091\", \"creditLimit\": 5000.0, \"availableMoney\": 5000.0, \"transactionDateTime\": \"2016-04-19T16:24:27\", \"transactionAmount\": 30.76, \"merchantName\": \"In-N-Out #422833\", \"acqCountry\": \"US\", \"merchantCountryCode\": \"US\", \"posEntryMode\": \"02\", \"posConditionCode\": \"01\", \"merchantCategoryCode\": \"fastfood\", \"cardPresent\": true, \"currentExpDate\": \"01/2020\", \"accountOpenDate\": \"2015-08-06\", \"dateOfLastAddressChange\": \"2015-08-06\", \"cardCVV\": \"885\", \"enteredCVV\": \"885\", \"cardLast4Digits\": \"3143\", \"transactionType\": \"PURCHASE\", \"echoBuffer\": \"\", \"currentBalance\": 0.0, \"merchantCity\": \"\", \"merchantState\": \"\", \"merchantZip\": \"\", \"posOnPremises\": \"\", \"recurringAuthInd\": \"\", \"expirationDateKeyInMatch\": false, \"isFraud\": false}\n",
            "\n"
          ],
          "name": "stdout"
        }
      ]
    },
    {
      "cell_type": "markdown",
      "metadata": {
        "id": "qALhCrWawvZH",
        "colab_type": "text"
      },
      "source": [
        "we see that the data is smooth enough to be read directly by pandas."
      ]
    },
    {
      "cell_type": "code",
      "metadata": {
        "id": "Ncw4p3Pesm3F",
        "colab_type": "code",
        "outputId": "308ef2bd-c9f8-41dd-9889-b08f84775e6d",
        "colab": {
          "base_uri": "https://localhost:8080/",
          "height": 227
        }
      },
      "source": [
        "# converting the json file to dataframe\n",
        "\n",
        "data = pd.read_json(\"/content/transactions.txt\", lines=True)\n",
        "data.head()"
      ],
      "execution_count": 0,
      "outputs": [
        {
          "output_type": "execute_result",
          "data": {
            "text/html": [
              "<div>\n",
              "<style scoped>\n",
              "    .dataframe tbody tr th:only-of-type {\n",
              "        vertical-align: middle;\n",
              "    }\n",
              "\n",
              "    .dataframe tbody tr th {\n",
              "        vertical-align: top;\n",
              "    }\n",
              "\n",
              "    .dataframe thead th {\n",
              "        text-align: right;\n",
              "    }\n",
              "</style>\n",
              "<table border=\"1\" class=\"dataframe\">\n",
              "  <thead>\n",
              "    <tr style=\"text-align: right;\">\n",
              "      <th></th>\n",
              "      <th>accountNumber</th>\n",
              "      <th>customerId</th>\n",
              "      <th>creditLimit</th>\n",
              "      <th>availableMoney</th>\n",
              "      <th>transactionDateTime</th>\n",
              "      <th>transactionAmount</th>\n",
              "      <th>merchantName</th>\n",
              "      <th>acqCountry</th>\n",
              "      <th>merchantCountryCode</th>\n",
              "      <th>posEntryMode</th>\n",
              "      <th>posConditionCode</th>\n",
              "      <th>merchantCategoryCode</th>\n",
              "      <th>currentExpDate</th>\n",
              "      <th>accountOpenDate</th>\n",
              "      <th>dateOfLastAddressChange</th>\n",
              "      <th>cardCVV</th>\n",
              "      <th>enteredCVV</th>\n",
              "      <th>cardLast4Digits</th>\n",
              "      <th>transactionType</th>\n",
              "      <th>echoBuffer</th>\n",
              "      <th>currentBalance</th>\n",
              "      <th>merchantCity</th>\n",
              "      <th>merchantState</th>\n",
              "      <th>merchantZip</th>\n",
              "      <th>cardPresent</th>\n",
              "      <th>posOnPremises</th>\n",
              "      <th>recurringAuthInd</th>\n",
              "      <th>expirationDateKeyInMatch</th>\n",
              "      <th>isFraud</th>\n",
              "    </tr>\n",
              "  </thead>\n",
              "  <tbody>\n",
              "    <tr>\n",
              "      <th>0</th>\n",
              "      <td>737265056</td>\n",
              "      <td>737265056</td>\n",
              "      <td>5000</td>\n",
              "      <td>5000.0</td>\n",
              "      <td>2016-08-13T14:27:32</td>\n",
              "      <td>98.55</td>\n",
              "      <td>Uber</td>\n",
              "      <td>US</td>\n",
              "      <td>US</td>\n",
              "      <td>02</td>\n",
              "      <td>01</td>\n",
              "      <td>rideshare</td>\n",
              "      <td>06/2023</td>\n",
              "      <td>2015-03-14</td>\n",
              "      <td>2015-03-14</td>\n",
              "      <td>414</td>\n",
              "      <td>414</td>\n",
              "      <td>1803</td>\n",
              "      <td>PURCHASE</td>\n",
              "      <td></td>\n",
              "      <td>0.0</td>\n",
              "      <td></td>\n",
              "      <td></td>\n",
              "      <td></td>\n",
              "      <td>False</td>\n",
              "      <td></td>\n",
              "      <td></td>\n",
              "      <td>False</td>\n",
              "      <td>False</td>\n",
              "    </tr>\n",
              "    <tr>\n",
              "      <th>1</th>\n",
              "      <td>737265056</td>\n",
              "      <td>737265056</td>\n",
              "      <td>5000</td>\n",
              "      <td>5000.0</td>\n",
              "      <td>2016-10-11T05:05:54</td>\n",
              "      <td>74.51</td>\n",
              "      <td>AMC #191138</td>\n",
              "      <td>US</td>\n",
              "      <td>US</td>\n",
              "      <td>09</td>\n",
              "      <td>01</td>\n",
              "      <td>entertainment</td>\n",
              "      <td>02/2024</td>\n",
              "      <td>2015-03-14</td>\n",
              "      <td>2015-03-14</td>\n",
              "      <td>486</td>\n",
              "      <td>486</td>\n",
              "      <td>767</td>\n",
              "      <td>PURCHASE</td>\n",
              "      <td></td>\n",
              "      <td>0.0</td>\n",
              "      <td></td>\n",
              "      <td></td>\n",
              "      <td></td>\n",
              "      <td>True</td>\n",
              "      <td></td>\n",
              "      <td></td>\n",
              "      <td>False</td>\n",
              "      <td>False</td>\n",
              "    </tr>\n",
              "    <tr>\n",
              "      <th>2</th>\n",
              "      <td>737265056</td>\n",
              "      <td>737265056</td>\n",
              "      <td>5000</td>\n",
              "      <td>5000.0</td>\n",
              "      <td>2016-11-08T09:18:39</td>\n",
              "      <td>7.47</td>\n",
              "      <td>Play Store</td>\n",
              "      <td>US</td>\n",
              "      <td>US</td>\n",
              "      <td>09</td>\n",
              "      <td>01</td>\n",
              "      <td>mobileapps</td>\n",
              "      <td>08/2025</td>\n",
              "      <td>2015-03-14</td>\n",
              "      <td>2015-03-14</td>\n",
              "      <td>486</td>\n",
              "      <td>486</td>\n",
              "      <td>767</td>\n",
              "      <td>PURCHASE</td>\n",
              "      <td></td>\n",
              "      <td>0.0</td>\n",
              "      <td></td>\n",
              "      <td></td>\n",
              "      <td></td>\n",
              "      <td>False</td>\n",
              "      <td></td>\n",
              "      <td></td>\n",
              "      <td>False</td>\n",
              "      <td>False</td>\n",
              "    </tr>\n",
              "    <tr>\n",
              "      <th>3</th>\n",
              "      <td>737265056</td>\n",
              "      <td>737265056</td>\n",
              "      <td>5000</td>\n",
              "      <td>5000.0</td>\n",
              "      <td>2016-12-10T02:14:50</td>\n",
              "      <td>7.47</td>\n",
              "      <td>Play Store</td>\n",
              "      <td>US</td>\n",
              "      <td>US</td>\n",
              "      <td>09</td>\n",
              "      <td>01</td>\n",
              "      <td>mobileapps</td>\n",
              "      <td>08/2025</td>\n",
              "      <td>2015-03-14</td>\n",
              "      <td>2015-03-14</td>\n",
              "      <td>486</td>\n",
              "      <td>486</td>\n",
              "      <td>767</td>\n",
              "      <td>PURCHASE</td>\n",
              "      <td></td>\n",
              "      <td>0.0</td>\n",
              "      <td></td>\n",
              "      <td></td>\n",
              "      <td></td>\n",
              "      <td>False</td>\n",
              "      <td></td>\n",
              "      <td></td>\n",
              "      <td>False</td>\n",
              "      <td>False</td>\n",
              "    </tr>\n",
              "    <tr>\n",
              "      <th>4</th>\n",
              "      <td>830329091</td>\n",
              "      <td>830329091</td>\n",
              "      <td>5000</td>\n",
              "      <td>5000.0</td>\n",
              "      <td>2016-03-24T21:04:46</td>\n",
              "      <td>71.18</td>\n",
              "      <td>Tim Hortons #947751</td>\n",
              "      <td>US</td>\n",
              "      <td>US</td>\n",
              "      <td>02</td>\n",
              "      <td>01</td>\n",
              "      <td>fastfood</td>\n",
              "      <td>10/2029</td>\n",
              "      <td>2015-08-06</td>\n",
              "      <td>2015-08-06</td>\n",
              "      <td>885</td>\n",
              "      <td>885</td>\n",
              "      <td>3143</td>\n",
              "      <td>PURCHASE</td>\n",
              "      <td></td>\n",
              "      <td>0.0</td>\n",
              "      <td></td>\n",
              "      <td></td>\n",
              "      <td></td>\n",
              "      <td>True</td>\n",
              "      <td></td>\n",
              "      <td></td>\n",
              "      <td>False</td>\n",
              "      <td>False</td>\n",
              "    </tr>\n",
              "  </tbody>\n",
              "</table>\n",
              "</div>"
            ],
            "text/plain": [
              "   accountNumber  customerId  ...  expirationDateKeyInMatch  isFraud\n",
              "0      737265056   737265056  ...                     False    False\n",
              "1      737265056   737265056  ...                     False    False\n",
              "2      737265056   737265056  ...                     False    False\n",
              "3      737265056   737265056  ...                     False    False\n",
              "4      830329091   830329091  ...                     False    False\n",
              "\n",
              "[5 rows x 29 columns]"
            ]
          },
          "metadata": {
            "tags": []
          },
          "execution_count": 5
        }
      ]
    },
    {
      "cell_type": "code",
      "metadata": {
        "id": "NYRck55daTrx",
        "colab_type": "code",
        "colab": {}
      },
      "source": [
        "# releasing from disk\n",
        "import os\n",
        "os.remove(\"/content/transactions.txt\")\n",
        "os.remove(\"/content/transactions.zip\")"
      ],
      "execution_count": 0,
      "outputs": []
    },
    {
      "cell_type": "markdown",
      "metadata": {
        "id": "2CYdIViKwKkG",
        "colab_type": "text"
      },
      "source": [
        "### Description and Structure of Data"
      ]
    },
    {
      "cell_type": "code",
      "metadata": {
        "id": "XJ2RJOtTsm6r",
        "colab_type": "code",
        "outputId": "ff224bbd-74f4-46d4-debc-16792f7603e3",
        "colab": {
          "base_uri": "https://localhost:8080/",
          "height": 570
        }
      },
      "source": [
        "#basic summary of data\n",
        "data.info()"
      ],
      "execution_count": 0,
      "outputs": [
        {
          "output_type": "stream",
          "text": [
            "<class 'pandas.core.frame.DataFrame'>\n",
            "RangeIndex: 786363 entries, 0 to 786362\n",
            "Data columns (total 29 columns):\n",
            "accountNumber               786363 non-null int64\n",
            "customerId                  786363 non-null int64\n",
            "creditLimit                 786363 non-null int64\n",
            "availableMoney              786363 non-null float64\n",
            "transactionDateTime         786363 non-null object\n",
            "transactionAmount           786363 non-null float64\n",
            "merchantName                786363 non-null object\n",
            "acqCountry                  786363 non-null object\n",
            "merchantCountryCode         786363 non-null object\n",
            "posEntryMode                786363 non-null object\n",
            "posConditionCode            786363 non-null object\n",
            "merchantCategoryCode        786363 non-null object\n",
            "currentExpDate              786363 non-null object\n",
            "accountOpenDate             786363 non-null object\n",
            "dateOfLastAddressChange     786363 non-null object\n",
            "cardCVV                     786363 non-null int64\n",
            "enteredCVV                  786363 non-null int64\n",
            "cardLast4Digits             786363 non-null int64\n",
            "transactionType             786363 non-null object\n",
            "echoBuffer                  786363 non-null object\n",
            "currentBalance              786363 non-null float64\n",
            "merchantCity                786363 non-null object\n",
            "merchantState               786363 non-null object\n",
            "merchantZip                 786363 non-null object\n",
            "cardPresent                 786363 non-null bool\n",
            "posOnPremises               786363 non-null object\n",
            "recurringAuthInd            786363 non-null object\n",
            "expirationDateKeyInMatch    786363 non-null bool\n",
            "isFraud                     786363 non-null bool\n",
            "dtypes: bool(3), float64(3), int64(6), object(17)\n",
            "memory usage: 158.2+ MB\n"
          ],
          "name": "stdout"
        }
      ]
    },
    {
      "cell_type": "code",
      "metadata": {
        "id": "2pAFOd-tyvRW",
        "colab_type": "code",
        "outputId": "de99718d-207e-4964-f0db-ec71a6b503fc",
        "colab": {
          "base_uri": "https://localhost:8080/",
          "height": 33
        }
      },
      "source": [
        "# formally getting total enteries in the dataset\n",
        "len(data)"
      ],
      "execution_count": 0,
      "outputs": [
        {
          "output_type": "execute_result",
          "data": {
            "text/plain": [
              "786363"
            ]
          },
          "metadata": {
            "tags": []
          },
          "execution_count": 8
        }
      ]
    },
    {
      "cell_type": "markdown",
      "metadata": {
        "id": "NQ4rx5G9y36b",
        "colab_type": "text"
      },
      "source": [
        "So there are 786363 records in the file"
      ]
    },
    {
      "cell_type": "code",
      "metadata": {
        "id": "XSHjnD-izCTK",
        "colab_type": "code",
        "outputId": "25824e91-46a2-4932-bde8-5f19c587f0f4",
        "colab": {
          "base_uri": "https://localhost:8080/",
          "height": 33
        }
      },
      "source": [
        "print(\"There are {} fields/columns of each record in the dataset\".format(len(data.columns)))"
      ],
      "execution_count": 0,
      "outputs": [
        {
          "output_type": "stream",
          "text": [
            "There are 29 fields/columns of each record in the dataset\n"
          ],
          "name": "stdout"
        }
      ]
    },
    {
      "cell_type": "markdown",
      "metadata": {
        "id": "mUkzGN-yzyLj",
        "colab_type": "text"
      },
      "source": [
        "### Additional statistics of each column"
      ]
    },
    {
      "cell_type": "code",
      "metadata": {
        "id": "B1KPld_szCZQ",
        "colab_type": "code",
        "outputId": "25caf759-917c-420d-c7a5-4ebe97bc45dd",
        "colab": {
          "base_uri": "https://localhost:8080/",
          "height": 277
        }
      },
      "source": [
        "# getting some numbers for the numerical columns in the dataset\n",
        "data.describe()"
      ],
      "execution_count": 0,
      "outputs": [
        {
          "output_type": "execute_result",
          "data": {
            "text/html": [
              "<div>\n",
              "<style scoped>\n",
              "    .dataframe tbody tr th:only-of-type {\n",
              "        vertical-align: middle;\n",
              "    }\n",
              "\n",
              "    .dataframe tbody tr th {\n",
              "        vertical-align: top;\n",
              "    }\n",
              "\n",
              "    .dataframe thead th {\n",
              "        text-align: right;\n",
              "    }\n",
              "</style>\n",
              "<table border=\"1\" class=\"dataframe\">\n",
              "  <thead>\n",
              "    <tr style=\"text-align: right;\">\n",
              "      <th></th>\n",
              "      <th>accountNumber</th>\n",
              "      <th>customerId</th>\n",
              "      <th>creditLimit</th>\n",
              "      <th>availableMoney</th>\n",
              "      <th>transactionAmount</th>\n",
              "      <th>cardCVV</th>\n",
              "      <th>enteredCVV</th>\n",
              "      <th>cardLast4Digits</th>\n",
              "      <th>currentBalance</th>\n",
              "    </tr>\n",
              "  </thead>\n",
              "  <tbody>\n",
              "    <tr>\n",
              "      <th>count</th>\n",
              "      <td>7.863630e+05</td>\n",
              "      <td>7.863630e+05</td>\n",
              "      <td>786363.000000</td>\n",
              "      <td>786363.000000</td>\n",
              "      <td>786363.000000</td>\n",
              "      <td>786363.000000</td>\n",
              "      <td>786363.000000</td>\n",
              "      <td>786363.000000</td>\n",
              "      <td>786363.000000</td>\n",
              "    </tr>\n",
              "    <tr>\n",
              "      <th>mean</th>\n",
              "      <td>5.372326e+08</td>\n",
              "      <td>5.372326e+08</td>\n",
              "      <td>10759.464459</td>\n",
              "      <td>6250.725369</td>\n",
              "      <td>136.985791</td>\n",
              "      <td>544.467338</td>\n",
              "      <td>544.183857</td>\n",
              "      <td>4757.417799</td>\n",
              "      <td>4508.739089</td>\n",
              "    </tr>\n",
              "    <tr>\n",
              "      <th>std</th>\n",
              "      <td>2.554211e+08</td>\n",
              "      <td>2.554211e+08</td>\n",
              "      <td>11636.174890</td>\n",
              "      <td>8880.783989</td>\n",
              "      <td>147.725569</td>\n",
              "      <td>261.524220</td>\n",
              "      <td>261.551254</td>\n",
              "      <td>2996.583810</td>\n",
              "      <td>6457.442068</td>\n",
              "    </tr>\n",
              "    <tr>\n",
              "      <th>min</th>\n",
              "      <td>1.000881e+08</td>\n",
              "      <td>1.000881e+08</td>\n",
              "      <td>250.000000</td>\n",
              "      <td>-1005.630000</td>\n",
              "      <td>0.000000</td>\n",
              "      <td>100.000000</td>\n",
              "      <td>0.000000</td>\n",
              "      <td>0.000000</td>\n",
              "      <td>0.000000</td>\n",
              "    </tr>\n",
              "    <tr>\n",
              "      <th>25%</th>\n",
              "      <td>3.301333e+08</td>\n",
              "      <td>3.301333e+08</td>\n",
              "      <td>5000.000000</td>\n",
              "      <td>1077.420000</td>\n",
              "      <td>33.650000</td>\n",
              "      <td>310.000000</td>\n",
              "      <td>310.000000</td>\n",
              "      <td>2178.000000</td>\n",
              "      <td>689.910000</td>\n",
              "    </tr>\n",
              "    <tr>\n",
              "      <th>50%</th>\n",
              "      <td>5.074561e+08</td>\n",
              "      <td>5.074561e+08</td>\n",
              "      <td>7500.000000</td>\n",
              "      <td>3184.860000</td>\n",
              "      <td>87.900000</td>\n",
              "      <td>535.000000</td>\n",
              "      <td>535.000000</td>\n",
              "      <td>4733.000000</td>\n",
              "      <td>2451.760000</td>\n",
              "    </tr>\n",
              "    <tr>\n",
              "      <th>75%</th>\n",
              "      <td>7.676200e+08</td>\n",
              "      <td>7.676200e+08</td>\n",
              "      <td>15000.000000</td>\n",
              "      <td>7500.000000</td>\n",
              "      <td>191.480000</td>\n",
              "      <td>785.000000</td>\n",
              "      <td>785.000000</td>\n",
              "      <td>7338.000000</td>\n",
              "      <td>5291.095000</td>\n",
              "    </tr>\n",
              "    <tr>\n",
              "      <th>max</th>\n",
              "      <td>9.993896e+08</td>\n",
              "      <td>9.993896e+08</td>\n",
              "      <td>50000.000000</td>\n",
              "      <td>50000.000000</td>\n",
              "      <td>2011.540000</td>\n",
              "      <td>998.000000</td>\n",
              "      <td>998.000000</td>\n",
              "      <td>9998.000000</td>\n",
              "      <td>47498.810000</td>\n",
              "    </tr>\n",
              "  </tbody>\n",
              "</table>\n",
              "</div>"
            ],
            "text/plain": [
              "       accountNumber    customerId  ...  cardLast4Digits  currentBalance\n",
              "count   7.863630e+05  7.863630e+05  ...    786363.000000   786363.000000\n",
              "mean    5.372326e+08  5.372326e+08  ...      4757.417799     4508.739089\n",
              "std     2.554211e+08  2.554211e+08  ...      2996.583810     6457.442068\n",
              "min     1.000881e+08  1.000881e+08  ...         0.000000        0.000000\n",
              "25%     3.301333e+08  3.301333e+08  ...      2178.000000      689.910000\n",
              "50%     5.074561e+08  5.074561e+08  ...      4733.000000     2451.760000\n",
              "75%     7.676200e+08  7.676200e+08  ...      7338.000000     5291.095000\n",
              "max     9.993896e+08  9.993896e+08  ...      9998.000000    47498.810000\n",
              "\n",
              "[8 rows x 9 columns]"
            ]
          },
          "metadata": {
            "tags": []
          },
          "execution_count": 10
        }
      ]
    },
    {
      "cell_type": "markdown",
      "metadata": {
        "id": "IgLfwZkH21lQ",
        "colab_type": "text"
      },
      "source": [
        "This states the maximum and minimum of each numeric column. For some columns (eg. accountnumber, customerID does not realy make sense, so precaution must be observed using these numbers."
      ]
    },
    {
      "cell_type": "code",
      "metadata": {
        "id": "5J5zpcuvzCcT",
        "colab_type": "code",
        "outputId": "09e347b2-3afe-4121-b94f-a9f9c30ddf4a",
        "colab": {
          "base_uri": "https://localhost:8080/",
          "height": 505
        }
      },
      "source": [
        "# for getting null values\n",
        "data.isnull().sum()"
      ],
      "execution_count": 0,
      "outputs": [
        {
          "output_type": "execute_result",
          "data": {
            "text/plain": [
              "accountNumber               0\n",
              "customerId                  0\n",
              "creditLimit                 0\n",
              "availableMoney              0\n",
              "transactionDateTime         0\n",
              "transactionAmount           0\n",
              "merchantName                0\n",
              "acqCountry                  0\n",
              "merchantCountryCode         0\n",
              "posEntryMode                0\n",
              "posConditionCode            0\n",
              "merchantCategoryCode        0\n",
              "currentExpDate              0\n",
              "accountOpenDate             0\n",
              "dateOfLastAddressChange     0\n",
              "cardCVV                     0\n",
              "enteredCVV                  0\n",
              "cardLast4Digits             0\n",
              "transactionType             0\n",
              "echoBuffer                  0\n",
              "currentBalance              0\n",
              "merchantCity                0\n",
              "merchantState               0\n",
              "merchantZip                 0\n",
              "cardPresent                 0\n",
              "posOnPremises               0\n",
              "recurringAuthInd            0\n",
              "expirationDateKeyInMatch    0\n",
              "isFraud                     0\n",
              "dtype: int64"
            ]
          },
          "metadata": {
            "tags": []
          },
          "execution_count": 11
        }
      ]
    },
    {
      "cell_type": "markdown",
      "metadata": {
        "id": "pC5V-9Gk2z0e",
        "colab_type": "text"
      },
      "source": [
        "So there are no null values in the dataframe (in the numeric columns). but we need to check for the 'object' type columns to see if they have null values.\n",
        "\n",
        "\n"
      ]
    },
    {
      "cell_type": "markdown",
      "metadata": {
        "id": "eMtMfLZY4MOQ",
        "colab_type": "text"
      },
      "source": [
        "Agrregating some categorical data to perform further analysis:"
      ]
    },
    {
      "cell_type": "code",
      "metadata": {
        "id": "MELV598t2zDE",
        "colab_type": "code",
        "outputId": "5a7ffebc-f2ca-411a-be72-44108c7b8514",
        "colab": {
          "base_uri": "https://localhost:8080/",
          "height": 227
        }
      },
      "source": [
        "# data with type==object\n",
        "data_obj = data.select_dtypes(include=['object', \"bool\"])\n",
        "data_obj.head()"
      ],
      "execution_count": 0,
      "outputs": [
        {
          "output_type": "execute_result",
          "data": {
            "text/html": [
              "<div>\n",
              "<style scoped>\n",
              "    .dataframe tbody tr th:only-of-type {\n",
              "        vertical-align: middle;\n",
              "    }\n",
              "\n",
              "    .dataframe tbody tr th {\n",
              "        vertical-align: top;\n",
              "    }\n",
              "\n",
              "    .dataframe thead th {\n",
              "        text-align: right;\n",
              "    }\n",
              "</style>\n",
              "<table border=\"1\" class=\"dataframe\">\n",
              "  <thead>\n",
              "    <tr style=\"text-align: right;\">\n",
              "      <th></th>\n",
              "      <th>transactionDateTime</th>\n",
              "      <th>merchantName</th>\n",
              "      <th>acqCountry</th>\n",
              "      <th>merchantCountryCode</th>\n",
              "      <th>posEntryMode</th>\n",
              "      <th>posConditionCode</th>\n",
              "      <th>merchantCategoryCode</th>\n",
              "      <th>currentExpDate</th>\n",
              "      <th>accountOpenDate</th>\n",
              "      <th>dateOfLastAddressChange</th>\n",
              "      <th>transactionType</th>\n",
              "      <th>echoBuffer</th>\n",
              "      <th>merchantCity</th>\n",
              "      <th>merchantState</th>\n",
              "      <th>merchantZip</th>\n",
              "      <th>cardPresent</th>\n",
              "      <th>posOnPremises</th>\n",
              "      <th>recurringAuthInd</th>\n",
              "      <th>expirationDateKeyInMatch</th>\n",
              "      <th>isFraud</th>\n",
              "    </tr>\n",
              "  </thead>\n",
              "  <tbody>\n",
              "    <tr>\n",
              "      <th>0</th>\n",
              "      <td>2016-08-13T14:27:32</td>\n",
              "      <td>Uber</td>\n",
              "      <td>US</td>\n",
              "      <td>US</td>\n",
              "      <td>02</td>\n",
              "      <td>01</td>\n",
              "      <td>rideshare</td>\n",
              "      <td>06/2023</td>\n",
              "      <td>2015-03-14</td>\n",
              "      <td>2015-03-14</td>\n",
              "      <td>PURCHASE</td>\n",
              "      <td></td>\n",
              "      <td></td>\n",
              "      <td></td>\n",
              "      <td></td>\n",
              "      <td>False</td>\n",
              "      <td></td>\n",
              "      <td></td>\n",
              "      <td>False</td>\n",
              "      <td>False</td>\n",
              "    </tr>\n",
              "    <tr>\n",
              "      <th>1</th>\n",
              "      <td>2016-10-11T05:05:54</td>\n",
              "      <td>AMC #191138</td>\n",
              "      <td>US</td>\n",
              "      <td>US</td>\n",
              "      <td>09</td>\n",
              "      <td>01</td>\n",
              "      <td>entertainment</td>\n",
              "      <td>02/2024</td>\n",
              "      <td>2015-03-14</td>\n",
              "      <td>2015-03-14</td>\n",
              "      <td>PURCHASE</td>\n",
              "      <td></td>\n",
              "      <td></td>\n",
              "      <td></td>\n",
              "      <td></td>\n",
              "      <td>True</td>\n",
              "      <td></td>\n",
              "      <td></td>\n",
              "      <td>False</td>\n",
              "      <td>False</td>\n",
              "    </tr>\n",
              "    <tr>\n",
              "      <th>2</th>\n",
              "      <td>2016-11-08T09:18:39</td>\n",
              "      <td>Play Store</td>\n",
              "      <td>US</td>\n",
              "      <td>US</td>\n",
              "      <td>09</td>\n",
              "      <td>01</td>\n",
              "      <td>mobileapps</td>\n",
              "      <td>08/2025</td>\n",
              "      <td>2015-03-14</td>\n",
              "      <td>2015-03-14</td>\n",
              "      <td>PURCHASE</td>\n",
              "      <td></td>\n",
              "      <td></td>\n",
              "      <td></td>\n",
              "      <td></td>\n",
              "      <td>False</td>\n",
              "      <td></td>\n",
              "      <td></td>\n",
              "      <td>False</td>\n",
              "      <td>False</td>\n",
              "    </tr>\n",
              "    <tr>\n",
              "      <th>3</th>\n",
              "      <td>2016-12-10T02:14:50</td>\n",
              "      <td>Play Store</td>\n",
              "      <td>US</td>\n",
              "      <td>US</td>\n",
              "      <td>09</td>\n",
              "      <td>01</td>\n",
              "      <td>mobileapps</td>\n",
              "      <td>08/2025</td>\n",
              "      <td>2015-03-14</td>\n",
              "      <td>2015-03-14</td>\n",
              "      <td>PURCHASE</td>\n",
              "      <td></td>\n",
              "      <td></td>\n",
              "      <td></td>\n",
              "      <td></td>\n",
              "      <td>False</td>\n",
              "      <td></td>\n",
              "      <td></td>\n",
              "      <td>False</td>\n",
              "      <td>False</td>\n",
              "    </tr>\n",
              "    <tr>\n",
              "      <th>4</th>\n",
              "      <td>2016-03-24T21:04:46</td>\n",
              "      <td>Tim Hortons #947751</td>\n",
              "      <td>US</td>\n",
              "      <td>US</td>\n",
              "      <td>02</td>\n",
              "      <td>01</td>\n",
              "      <td>fastfood</td>\n",
              "      <td>10/2029</td>\n",
              "      <td>2015-08-06</td>\n",
              "      <td>2015-08-06</td>\n",
              "      <td>PURCHASE</td>\n",
              "      <td></td>\n",
              "      <td></td>\n",
              "      <td></td>\n",
              "      <td></td>\n",
              "      <td>True</td>\n",
              "      <td></td>\n",
              "      <td></td>\n",
              "      <td>False</td>\n",
              "      <td>False</td>\n",
              "    </tr>\n",
              "  </tbody>\n",
              "</table>\n",
              "</div>"
            ],
            "text/plain": [
              "   transactionDateTime         merchantName  ... expirationDateKeyInMatch isFraud\n",
              "0  2016-08-13T14:27:32                 Uber  ...                    False   False\n",
              "1  2016-10-11T05:05:54          AMC #191138  ...                    False   False\n",
              "2  2016-11-08T09:18:39           Play Store  ...                    False   False\n",
              "3  2016-12-10T02:14:50           Play Store  ...                    False   False\n",
              "4  2016-03-24T21:04:46  Tim Hortons #947751  ...                    False   False\n",
              "\n",
              "[5 rows x 20 columns]"
            ]
          },
          "metadata": {
            "tags": []
          },
          "execution_count": 12
        }
      ]
    },
    {
      "cell_type": "code",
      "metadata": {
        "id": "ts6fI3l1zCfm",
        "colab_type": "code",
        "outputId": "302ccc5f-6a4a-4123-e53c-08acc46942ba",
        "colab": {
          "base_uri": "https://localhost:8080/",
          "height": 358
        }
      },
      "source": [
        "data_obj.applymap(lambda x: x == '').sum()"
      ],
      "execution_count": 0,
      "outputs": [
        {
          "output_type": "execute_result",
          "data": {
            "text/plain": [
              "transactionDateTime              0\n",
              "merchantName                     0\n",
              "acqCountry                    4562\n",
              "merchantCountryCode            724\n",
              "posEntryMode                  4054\n",
              "posConditionCode               409\n",
              "merchantCategoryCode             0\n",
              "currentExpDate                   0\n",
              "accountOpenDate                  0\n",
              "dateOfLastAddressChange          0\n",
              "transactionType                698\n",
              "echoBuffer                  786363\n",
              "merchantCity                786363\n",
              "merchantState               786363\n",
              "merchantZip                 786363\n",
              "cardPresent                      0\n",
              "posOnPremises               786363\n",
              "recurringAuthInd            786363\n",
              "expirationDateKeyInMatch         0\n",
              "isFraud                          0\n",
              "dtype: int64"
            ]
          },
          "metadata": {
            "tags": []
          },
          "execution_count": 13
        }
      ]
    },
    {
      "cell_type": "markdown",
      "metadata": {
        "id": "QSwrlPbo6yeB",
        "colab_type": "text"
      },
      "source": [
        "So there are a lot of Null values in the object columns. Since they are categorical columns, they would be treated as categories."
      ]
    },
    {
      "cell_type": "markdown",
      "metadata": {
        "id": "uj2kHrd0KKnN",
        "colab_type": "text"
      },
      "source": [
        "Dealing with each of these columns individually:\n",
        "\n",
        "1. merchantName"
      ]
    },
    {
      "cell_type": "code",
      "metadata": {
        "id": "C6fDYaJ5zCiE",
        "colab_type": "code",
        "outputId": "da83210b-edd1-4d5d-8623-7a06210cefee",
        "colab": {
          "base_uri": "https://localhost:8080/",
          "height": 212
        }
      },
      "source": [
        "data_obj[\"merchantName\"].value_counts()"
      ],
      "execution_count": 0,
      "outputs": [
        {
          "output_type": "execute_result",
          "data": {
            "text/plain": [
              "Uber                             25613\n",
              "Lyft                             25523\n",
              "oldnavy.com                      16992\n",
              "staples.com                      16980\n",
              "alibaba.com                      16959\n",
              "                                 ...  \n",
              "Sprint Communications #561941        2\n",
              "Boost Mobile #104815                 2\n",
              "Curves #849125                       1\n",
              "EZ Wireless #149871                  1\n",
              "TMobile Wireless #602341             1\n",
              "Name: merchantName, Length: 2490, dtype: int64"
            ]
          },
          "metadata": {
            "tags": []
          },
          "execution_count": 14
        }
      ]
    },
    {
      "cell_type": "markdown",
      "metadata": {
        "id": "Fmi8lOxDMzZE",
        "colab_type": "text"
      },
      "source": [
        "A lot of catrgories. Text processing can be done on this column to give meaningful results.\n",
        "\n",
        "2. acqCountry"
      ]
    },
    {
      "cell_type": "code",
      "metadata": {
        "id": "Q-Qw1uWYzClC",
        "colab_type": "code",
        "outputId": "2b09f63f-b67f-437d-8f1f-d1110620315f",
        "colab": {
          "base_uri": "https://localhost:8080/",
          "height": 115
        }
      },
      "source": [
        "data_obj[\"acqCountry\"].value_counts()"
      ],
      "execution_count": 0,
      "outputs": [
        {
          "output_type": "execute_result",
          "data": {
            "text/plain": [
              "US     774709\n",
              "         4562\n",
              "MEX      3130\n",
              "CAN      2424\n",
              "PR       1538\n",
              "Name: acqCountry, dtype: int64"
            ]
          },
          "metadata": {
            "tags": []
          },
          "execution_count": 15
        }
      ]
    },
    {
      "cell_type": "markdown",
      "metadata": {
        "id": "jOSZR0lfNHps",
        "colab_type": "text"
      },
      "source": [
        "3. merchantCountryCode"
      ]
    },
    {
      "cell_type": "code",
      "metadata": {
        "id": "fA9RDPqPK-tF",
        "colab_type": "code",
        "outputId": "44bdbbce-0a69-4da6-e4dd-0b3cc631f29d",
        "colab": {
          "base_uri": "https://localhost:8080/",
          "height": 115
        }
      },
      "source": [
        "data_obj[\"merchantCountryCode\"].value_counts()"
      ],
      "execution_count": 0,
      "outputs": [
        {
          "output_type": "execute_result",
          "data": {
            "text/plain": [
              "US     778511\n",
              "MEX      3143\n",
              "CAN      2426\n",
              "PR       1559\n",
              "          724\n",
              "Name: merchantCountryCode, dtype: int64"
            ]
          },
          "metadata": {
            "tags": []
          },
          "execution_count": 16
        }
      ]
    },
    {
      "cell_type": "markdown",
      "metadata": {
        "id": "7AoQwbHHNJke",
        "colab_type": "text"
      },
      "source": [
        "4. posEntryMode"
      ]
    },
    {
      "cell_type": "code",
      "metadata": {
        "id": "fuLOwhETLEr7",
        "colab_type": "code",
        "outputId": "038ea328-7d2d-4776-d5c1-7afe15467dbe",
        "colab": {
          "base_uri": "https://localhost:8080/",
          "height": 131
        }
      },
      "source": [
        "data_obj[\"posEntryMode\"].value_counts()"
      ],
      "execution_count": 0,
      "outputs": [
        {
          "output_type": "execute_result",
          "data": {
            "text/plain": [
              "05    315035\n",
              "09    236481\n",
              "02    195934\n",
              "90     19576\n",
              "80     15283\n",
              "        4054\n",
              "Name: posEntryMode, dtype: int64"
            ]
          },
          "metadata": {
            "tags": []
          },
          "execution_count": 17
        }
      ]
    },
    {
      "cell_type": "markdown",
      "metadata": {
        "id": "4fhp00dcNQn4",
        "colab_type": "text"
      },
      "source": [
        "5. posConditionCode"
      ]
    },
    {
      "cell_type": "code",
      "metadata": {
        "id": "9aFDQS_DLLVn",
        "colab_type": "code",
        "outputId": "32733c03-c1f4-48c9-fffd-6707fb9cbe93",
        "colab": {
          "base_uri": "https://localhost:8080/",
          "height": 98
        }
      },
      "source": [
        "data_obj[\"posConditionCode\"].value_counts()"
      ],
      "execution_count": 0,
      "outputs": [
        {
          "output_type": "execute_result",
          "data": {
            "text/plain": [
              "01    628787\n",
              "08    149634\n",
              "99      7533\n",
              "         409\n",
              "Name: posConditionCode, dtype: int64"
            ]
          },
          "metadata": {
            "tags": []
          },
          "execution_count": 18
        }
      ]
    },
    {
      "cell_type": "markdown",
      "metadata": {
        "id": "-im36XY8NTeU",
        "colab_type": "text"
      },
      "source": [
        "6. merchantCategoryCode"
      ]
    },
    {
      "cell_type": "code",
      "metadata": {
        "id": "D35UW-_GLUgA",
        "colab_type": "code",
        "outputId": "8f872e60-0ad8-4d33-892a-d5ccaa5ccaf5",
        "colab": {
          "base_uri": "https://localhost:8080/",
          "height": 342
        }
      },
      "source": [
        "data_obj[\"merchantCategoryCode\"].value_counts()"
      ],
      "execution_count": 0,
      "outputs": [
        {
          "output_type": "execute_result",
          "data": {
            "text/plain": [
              "online_retail           202156\n",
              "fastfood                112138\n",
              "entertainment            80098\n",
              "food                     75490\n",
              "online_gifts             66238\n",
              "rideshare                51136\n",
              "hotels                   34097\n",
              "fuel                     23910\n",
              "subscriptions            22901\n",
              "auto                     21651\n",
              "health                   19092\n",
              "personal care            18964\n",
              "airline                  15412\n",
              "mobileapps               14990\n",
              "online_subscriptions     11067\n",
              "furniture                 7432\n",
              "food_delivery             6000\n",
              "gym                       2209\n",
              "cable/phone               1382\n",
              "Name: merchantCategoryCode, dtype: int64"
            ]
          },
          "metadata": {
            "tags": []
          },
          "execution_count": 19
        }
      ]
    },
    {
      "cell_type": "markdown",
      "metadata": {
        "id": "MxCIlRfQNXUt",
        "colab_type": "text"
      },
      "source": [
        "7. transactionType"
      ]
    },
    {
      "cell_type": "code",
      "metadata": {
        "id": "8-cFtSVfLVaq",
        "colab_type": "code",
        "outputId": "ebbf78b0-0b26-4d53-b26b-9e48f06ffb05",
        "colab": {
          "base_uri": "https://localhost:8080/",
          "height": 98
        }
      },
      "source": [
        "data_obj[\"transactionType\"].value_counts()"
      ],
      "execution_count": 0,
      "outputs": [
        {
          "output_type": "execute_result",
          "data": {
            "text/plain": [
              "PURCHASE                745193\n",
              "REVERSAL                 20303\n",
              "ADDRESS_VERIFICATION     20169\n",
              "                           698\n",
              "Name: transactionType, dtype: int64"
            ]
          },
          "metadata": {
            "tags": []
          },
          "execution_count": 20
        }
      ]
    },
    {
      "cell_type": "markdown",
      "metadata": {
        "id": "fLU-6_fwNfRL",
        "colab_type": "text"
      },
      "source": [
        "8. echoBuffer, merchantCity, merchantState, posOnPremises, recurringAuthInd.\n",
        "\n",
        "All are empty as shown below. These columns can be dropped."
      ]
    },
    {
      "cell_type": "code",
      "metadata": {
        "id": "B8sa9sb7LVeA",
        "colab_type": "code",
        "outputId": "09fb3f62-6299-4a32-f554-793e1af757ed",
        "colab": {
          "base_uri": "https://localhost:8080/",
          "height": 180
        }
      },
      "source": [
        "print(data_obj[\"echoBuffer\"].value_counts(), \"\\n\",\\\n",
        "    data_obj[\"merchantCity\"].value_counts(), \"\\n\",\\\n",
        "    data_obj[\"merchantState\"].value_counts(), \"\\n\",\\\n",
        "    data_obj[\"posOnPremises\"].value_counts(), \"\\n\",\\\n",
        "    data_obj[\"recurringAuthInd\"].value_counts())"
      ],
      "execution_count": 0,
      "outputs": [
        {
          "output_type": "stream",
          "text": [
            "    786363\n",
            "Name: echoBuffer, dtype: int64 \n",
            "     786363\n",
            "Name: merchantCity, dtype: int64 \n",
            "     786363\n",
            "Name: merchantState, dtype: int64 \n",
            "     786363\n",
            "Name: posOnPremises, dtype: int64 \n",
            "     786363\n",
            "Name: recurringAuthInd, dtype: int64\n"
          ],
          "name": "stdout"
        }
      ]
    },
    {
      "cell_type": "code",
      "metadata": {
        "id": "oY3UgMFpZZY3",
        "colab_type": "code",
        "colab": {}
      },
      "source": [
        "data = data.drop([\"echoBuffer\", \"merchantCity\", \"merchantState\", \"posOnPremises\", \"recurringAuthInd\"], axis=1)"
      ],
      "execution_count": 0,
      "outputs": []
    },
    {
      "cell_type": "markdown",
      "metadata": {
        "id": "kRToEyE7OWrv",
        "colab_type": "text"
      },
      "source": [
        "For the Boolean columns, lets check the distributions"
      ]
    },
    {
      "cell_type": "code",
      "metadata": {
        "id": "vZUvv0olL00q",
        "colab_type": "code",
        "outputId": "a21a61e9-038d-4bb4-dab9-f1d2f71569de",
        "colab": {
          "base_uri": "https://localhost:8080/",
          "height": 163
        }
      },
      "source": [
        "print(data_obj[\"cardPresent\"].value_counts(), \"\\n\",\\\n",
        " data_obj[\"expirationDateKeyInMatch\"].value_counts(), \"\\n\",\\\n",
        " data_obj[\"isFraud\"].value_counts())"
      ],
      "execution_count": 0,
      "outputs": [
        {
          "output_type": "stream",
          "text": [
            "False    433495\n",
            "True     352868\n",
            "Name: cardPresent, dtype: int64 \n",
            " False    785320\n",
            "True       1043\n",
            "Name: expirationDateKeyInMatch, dtype: int64 \n",
            " False    773946\n",
            "True      12417\n",
            "Name: isFraud, dtype: int64\n"
          ],
          "name": "stdout"
        }
      ]
    },
    {
      "cell_type": "code",
      "metadata": {
        "id": "ToA-L8UXOwif",
        "colab_type": "code",
        "colab": {}
      },
      "source": [
        "# clearning the disk\n",
        "del data_obj"
      ],
      "execution_count": 0,
      "outputs": []
    },
    {
      "cell_type": "markdown",
      "metadata": {
        "id": "W3_YgbzXRjuh",
        "colab_type": "text"
      },
      "source": [
        "Dealing with the time series data now:\n",
        "\n",
        "1. transactionDateTime\n",
        "2. currentExpDate\t\n",
        "3. accountOpenDate\t\n",
        "4. dateOfLastAddressChange"
      ]
    },
    {
      "cell_type": "code",
      "metadata": {
        "id": "6VjCn8RVR2yy",
        "colab_type": "code",
        "outputId": "cf65e60b-57bf-46f4-e486-a9ac70124ded",
        "colab": {
          "base_uri": "https://localhost:8080/",
          "height": 33
        }
      },
      "source": [
        "# for transactionDateTime\n",
        "converted_transactionDateTime = list(map(datetime.datetime.strptime, data[\"transactionDateTime\"], len(data[\"transactionDateTime\"])*['%Y-%m-%dT%H:%M:%S']))\n",
        "data[\"transactionDateTime\"] = converted_transactionDateTime\n",
        "print(\"Start and end dates of the recordings are {} and {}\".format(min(converted_transactionDateTime), max(converted_transactionDateTime)))"
      ],
      "execution_count": 0,
      "outputs": [
        {
          "output_type": "stream",
          "text": [
            "Start and end dates of the recordings are 2016-01-01 00:01:02 and 2016-12-30 23:59:45\n"
          ],
          "name": "stdout"
        }
      ]
    },
    {
      "cell_type": "code",
      "metadata": {
        "id": "uxfBfVG5xx9G",
        "colab_type": "code",
        "outputId": "2b8b8505-21ce-4b1f-9145-87e5a7429d10",
        "colab": {
          "base_uri": "https://localhost:8080/",
          "height": 33
        }
      },
      "source": [
        "converted_expdate = list(map(datetime.datetime.strptime, data[\"currentExpDate\"], len(data[\"currentExpDate\"])*['%m/%Y']))\n",
        "data[\"currentExpDate\"] = converted_expdate\n",
        "print(\"Start and end dates of the recordings are {} and {}\".format(min(converted_expdate).strftime('%m/%Y'), max(converted_expdate).strftime('%m/%Y')))"
      ],
      "execution_count": 0,
      "outputs": [
        {
          "output_type": "stream",
          "text": [
            "Start and end dates of the recordings are 12/2019 and 08/2033\n"
          ],
          "name": "stdout"
        }
      ]
    },
    {
      "cell_type": "code",
      "metadata": {
        "id": "9NAdkv9PxyDu",
        "colab_type": "code",
        "outputId": "f9c31687-3499-406b-e067-60a3251460e6",
        "colab": {
          "base_uri": "https://localhost:8080/",
          "height": 33
        }
      },
      "source": [
        "converted_accountOpenDate = list(map(datetime.datetime.strptime, data[\"accountOpenDate\"], len(data[\"accountOpenDate\"])*['%Y-%m-%d']))\n",
        "data[\"accountOpenDate\"] = converted_accountOpenDate\n",
        "print(\"Start and end dates of the recordings are {} and {}\".format(min(converted_accountOpenDate).strftime('%Y-%m-%d'), max(converted_accountOpenDate).strftime('%Y-%m-%d')))"
      ],
      "execution_count": 0,
      "outputs": [
        {
          "output_type": "stream",
          "text": [
            "Start and end dates of the recordings are 1989-08-22 and 2015-12-31\n"
          ],
          "name": "stdout"
        }
      ]
    },
    {
      "cell_type": "code",
      "metadata": {
        "id": "nR4gkH9KxyH0",
        "colab_type": "code",
        "outputId": "3b2bd5a8-86d4-4028-f46d-6df7f02e3c12",
        "colab": {
          "base_uri": "https://localhost:8080/",
          "height": 33
        }
      },
      "source": [
        "converted_LastAddressChange = list(map(datetime.datetime.strptime, data[\"dateOfLastAddressChange\"], len(data[\"dateOfLastAddressChange\"])*['%Y-%m-%d']))\n",
        "data[\"dateOfLastAddressChange\"] = converted_LastAddressChange\n",
        "print(\"Start and end dates of the recordings are {} and {}\".format(min(converted_LastAddressChange).strftime('%Y-%m-%d'), max(converted_LastAddressChange).strftime('%Y-%m-%d')))"
      ],
      "execution_count": 0,
      "outputs": [
        {
          "output_type": "stream",
          "text": [
            "Start and end dates of the recordings are 1989-08-22 and 2016-12-30\n"
          ],
          "name": "stdout"
        }
      ]
    },
    {
      "cell_type": "markdown",
      "metadata": {
        "id": "iwyklS8C00JB",
        "colab_type": "text"
      },
      "source": [
        "## Question 2: Plot"
      ]
    },
    {
      "cell_type": "markdown",
      "metadata": {
        "id": "-TyPDRB707yF",
        "colab_type": "text"
      },
      "source": [
        "### Plot a histogram of the processed amounts of each transaction, the transactionAmount column"
      ]
    },
    {
      "cell_type": "code",
      "metadata": {
        "id": "rsgD-3_f1H2z",
        "colab_type": "code",
        "outputId": "2bc2e1af-37d7-4813-8e5d-532920e9ff43",
        "colab": {
          "base_uri": "https://localhost:8080/",
          "height": 427
        }
      },
      "source": [
        "# using matplotlib's histogram function \n",
        "from matplotlib.pyplot import figure\n",
        "figure(num=None, figsize=(8, 6), dpi=80, facecolor='w', edgecolor='k')\n",
        "histogram, bin_list, _ = plt.hist(data[\"transactionAmount\"], bins=30)\n",
        "plt.xlabel(\"Transaction ammounts\")\n",
        "plt.ylabel(\"counts\")\n",
        "plt.show()"
      ],
      "execution_count": 0,
      "outputs": [
        {
          "output_type": "display_data",
          "data": {
            "image/png": "[encoded data removed]",
            "text/plain": [
              "<Figure size 640x480 with 1 Axes>"
            ]
          },
          "metadata": {
            "tags": []
          }
        }
      ]
    },
    {
      "cell_type": "markdown",
      "metadata": {
        "id": "a_YZI1KeIn_7",
        "colab_type": "text"
      },
      "source": [
        "### Report any structure you find and any hypotheses you have about that structure."
      ]
    },
    {
      "cell_type": "markdown",
      "metadata": {
        "id": "Ne9tH0pE7Jqe",
        "colab_type": "text"
      },
      "source": [
        "As we see the distribution is highly skewed to the right. A logrithmic transformation might work here but should be tested."
      ]
    },
    {
      "cell_type": "code",
      "metadata": {
        "id": "1_RodnOoBX02",
        "colab_type": "code",
        "outputId": "29722302-e65d-4829-92c9-acb8c1564a34",
        "colab": {
          "base_uri": "https://localhost:8080/",
          "height": 147
        }
      },
      "source": [
        "bin_list"
      ],
      "execution_count": 0,
      "outputs": [
        {
          "output_type": "execute_result",
          "data": {
            "text/plain": [
              "array([   0.        ,   67.05133333,  134.10266667,  201.154     ,\n",
              "        268.20533333,  335.25666667,  402.308     ,  469.35933333,\n",
              "        536.41066667,  603.462     ,  670.51333333,  737.56466667,\n",
              "        804.616     ,  871.66733333,  938.71866667, 1005.77      ,\n",
              "       1072.82133333, 1139.87266667, 1206.924     , 1273.97533333,\n",
              "       1341.02666667, 1408.078     , 1475.12933333, 1542.18066667,\n",
              "       1609.232     , 1676.28333333, 1743.33466667, 1810.386     ,\n",
              "       1877.43733333, 1944.48866667, 2011.54      ])"
            ]
          },
          "metadata": {
            "tags": []
          },
          "execution_count": 30
        }
      ]
    },
    {
      "cell_type": "code",
      "metadata": {
        "id": "bwLkW4gCEj-2",
        "colab_type": "code",
        "outputId": "3df4e3c9-223b-4466-df1f-c66b077eaac5",
        "colab": {
          "base_uri": "https://localhost:8080/",
          "height": 33
        }
      },
      "source": [
        "# removing 0 from the scale as log(0)=infinity and finding the minimum value for start of bins\n",
        "\n",
        "temp_list = list(filter(lambda a: a != 0., data[\"transactionAmount\"]))\n",
        "min(temp_list)"
      ],
      "execution_count": 0,
      "outputs": [
        {
          "output_type": "execute_result",
          "data": {
            "text/plain": [
              "0.01"
            ]
          },
          "metadata": {
            "tags": []
          },
          "execution_count": 31
        }
      ]
    },
    {
      "cell_type": "markdown",
      "metadata": {
        "id": "YgT6YaqXIQMu",
        "colab_type": "text"
      },
      "source": [
        "Transforming with log base 10"
      ]
    },
    {
      "cell_type": "code",
      "metadata": {
        "id": "Bvn-AoB_83Lw",
        "colab_type": "code",
        "outputId": "879bfda1-3765-41ce-f8bd-a7d981b9fbe4",
        "colab": {
          "base_uri": "https://localhost:8080/",
          "height": 450
        }
      },
      "source": [
        "figure(num=None, figsize=(8, 6), dpi=80, facecolor='w', edgecolor='k')\n",
        "plt.hist(temp_list, bins=np.logspace(np.log10(0.01),np.log10(bin_list[-1]),len(bin_list)))\n",
        "plt.xscale('log')\n",
        "plt.xlabel(\"Log transformed Transaction amounts\")\n",
        "plt.ylabel(\"counts\")\n"
      ],
      "execution_count": 0,
      "outputs": [
        {
          "output_type": "execute_result",
          "data": {
            "text/plain": [
              "Text(0, 0.5, 'counts')"
            ]
          },
          "metadata": {
            "tags": []
          },
          "execution_count": 32
        },
        {
          "output_type": "display_data",
          "data": {
            "image/png": "[encoded data removed]",
            "text/plain": [
              "<Figure size 640x480 with 1 Axes>"
            ]
          },
          "metadata": {
            "tags": []
          }
        }
      ]
    },
    {
      "cell_type": "markdown",
      "metadata": {
        "id": "PoQ5TyKEIWaK",
        "colab_type": "text"
      },
      "source": [
        "Transforming with natural log"
      ]
    },
    {
      "cell_type": "code",
      "metadata": {
        "id": "ulVNns_783PB",
        "colab_type": "code",
        "outputId": "0ac6e281-c39d-41bc-99da-b4805450884d",
        "colab": {
          "base_uri": "https://localhost:8080/",
          "height": 450
        }
      },
      "source": [
        "figure(num=None, figsize=(8, 6), dpi=80, facecolor='w', edgecolor='k')\n",
        "plt.hist(temp_list, bins=np.logspace(np.log(0.01),np.log(bin_list[-1]),len(bin_list)))\n",
        "plt.xscale('log', )\n",
        "plt.xlabel(\"Log transformed Transaction amounts\")\n",
        "plt.ylabel(\"counts\")"
      ],
      "execution_count": 0,
      "outputs": [
        {
          "output_type": "execute_result",
          "data": {
            "text/plain": [
              "Text(0, 0.5, 'counts')"
            ]
          },
          "metadata": {
            "tags": []
          },
          "execution_count": 33
        },
        {
          "output_type": "display_data",
          "data": {
            "image/png": "[encoded data removed]",
            "text/plain": [
              "<Figure size 640x480 with 1 Axes>"
            ]
          },
          "metadata": {
            "tags": []
          }
        }
      ]
    },
    {
      "cell_type": "markdown",
      "metadata": {
        "id": "lcsNsCoOIY0N",
        "colab_type": "text"
      },
      "source": [
        "Natural log transformation bring the distribution more close to a gaussian distribution."
      ]
    },
    {
      "cell_type": "markdown",
      "metadata": {
        "id": "z5Bj2cTcIvrT",
        "colab_type": "text"
      },
      "source": [
        "## Question 3: Data Wrangling - Duplicate Transactions"
      ]
    },
    {
      "cell_type": "markdown",
      "metadata": {
        "id": "vxMgB-X2I0uG",
        "colab_type": "text"
      },
      "source": [
        "### Can you programmatically identify reversed and multi-swipe transactions?"
      ]
    },
    {
      "cell_type": "markdown",
      "metadata": {
        "id": "GbVLc0AoMEK1",
        "colab_type": "text"
      },
      "source": [
        "Firstly, lets define duplicated transactions. For a duplicated transaction all of the following fields to stay the same:\n",
        "\n",
        "\"accountNumber\", \"customerId\", \"transactionAmount\", \"merchantName\", \"acqCountry\", \"merchantCountryCode\", \"merchantCategoryCode\", \"cardCVV\", \"cardLast4Digits\"\n",
        "\n",
        "We consider 2 additional fields \"transactionDateTime\" and \"transactionType\" to identify the 2 types.\n",
        "\n",
        "Making a seperate df for this (some fields like creditLimit, availabeMoney, posEntryMode, dateOfLastAddressChange, currentBalance, cardPresent etc have been left out)."
      ]
    },
    {
      "cell_type": "code",
      "metadata": {
        "id": "aHqaG7fBNvsI",
        "colab_type": "code",
        "outputId": "217cb750-88e7-4656-fe86-a9508b00d387",
        "colab": {
          "base_uri": "https://localhost:8080/",
          "height": 211
        }
      },
      "source": [
        "\"\"\"\n",
        "Here we are defining a new dataset with the below features:\n",
        "1. Only the fields necessary for duplicate identification and its subdivision.\n",
        "2. The transactions are duplicates i.e. all fields are the same except transaction time and transaction type.\n",
        "\"\"\"\n",
        "\n",
        "data_for_dupl = data[[\"accountNumber\", \"customerId\", \"transactionDateTime\", \"transactionAmount\", \"merchantName\", \"acqCountry\", \"merchantCountryCode\",\\\n",
        "                     \"merchantCategoryCode\", \"transactionType\", \"cardCVV\", \"cardLast4Digits\"]]\n",
        "\n",
        "data_for_dupl = data_for_dupl.loc[data_for_dupl.iloc[:,[0,1,3,4,5,6,7,9]].duplicated(keep=False)].reset_index(drop=True)\n",
        "data_for_dupl.head()"
      ],
      "execution_count": 0,
      "outputs": [
        {
          "output_type": "execute_result",
          "data": {
            "text/html": [
              "<div>\n",
              "<style scoped>\n",
              "    .dataframe tbody tr th:only-of-type {\n",
              "        vertical-align: middle;\n",
              "    }\n",
              "\n",
              "    .dataframe tbody tr th {\n",
              "        vertical-align: top;\n",
              "    }\n",
              "\n",
              "    .dataframe thead th {\n",
              "        text-align: right;\n",
              "    }\n",
              "</style>\n",
              "<table border=\"1\" class=\"dataframe\">\n",
              "  <thead>\n",
              "    <tr style=\"text-align: right;\">\n",
              "      <th></th>\n",
              "      <th>accountNumber</th>\n",
              "      <th>customerId</th>\n",
              "      <th>transactionDateTime</th>\n",
              "      <th>transactionAmount</th>\n",
              "      <th>merchantName</th>\n",
              "      <th>acqCountry</th>\n",
              "      <th>merchantCountryCode</th>\n",
              "      <th>merchantCategoryCode</th>\n",
              "      <th>transactionType</th>\n",
              "      <th>cardCVV</th>\n",
              "      <th>cardLast4Digits</th>\n",
              "    </tr>\n",
              "  </thead>\n",
              "  <tbody>\n",
              "    <tr>\n",
              "      <th>0</th>\n",
              "      <td>737265056</td>\n",
              "      <td>737265056</td>\n",
              "      <td>2016-11-08 09:18:39</td>\n",
              "      <td>7.47</td>\n",
              "      <td>Play Store</td>\n",
              "      <td>US</td>\n",
              "      <td>US</td>\n",
              "      <td>mobileapps</td>\n",
              "      <td>PURCHASE</td>\n",
              "      <td>486</td>\n",
              "      <td>767</td>\n",
              "    </tr>\n",
              "    <tr>\n",
              "      <th>1</th>\n",
              "      <td>737265056</td>\n",
              "      <td>737265056</td>\n",
              "      <td>2016-12-10 02:14:50</td>\n",
              "      <td>7.47</td>\n",
              "      <td>Play Store</td>\n",
              "      <td>US</td>\n",
              "      <td>US</td>\n",
              "      <td>mobileapps</td>\n",
              "      <td>PURCHASE</td>\n",
              "      <td>486</td>\n",
              "      <td>767</td>\n",
              "    </tr>\n",
              "    <tr>\n",
              "      <th>2</th>\n",
              "      <td>830329091</td>\n",
              "      <td>830329091</td>\n",
              "      <td>2016-12-07 16:34:04</td>\n",
              "      <td>40.75</td>\n",
              "      <td>GreenCook</td>\n",
              "      <td>US</td>\n",
              "      <td>US</td>\n",
              "      <td>food_delivery</td>\n",
              "      <td>PURCHASE</td>\n",
              "      <td>885</td>\n",
              "      <td>3143</td>\n",
              "    </tr>\n",
              "    <tr>\n",
              "      <th>3</th>\n",
              "      <td>830329091</td>\n",
              "      <td>830329091</td>\n",
              "      <td>2016-12-14 10:00:35</td>\n",
              "      <td>40.75</td>\n",
              "      <td>GreenCook</td>\n",
              "      <td>US</td>\n",
              "      <td>US</td>\n",
              "      <td>food_delivery</td>\n",
              "      <td>PURCHASE</td>\n",
              "      <td>885</td>\n",
              "      <td>3143</td>\n",
              "    </tr>\n",
              "    <tr>\n",
              "      <th>4</th>\n",
              "      <td>830329091</td>\n",
              "      <td>830329091</td>\n",
              "      <td>2016-12-20 18:38:23</td>\n",
              "      <td>40.75</td>\n",
              "      <td>GreenCook</td>\n",
              "      <td>US</td>\n",
              "      <td>US</td>\n",
              "      <td>food_delivery</td>\n",
              "      <td>PURCHASE</td>\n",
              "      <td>885</td>\n",
              "      <td>3143</td>\n",
              "    </tr>\n",
              "  </tbody>\n",
              "</table>\n",
              "</div>"
            ],
            "text/plain": [
              "   accountNumber  customerId  ... cardCVV  cardLast4Digits\n",
              "0      737265056   737265056  ...     486              767\n",
              "1      737265056   737265056  ...     486              767\n",
              "2      830329091   830329091  ...     885             3143\n",
              "3      830329091   830329091  ...     885             3143\n",
              "4      830329091   830329091  ...     885             3143\n",
              "\n",
              "[5 rows x 11 columns]"
            ]
          },
          "metadata": {
            "tags": []
          },
          "execution_count": 34
        }
      ]
    },
    {
      "cell_type": "markdown",
      "metadata": {
        "id": "FrxvCU-ROi_w",
        "colab_type": "text"
      },
      "source": [
        "For the duplicated entries, the above features should remain the same. But precaution must be observed as customers could have bought the same things twice."
      ]
    },
    {
      "cell_type": "markdown",
      "metadata": {
        "id": "bdMyOn1aO-MF",
        "colab_type": "text"
      },
      "source": [
        "Lets deal with **Reversal** First. Since we do not concern ourselves with the original transaction (for which we have the reversal) it makes our task easy."
      ]
    },
    {
      "cell_type": "code",
      "metadata": {
        "id": "c3ZMT1vBOiBD",
        "colab_type": "code",
        "outputId": "113f4a77-5ac7-44da-cf1d-915f8f04e2dc",
        "colab": {
          "base_uri": "https://localhost:8080/",
          "height": 260
        }
      },
      "source": [
        "# we only take our the transaction type that is a reversal\n",
        "\n",
        "reversal_dup = data_for_dupl.loc[data_for_dupl[\"transactionType\"]==\"REVERSAL\"].reset_index(drop=True)\n",
        "reversal_dup.head()"
      ],
      "execution_count": 0,
      "outputs": [
        {
          "output_type": "execute_result",
          "data": {
            "text/html": [
              "<div>\n",
              "<style scoped>\n",
              "    .dataframe tbody tr th:only-of-type {\n",
              "        vertical-align: middle;\n",
              "    }\n",
              "\n",
              "    .dataframe tbody tr th {\n",
              "        vertical-align: top;\n",
              "    }\n",
              "\n",
              "    .dataframe thead th {\n",
              "        text-align: right;\n",
              "    }\n",
              "</style>\n",
              "<table border=\"1\" class=\"dataframe\">\n",
              "  <thead>\n",
              "    <tr style=\"text-align: right;\">\n",
              "      <th></th>\n",
              "      <th>accountNumber</th>\n",
              "      <th>customerId</th>\n",
              "      <th>transactionDateTime</th>\n",
              "      <th>transactionAmount</th>\n",
              "      <th>merchantName</th>\n",
              "      <th>acqCountry</th>\n",
              "      <th>merchantCountryCode</th>\n",
              "      <th>merchantCategoryCode</th>\n",
              "      <th>transactionType</th>\n",
              "      <th>cardCVV</th>\n",
              "      <th>cardLast4Digits</th>\n",
              "    </tr>\n",
              "  </thead>\n",
              "  <tbody>\n",
              "    <tr>\n",
              "      <th>0</th>\n",
              "      <td>574788567</td>\n",
              "      <td>574788567</td>\n",
              "      <td>2016-05-24 01:38:03</td>\n",
              "      <td>215.13</td>\n",
              "      <td>Convenient Tire</td>\n",
              "      <td>US</td>\n",
              "      <td>US</td>\n",
              "      <td>auto</td>\n",
              "      <td>REVERSAL</td>\n",
              "      <td>206</td>\n",
              "      <td>8522</td>\n",
              "    </tr>\n",
              "    <tr>\n",
              "      <th>1</th>\n",
              "      <td>924729945</td>\n",
              "      <td>924729945</td>\n",
              "      <td>2016-10-19 14:01:45</td>\n",
              "      <td>168.57</td>\n",
              "      <td>discount.com</td>\n",
              "      <td>US</td>\n",
              "      <td>US</td>\n",
              "      <td>online_retail</td>\n",
              "      <td>REVERSAL</td>\n",
              "      <td>205</td>\n",
              "      <td>9459</td>\n",
              "    </tr>\n",
              "    <tr>\n",
              "      <th>2</th>\n",
              "      <td>984504651</td>\n",
              "      <td>984504651</td>\n",
              "      <td>2016-01-16 09:53:15</td>\n",
              "      <td>450.74</td>\n",
              "      <td>Planet Fitness #849960</td>\n",
              "      <td>US</td>\n",
              "      <td>US</td>\n",
              "      <td>health</td>\n",
              "      <td>REVERSAL</td>\n",
              "      <td>640</td>\n",
              "      <td>8332</td>\n",
              "    </tr>\n",
              "    <tr>\n",
              "      <th>3</th>\n",
              "      <td>984504651</td>\n",
              "      <td>984504651</td>\n",
              "      <td>2016-01-25 20:39:15</td>\n",
              "      <td>81.73</td>\n",
              "      <td>AMC #724446</td>\n",
              "      <td>US</td>\n",
              "      <td>US</td>\n",
              "      <td>entertainment</td>\n",
              "      <td>REVERSAL</td>\n",
              "      <td>640</td>\n",
              "      <td>8332</td>\n",
              "    </tr>\n",
              "    <tr>\n",
              "      <th>4</th>\n",
              "      <td>984504651</td>\n",
              "      <td>984504651</td>\n",
              "      <td>2016-02-04 00:14:42</td>\n",
              "      <td>83.64</td>\n",
              "      <td>1st Sandwitch Bar #801388</td>\n",
              "      <td>US</td>\n",
              "      <td>US</td>\n",
              "      <td>food</td>\n",
              "      <td>REVERSAL</td>\n",
              "      <td>640</td>\n",
              "      <td>8332</td>\n",
              "    </tr>\n",
              "  </tbody>\n",
              "</table>\n",
              "</div>"
            ],
            "text/plain": [
              "   accountNumber  customerId  ... cardCVV  cardLast4Digits\n",
              "0      574788567   574788567  ...     206             8522\n",
              "1      924729945   924729945  ...     205             9459\n",
              "2      984504651   984504651  ...     640             8332\n",
              "3      984504651   984504651  ...     640             8332\n",
              "4      984504651   984504651  ...     640             8332\n",
              "\n",
              "[5 rows x 11 columns]"
            ]
          },
          "metadata": {
            "tags": []
          },
          "execution_count": 35
        }
      ]
    },
    {
      "cell_type": "markdown",
      "metadata": {
        "id": "CTr44roIb703",
        "colab_type": "text"
      },
      "source": [
        "Now lets deal with **multiple swipes transactions**.\n"
      ]
    },
    {
      "cell_type": "code",
      "metadata": {
        "id": "BA-EUKf7cbAc",
        "colab_type": "code",
        "colab": {}
      },
      "source": [
        "\"\"\"\n",
        "To identify multiple swipe we identify a logical vector which turn to be true if:\n",
        "\n",
        "1. the transaction type is Purchase\n",
        "2. time different between the transaction before it is less than 5 min (300 seconds)\n",
        "\n",
        "Note: The first transaction in the Multiple Swipe transaction is considered valid so logical vector will be false for that.\n",
        "\n",
        "\"\"\"\n",
        "\n",
        "\n",
        "mul_swipe_bool = data_for_dupl.loc[data_for_dupl[\"transactionType\"]==\"PURCHASE\"].groupby([\"accountNumber\", \"customerId\", \"transactionAmount\", \"merchantName\", \\\n",
        "                                       \"acqCountry\", \"merchantCountryCode\", \"merchantCategoryCode\", \"cardCVV\", \"cardLast4Digits\"])\\\n",
        "                                       .transactionDateTime.apply(lambda x: x.diff().dt.seconds < 300)"
      ],
      "execution_count": 0,
      "outputs": []
    },
    {
      "cell_type": "code",
      "metadata": {
        "id": "ljIOVR8ncbJS",
        "colab_type": "code",
        "outputId": "64d3d880-d279-4cd7-e70f-25d62ad776ab",
        "colab": {
          "base_uri": "https://localhost:8080/",
          "height": 243
        }
      },
      "source": [
        "# using the logical vector to get the data frame\n",
        "\n",
        "mul_swipe_dup = data_for_dupl.loc[data_for_dupl[\"transactionType\"]==\"PURCHASE\"][list(mul_swipe_bool)].reset_index(drop=True)\n",
        "mul_swipe_dup.head()"
      ],
      "execution_count": 0,
      "outputs": [
        {
          "output_type": "execute_result",
          "data": {
            "text/html": [
              "<div>\n",
              "<style scoped>\n",
              "    .dataframe tbody tr th:only-of-type {\n",
              "        vertical-align: middle;\n",
              "    }\n",
              "\n",
              "    .dataframe tbody tr th {\n",
              "        vertical-align: top;\n",
              "    }\n",
              "\n",
              "    .dataframe thead th {\n",
              "        text-align: right;\n",
              "    }\n",
              "</style>\n",
              "<table border=\"1\" class=\"dataframe\">\n",
              "  <thead>\n",
              "    <tr style=\"text-align: right;\">\n",
              "      <th></th>\n",
              "      <th>accountNumber</th>\n",
              "      <th>customerId</th>\n",
              "      <th>transactionDateTime</th>\n",
              "      <th>transactionAmount</th>\n",
              "      <th>merchantName</th>\n",
              "      <th>acqCountry</th>\n",
              "      <th>merchantCountryCode</th>\n",
              "      <th>merchantCategoryCode</th>\n",
              "      <th>transactionType</th>\n",
              "      <th>cardCVV</th>\n",
              "      <th>cardLast4Digits</th>\n",
              "    </tr>\n",
              "  </thead>\n",
              "  <tbody>\n",
              "    <tr>\n",
              "      <th>0</th>\n",
              "      <td>984504651</td>\n",
              "      <td>984504651</td>\n",
              "      <td>2016-03-12 06:34:29</td>\n",
              "      <td>118.52</td>\n",
              "      <td>AMC #706324</td>\n",
              "      <td>US</td>\n",
              "      <td>US</td>\n",
              "      <td>entertainment</td>\n",
              "      <td>PURCHASE</td>\n",
              "      <td>640</td>\n",
              "      <td>8332</td>\n",
              "    </tr>\n",
              "    <tr>\n",
              "      <th>1</th>\n",
              "      <td>984504651</td>\n",
              "      <td>984504651</td>\n",
              "      <td>2016-03-12 06:36:41</td>\n",
              "      <td>118.52</td>\n",
              "      <td>AMC #706324</td>\n",
              "      <td>US</td>\n",
              "      <td>US</td>\n",
              "      <td>entertainment</td>\n",
              "      <td>PURCHASE</td>\n",
              "      <td>640</td>\n",
              "      <td>8332</td>\n",
              "    </tr>\n",
              "    <tr>\n",
              "      <th>2</th>\n",
              "      <td>984504651</td>\n",
              "      <td>984504651</td>\n",
              "      <td>2016-03-18 13:57:04</td>\n",
              "      <td>26.71</td>\n",
              "      <td>Planet Fitness #692929</td>\n",
              "      <td>US</td>\n",
              "      <td>US</td>\n",
              "      <td>health</td>\n",
              "      <td>PURCHASE</td>\n",
              "      <td>640</td>\n",
              "      <td>8332</td>\n",
              "    </tr>\n",
              "    <tr>\n",
              "      <th>3</th>\n",
              "      <td>984504651</td>\n",
              "      <td>984504651</td>\n",
              "      <td>2016-04-08 22:21:11</td>\n",
              "      <td>43.21</td>\n",
              "      <td>WSC #994275</td>\n",
              "      <td>US</td>\n",
              "      <td>US</td>\n",
              "      <td>health</td>\n",
              "      <td>PURCHASE</td>\n",
              "      <td>640</td>\n",
              "      <td>8332</td>\n",
              "    </tr>\n",
              "    <tr>\n",
              "      <th>4</th>\n",
              "      <td>984504651</td>\n",
              "      <td>984504651</td>\n",
              "      <td>2016-05-07 07:32:54</td>\n",
              "      <td>23.82</td>\n",
              "      <td>Golds Gym #846582</td>\n",
              "      <td>US</td>\n",
              "      <td>US</td>\n",
              "      <td>health</td>\n",
              "      <td>PURCHASE</td>\n",
              "      <td>640</td>\n",
              "      <td>8332</td>\n",
              "    </tr>\n",
              "  </tbody>\n",
              "</table>\n",
              "</div>"
            ],
            "text/plain": [
              "   accountNumber  customerId  ... cardCVV  cardLast4Digits\n",
              "0      984504651   984504651  ...     640             8332\n",
              "1      984504651   984504651  ...     640             8332\n",
              "2      984504651   984504651  ...     640             8332\n",
              "3      984504651   984504651  ...     640             8332\n",
              "4      984504651   984504651  ...     640             8332\n",
              "\n",
              "[5 rows x 11 columns]"
            ]
          },
          "metadata": {
            "tags": []
          },
          "execution_count": 37
        }
      ]
    },
    {
      "cell_type": "markdown",
      "metadata": {
        "id": "6eQp-rPWViDs",
        "colab_type": "text"
      },
      "source": [
        "### What total number of transactions and total dollar amount do you estimate for the reversed transactions? For the multi-swipe transactions? "
      ]
    },
    {
      "cell_type": "code",
      "metadata": {
        "id": "SM9RkpIKX_cj",
        "colab_type": "code",
        "outputId": "bef793be-235a-4974-e30e-658bafc89432",
        "colab": {
          "base_uri": "https://localhost:8080/",
          "height": 33
        }
      },
      "source": [
        "len(reversal_dup)"
      ],
      "execution_count": 0,
      "outputs": [
        {
          "output_type": "execute_result",
          "data": {
            "text/plain": [
              "18359"
            ]
          },
          "metadata": {
            "tags": []
          },
          "execution_count": 38
        }
      ]
    },
    {
      "cell_type": "code",
      "metadata": {
        "id": "HP0ZhKx02bc_",
        "colab_type": "code",
        "outputId": "0965a0e6-3974-428c-df94-35c488cefefd",
        "colab": {
          "base_uri": "https://localhost:8080/",
          "height": 33
        }
      },
      "source": [
        "sum(reversal_dup['transactionAmount'])"
      ],
      "execution_count": 0,
      "outputs": [
        {
          "output_type": "execute_result",
          "data": {
            "text/plain": [
              "2669859.55999999"
            ]
          },
          "metadata": {
            "tags": []
          },
          "execution_count": 39
        }
      ]
    },
    {
      "cell_type": "markdown",
      "metadata": {
        "id": "kD6jL0TO34jd",
        "colab_type": "text"
      },
      "source": [
        "***So there are 18359 duplicated Reversal records and about $2,669,860 in total dollar amount for Reversal***"
      ]
    },
    {
      "cell_type": "markdown",
      "metadata": {
        "id": "nCDqSxJ4YvPe",
        "colab_type": "text"
      },
      "source": [
        "For Multiple Swipes:"
      ]
    },
    {
      "cell_type": "code",
      "metadata": {
        "id": "zaaCVEzGRDTK",
        "colab_type": "code",
        "outputId": "5840944b-682a-4b10-966d-9fcc0a8a1a98",
        "colab": {
          "base_uri": "https://localhost:8080/",
          "height": 33
        }
      },
      "source": [
        "len(mul_swipe_dup)"
      ],
      "execution_count": 0,
      "outputs": [
        {
          "output_type": "execute_result",
          "data": {
            "text/plain": [
              "7600"
            ]
          },
          "metadata": {
            "tags": []
          },
          "execution_count": 40
        }
      ]
    },
    {
      "cell_type": "code",
      "metadata": {
        "id": "7jYvN4fT2wJP",
        "colab_type": "code",
        "outputId": "0e8411ba-65d4-4ff6-bf43-270dc65d64d7",
        "colab": {
          "base_uri": "https://localhost:8080/",
          "height": 33
        }
      },
      "source": [
        "sum(mul_swipe_dup['transactionAmount'])"
      ],
      "execution_count": 0,
      "outputs": [
        {
          "output_type": "execute_result",
          "data": {
            "text/plain": [
              "1107378.5299999937"
            ]
          },
          "metadata": {
            "tags": []
          },
          "execution_count": 41
        }
      ]
    },
    {
      "cell_type": "markdown",
      "metadata": {
        "id": "sqGIQhJSVUyb",
        "colab_type": "text"
      },
      "source": [
        "***So there are 7600 duplicated Multiple Swipe records and about $1,107,379 in total dollar amount for multiple swipes ***"
      ]
    },
    {
      "cell_type": "markdown",
      "metadata": {
        "id": "M-9dt4SjXODZ",
        "colab_type": "text"
      },
      "source": [
        "### Did you find anything interesting about either kind of transaction?"
      ]
    },
    {
      "cell_type": "markdown",
      "metadata": {
        "id": "csqU3QGlY7FG",
        "colab_type": "text"
      },
      "source": [
        "So there are 18359 duplicated Reversal records\n",
        "\n",
        "But we saw above that there are 20303 total Reversal records. So lets see what are those other entries"
      ]
    },
    {
      "cell_type": "code",
      "metadata": {
        "id": "naYlKBixc0Tq",
        "colab_type": "code",
        "outputId": "ddf3de3e-6944-4a7a-9844-682b5654198c",
        "colab": {
          "base_uri": "https://localhost:8080/",
          "height": 476
        }
      },
      "source": [
        "data.loc[~data.iloc[:,[0,1,5,6,7,8,11,15,17]].duplicated(keep=False)].loc[data[\"transactionType\"]==\"REVERSAL\"]"
      ],
      "execution_count": 0,
      "outputs": [
        {
          "output_type": "execute_result",
          "data": {
            "text/html": [
              "<div>\n",
              "<style scoped>\n",
              "    .dataframe tbody tr th:only-of-type {\n",
              "        vertical-align: middle;\n",
              "    }\n",
              "\n",
              "    .dataframe tbody tr th {\n",
              "        vertical-align: top;\n",
              "    }\n",
              "\n",
              "    .dataframe thead th {\n",
              "        text-align: right;\n",
              "    }\n",
              "</style>\n",
              "<table border=\"1\" class=\"dataframe\">\n",
              "  <thead>\n",
              "    <tr style=\"text-align: right;\">\n",
              "      <th></th>\n",
              "      <th>accountNumber</th>\n",
              "      <th>customerId</th>\n",
              "      <th>creditLimit</th>\n",
              "      <th>availableMoney</th>\n",
              "      <th>transactionDateTime</th>\n",
              "      <th>transactionAmount</th>\n",
              "      <th>merchantName</th>\n",
              "      <th>acqCountry</th>\n",
              "      <th>merchantCountryCode</th>\n",
              "      <th>posEntryMode</th>\n",
              "      <th>posConditionCode</th>\n",
              "      <th>merchantCategoryCode</th>\n",
              "      <th>currentExpDate</th>\n",
              "      <th>accountOpenDate</th>\n",
              "      <th>dateOfLastAddressChange</th>\n",
              "      <th>cardCVV</th>\n",
              "      <th>enteredCVV</th>\n",
              "      <th>cardLast4Digits</th>\n",
              "      <th>transactionType</th>\n",
              "      <th>currentBalance</th>\n",
              "      <th>merchantZip</th>\n",
              "      <th>cardPresent</th>\n",
              "      <th>expirationDateKeyInMatch</th>\n",
              "      <th>isFraud</th>\n",
              "    </tr>\n",
              "  </thead>\n",
              "  <tbody>\n",
              "    <tr>\n",
              "      <th>73</th>\n",
              "      <td>574788567</td>\n",
              "      <td>574788567</td>\n",
              "      <td>2500</td>\n",
              "      <td>2432.72</td>\n",
              "      <td>2016-10-07 10:23:57</td>\n",
              "      <td>3.87</td>\n",
              "      <td>Eazy Repair</td>\n",
              "      <td>US</td>\n",
              "      <td>US</td>\n",
              "      <td>05</td>\n",
              "      <td>01</td>\n",
              "      <td>auto</td>\n",
              "      <td>2022-10-01</td>\n",
              "      <td>2015-10-13</td>\n",
              "      <td>2015-10-13</td>\n",
              "      <td>579</td>\n",
              "      <td>579</td>\n",
              "      <td>4219</td>\n",
              "      <td>REVERSAL</td>\n",
              "      <td>67.28</td>\n",
              "      <td></td>\n",
              "      <td>True</td>\n",
              "      <td>False</td>\n",
              "      <td>False</td>\n",
              "    </tr>\n",
              "    <tr>\n",
              "      <th>309</th>\n",
              "      <td>984504651</td>\n",
              "      <td>984504651</td>\n",
              "      <td>50000</td>\n",
              "      <td>19448.36</td>\n",
              "      <td>2016-03-29 07:45:09</td>\n",
              "      <td>36.97</td>\n",
              "      <td>Walgreens #310950</td>\n",
              "      <td>US</td>\n",
              "      <td>US</td>\n",
              "      <td>02</td>\n",
              "      <td>01</td>\n",
              "      <td>health</td>\n",
              "      <td>2021-09-01</td>\n",
              "      <td>2015-07-27</td>\n",
              "      <td>2016-03-26</td>\n",
              "      <td>640</td>\n",
              "      <td>640</td>\n",
              "      <td>8332</td>\n",
              "      <td>REVERSAL</td>\n",
              "      <td>30551.64</td>\n",
              "      <td></td>\n",
              "      <td>False</td>\n",
              "      <td>False</td>\n",
              "      <td>False</td>\n",
              "    </tr>\n",
              "    <tr>\n",
              "      <th>329</th>\n",
              "      <td>984504651</td>\n",
              "      <td>984504651</td>\n",
              "      <td>50000</td>\n",
              "      <td>17158.66</td>\n",
              "      <td>2016-04-04 16:01:08</td>\n",
              "      <td>288.77</td>\n",
              "      <td>WSC #794510</td>\n",
              "      <td>US</td>\n",
              "      <td>US</td>\n",
              "      <td>05</td>\n",
              "      <td>01</td>\n",
              "      <td>health</td>\n",
              "      <td>2020-02-01</td>\n",
              "      <td>2015-07-27</td>\n",
              "      <td>2016-03-26</td>\n",
              "      <td>640</td>\n",
              "      <td>640</td>\n",
              "      <td>8332</td>\n",
              "      <td>REVERSAL</td>\n",
              "      <td>32841.34</td>\n",
              "      <td></td>\n",
              "      <td>False</td>\n",
              "      <td>False</td>\n",
              "      <td>False</td>\n",
              "    </tr>\n",
              "    <tr>\n",
              "      <th>1151</th>\n",
              "      <td>114896048</td>\n",
              "      <td>114896048</td>\n",
              "      <td>15000</td>\n",
              "      <td>2616.81</td>\n",
              "      <td>2016-05-10 20:05:42</td>\n",
              "      <td>10.51</td>\n",
              "      <td>Uber</td>\n",
              "      <td>US</td>\n",
              "      <td>US</td>\n",
              "      <td>05</td>\n",
              "      <td>01</td>\n",
              "      <td>rideshare</td>\n",
              "      <td>2028-01-01</td>\n",
              "      <td>2015-12-19</td>\n",
              "      <td>2015-12-19</td>\n",
              "      <td>773</td>\n",
              "      <td>773</td>\n",
              "      <td>8915</td>\n",
              "      <td>REVERSAL</td>\n",
              "      <td>12383.19</td>\n",
              "      <td></td>\n",
              "      <td>False</td>\n",
              "      <td>False</td>\n",
              "      <td>False</td>\n",
              "    </tr>\n",
              "    <tr>\n",
              "      <th>1254</th>\n",
              "      <td>114896048</td>\n",
              "      <td>114896048</td>\n",
              "      <td>15000</td>\n",
              "      <td>2652.85</td>\n",
              "      <td>2016-07-20 20:28:26</td>\n",
              "      <td>7.27</td>\n",
              "      <td>target.com</td>\n",
              "      <td>US</td>\n",
              "      <td>US</td>\n",
              "      <td>05</td>\n",
              "      <td>01</td>\n",
              "      <td>online_retail</td>\n",
              "      <td>2022-04-01</td>\n",
              "      <td>2015-12-19</td>\n",
              "      <td>2016-06-10</td>\n",
              "      <td>773</td>\n",
              "      <td>773</td>\n",
              "      <td>8915</td>\n",
              "      <td>REVERSAL</td>\n",
              "      <td>12347.15</td>\n",
              "      <td></td>\n",
              "      <td>False</td>\n",
              "      <td>False</td>\n",
              "      <td>False</td>\n",
              "    </tr>\n",
              "    <tr>\n",
              "      <th>...</th>\n",
              "      <td>...</td>\n",
              "      <td>...</td>\n",
              "      <td>...</td>\n",
              "      <td>...</td>\n",
              "      <td>...</td>\n",
              "      <td>...</td>\n",
              "      <td>...</td>\n",
              "      <td>...</td>\n",
              "      <td>...</td>\n",
              "      <td>...</td>\n",
              "      <td>...</td>\n",
              "      <td>...</td>\n",
              "      <td>...</td>\n",
              "      <td>...</td>\n",
              "      <td>...</td>\n",
              "      <td>...</td>\n",
              "      <td>...</td>\n",
              "      <td>...</td>\n",
              "      <td>...</td>\n",
              "      <td>...</td>\n",
              "      <td>...</td>\n",
              "      <td>...</td>\n",
              "      <td>...</td>\n",
              "      <td>...</td>\n",
              "    </tr>\n",
              "    <tr>\n",
              "      <th>785516</th>\n",
              "      <td>841351704</td>\n",
              "      <td>841351704</td>\n",
              "      <td>50000</td>\n",
              "      <td>24777.68</td>\n",
              "      <td>2016-11-26 19:02:41</td>\n",
              "      <td>121.42</td>\n",
              "      <td>Dallas Journal</td>\n",
              "      <td>US</td>\n",
              "      <td>US</td>\n",
              "      <td>02</td>\n",
              "      <td>08</td>\n",
              "      <td>subscriptions</td>\n",
              "      <td>2028-04-01</td>\n",
              "      <td>2015-12-17</td>\n",
              "      <td>2015-12-17</td>\n",
              "      <td>651</td>\n",
              "      <td>651</td>\n",
              "      <td>7831</td>\n",
              "      <td>REVERSAL</td>\n",
              "      <td>25222.32</td>\n",
              "      <td></td>\n",
              "      <td>False</td>\n",
              "      <td>False</td>\n",
              "      <td>False</td>\n",
              "    </tr>\n",
              "    <tr>\n",
              "      <th>785833</th>\n",
              "      <td>428856030</td>\n",
              "      <td>428856030</td>\n",
              "      <td>250</td>\n",
              "      <td>113.29</td>\n",
              "      <td>2016-03-26 02:12:47</td>\n",
              "      <td>47.22</td>\n",
              "      <td>Hilton Hotels #863711</td>\n",
              "      <td>US</td>\n",
              "      <td>US</td>\n",
              "      <td>09</td>\n",
              "      <td>01</td>\n",
              "      <td>hotels</td>\n",
              "      <td>2026-03-01</td>\n",
              "      <td>2009-08-17</td>\n",
              "      <td>2009-08-17</td>\n",
              "      <td>990</td>\n",
              "      <td>990</td>\n",
              "      <td>7660</td>\n",
              "      <td>REVERSAL</td>\n",
              "      <td>136.71</td>\n",
              "      <td></td>\n",
              "      <td>True</td>\n",
              "      <td>False</td>\n",
              "      <td>False</td>\n",
              "    </tr>\n",
              "    <tr>\n",
              "      <th>786024</th>\n",
              "      <td>205026043</td>\n",
              "      <td>205026043</td>\n",
              "      <td>5000</td>\n",
              "      <td>692.68</td>\n",
              "      <td>2016-11-02 22:44:38</td>\n",
              "      <td>67.48</td>\n",
              "      <td>Arbys #384282</td>\n",
              "      <td>US</td>\n",
              "      <td>US</td>\n",
              "      <td>09</td>\n",
              "      <td>01</td>\n",
              "      <td>fastfood</td>\n",
              "      <td>2020-02-01</td>\n",
              "      <td>2008-04-15</td>\n",
              "      <td>2008-04-15</td>\n",
              "      <td>198</td>\n",
              "      <td>198</td>\n",
              "      <td>3931</td>\n",
              "      <td>REVERSAL</td>\n",
              "      <td>4307.32</td>\n",
              "      <td></td>\n",
              "      <td>True</td>\n",
              "      <td>False</td>\n",
              "      <td>False</td>\n",
              "    </tr>\n",
              "    <tr>\n",
              "      <th>786106</th>\n",
              "      <td>899818521</td>\n",
              "      <td>899818521</td>\n",
              "      <td>2500</td>\n",
              "      <td>968.33</td>\n",
              "      <td>2016-09-29 02:04:32</td>\n",
              "      <td>10.05</td>\n",
              "      <td>cheapfast.com</td>\n",
              "      <td>US</td>\n",
              "      <td>US</td>\n",
              "      <td>02</td>\n",
              "      <td>99</td>\n",
              "      <td>online_retail</td>\n",
              "      <td>2031-02-01</td>\n",
              "      <td>2013-06-15</td>\n",
              "      <td>2013-06-15</td>\n",
              "      <td>421</td>\n",
              "      <td>421</td>\n",
              "      <td>3424</td>\n",
              "      <td>REVERSAL</td>\n",
              "      <td>1531.67</td>\n",
              "      <td></td>\n",
              "      <td>False</td>\n",
              "      <td>False</td>\n",
              "      <td>False</td>\n",
              "    </tr>\n",
              "    <tr>\n",
              "      <th>786225</th>\n",
              "      <td>638498773</td>\n",
              "      <td>638498773</td>\n",
              "      <td>10000</td>\n",
              "      <td>4393.10</td>\n",
              "      <td>2016-11-06 22:54:25</td>\n",
              "      <td>49.39</td>\n",
              "      <td>Shake Shack #118502</td>\n",
              "      <td>US</td>\n",
              "      <td>US</td>\n",
              "      <td>05</td>\n",
              "      <td>01</td>\n",
              "      <td>fastfood</td>\n",
              "      <td>2029-06-01</td>\n",
              "      <td>2014-11-17</td>\n",
              "      <td>2014-11-17</td>\n",
              "      <td>387</td>\n",
              "      <td>387</td>\n",
              "      <td>4635</td>\n",
              "      <td>REVERSAL</td>\n",
              "      <td>5606.90</td>\n",
              "      <td></td>\n",
              "      <td>True</td>\n",
              "      <td>False</td>\n",
              "      <td>False</td>\n",
              "    </tr>\n",
              "  </tbody>\n",
              "</table>\n",
              "<p>1944 rows × 24 columns</p>\n",
              "</div>"
            ],
            "text/plain": [
              "        accountNumber  customerId  ...  expirationDateKeyInMatch  isFraud\n",
              "73          574788567   574788567  ...                     False    False\n",
              "309         984504651   984504651  ...                     False    False\n",
              "329         984504651   984504651  ...                     False    False\n",
              "1151        114896048   114896048  ...                     False    False\n",
              "1254        114896048   114896048  ...                     False    False\n",
              "...               ...         ...  ...                       ...      ...\n",
              "785516      841351704   841351704  ...                     False    False\n",
              "785833      428856030   428856030  ...                     False    False\n",
              "786024      205026043   205026043  ...                     False    False\n",
              "786106      899818521   899818521  ...                     False    False\n",
              "786225      638498773   638498773  ...                     False    False\n",
              "\n",
              "[1944 rows x 24 columns]"
            ]
          },
          "metadata": {
            "tags": []
          },
          "execution_count": 42
        }
      ]
    },
    {
      "cell_type": "markdown",
      "metadata": {
        "id": "a4IK1GU543B1",
        "colab_type": "text"
      },
      "source": [
        "So the remaining 1944 Reversal records are not exactly duplicate entries. The may be partial reversal, and other fields may differ.\n",
        "\n",
        "Lets see an example of this:"
      ]
    },
    {
      "cell_type": "code",
      "metadata": {
        "id": "XBcs4E_UdvCl",
        "colab_type": "code",
        "outputId": "a617b16b-8fb2-4786-8c4b-7bb61fd3d1da",
        "colab": {
          "base_uri": "https://localhost:8080/",
          "height": 153
        }
      },
      "source": [
        "data.loc[(data[\"accountNumber\"]==984504651) & (data[\"merchantName\"]==\"WSC #794510\")]"
      ],
      "execution_count": 0,
      "outputs": [
        {
          "output_type": "execute_result",
          "data": {
            "text/html": [
              "<div>\n",
              "<style scoped>\n",
              "    .dataframe tbody tr th:only-of-type {\n",
              "        vertical-align: middle;\n",
              "    }\n",
              "\n",
              "    .dataframe tbody tr th {\n",
              "        vertical-align: top;\n",
              "    }\n",
              "\n",
              "    .dataframe thead th {\n",
              "        text-align: right;\n",
              "    }\n",
              "</style>\n",
              "<table border=\"1\" class=\"dataframe\">\n",
              "  <thead>\n",
              "    <tr style=\"text-align: right;\">\n",
              "      <th></th>\n",
              "      <th>accountNumber</th>\n",
              "      <th>customerId</th>\n",
              "      <th>creditLimit</th>\n",
              "      <th>availableMoney</th>\n",
              "      <th>transactionDateTime</th>\n",
              "      <th>transactionAmount</th>\n",
              "      <th>merchantName</th>\n",
              "      <th>acqCountry</th>\n",
              "      <th>merchantCountryCode</th>\n",
              "      <th>posEntryMode</th>\n",
              "      <th>posConditionCode</th>\n",
              "      <th>merchantCategoryCode</th>\n",
              "      <th>currentExpDate</th>\n",
              "      <th>accountOpenDate</th>\n",
              "      <th>dateOfLastAddressChange</th>\n",
              "      <th>cardCVV</th>\n",
              "      <th>enteredCVV</th>\n",
              "      <th>cardLast4Digits</th>\n",
              "      <th>transactionType</th>\n",
              "      <th>currentBalance</th>\n",
              "      <th>merchantZip</th>\n",
              "      <th>cardPresent</th>\n",
              "      <th>expirationDateKeyInMatch</th>\n",
              "      <th>isFraud</th>\n",
              "    </tr>\n",
              "  </thead>\n",
              "  <tbody>\n",
              "    <tr>\n",
              "      <th>292</th>\n",
              "      <td>984504651</td>\n",
              "      <td>984504651</td>\n",
              "      <td>50000</td>\n",
              "      <td>22873.49</td>\n",
              "      <td>2016-03-24 04:03:54</td>\n",
              "      <td>362.10</td>\n",
              "      <td>WSC #794510</td>\n",
              "      <td>US</td>\n",
              "      <td>US</td>\n",
              "      <td>05</td>\n",
              "      <td>01</td>\n",
              "      <td>health</td>\n",
              "      <td>2020-02-01</td>\n",
              "      <td>2015-07-27</td>\n",
              "      <td>2015-07-27</td>\n",
              "      <td>640</td>\n",
              "      <td>640</td>\n",
              "      <td>8332</td>\n",
              "      <td>PURCHASE</td>\n",
              "      <td>27126.51</td>\n",
              "      <td></td>\n",
              "      <td>False</td>\n",
              "      <td>False</td>\n",
              "      <td>False</td>\n",
              "    </tr>\n",
              "    <tr>\n",
              "      <th>329</th>\n",
              "      <td>984504651</td>\n",
              "      <td>984504651</td>\n",
              "      <td>50000</td>\n",
              "      <td>17158.66</td>\n",
              "      <td>2016-04-04 16:01:08</td>\n",
              "      <td>288.77</td>\n",
              "      <td>WSC #794510</td>\n",
              "      <td>US</td>\n",
              "      <td>US</td>\n",
              "      <td>05</td>\n",
              "      <td>01</td>\n",
              "      <td>health</td>\n",
              "      <td>2020-02-01</td>\n",
              "      <td>2015-07-27</td>\n",
              "      <td>2016-03-26</td>\n",
              "      <td>640</td>\n",
              "      <td>640</td>\n",
              "      <td>8332</td>\n",
              "      <td>REVERSAL</td>\n",
              "      <td>32841.34</td>\n",
              "      <td></td>\n",
              "      <td>False</td>\n",
              "      <td>False</td>\n",
              "      <td>False</td>\n",
              "    </tr>\n",
              "    <tr>\n",
              "      <th>840</th>\n",
              "      <td>984504651</td>\n",
              "      <td>984504651</td>\n",
              "      <td>50000</td>\n",
              "      <td>34023.47</td>\n",
              "      <td>2016-11-13 01:22:41</td>\n",
              "      <td>304.40</td>\n",
              "      <td>WSC #794510</td>\n",
              "      <td>US</td>\n",
              "      <td>US</td>\n",
              "      <td>09</td>\n",
              "      <td>08</td>\n",
              "      <td>health</td>\n",
              "      <td>2020-12-01</td>\n",
              "      <td>2015-07-27</td>\n",
              "      <td>2016-10-19</td>\n",
              "      <td>640</td>\n",
              "      <td>640</td>\n",
              "      <td>8332</td>\n",
              "      <td>PURCHASE</td>\n",
              "      <td>15976.53</td>\n",
              "      <td></td>\n",
              "      <td>True</td>\n",
              "      <td>False</td>\n",
              "      <td>False</td>\n",
              "    </tr>\n",
              "  </tbody>\n",
              "</table>\n",
              "</div>"
            ],
            "text/plain": [
              "     accountNumber  customerId  ...  expirationDateKeyInMatch  isFraud\n",
              "292      984504651   984504651  ...                     False    False\n",
              "329      984504651   984504651  ...                     False    False\n",
              "840      984504651   984504651  ...                     False    False\n",
              "\n",
              "[3 rows x 24 columns]"
            ]
          },
          "metadata": {
            "tags": []
          },
          "execution_count": 43
        }
      ]
    },
    {
      "cell_type": "markdown",
      "metadata": {
        "id": "2mUc1tTj5XK4",
        "colab_type": "text"
      },
      "source": [
        "So as we see in this example, the Reversal is only partial, 288.77, out of a total of $362.10.\n",
        "\n",
        "So we shall not consider them Duplicated. "
      ]
    },
    {
      "cell_type": "markdown",
      "metadata": {
        "id": "bear6ITDZIFj",
        "colab_type": "text"
      },
      "source": [
        "## Question 4: Model"
      ]
    },
    {
      "cell_type": "markdown",
      "metadata": {
        "id": "ytXQA_73ZQqY",
        "colab_type": "text"
      },
      "source": [
        "### Fraud is a problem for any bank. Fraud can take many forms, whether it is someone stealing a single credit card, to large batches of stolen credit card numbers being used on the web, or even a mass compromise of credit card numbers stolen from a merchant via tools like credit card skimming devices."
      ]
    },
    {
      "cell_type": "code",
      "metadata": {
        "id": "pPvFsVVxXUzh",
        "colab_type": "code",
        "outputId": "bc1cc07c-4c3d-46bc-d03e-55fe093bc824",
        "colab": {
          "base_uri": "https://localhost:8080/",
          "height": 227
        }
      },
      "source": [
        "data.head()"
      ],
      "execution_count": 0,
      "outputs": [
        {
          "output_type": "execute_result",
          "data": {
            "text/html": [
              "<div>\n",
              "<style scoped>\n",
              "    .dataframe tbody tr th:only-of-type {\n",
              "        vertical-align: middle;\n",
              "    }\n",
              "\n",
              "    .dataframe tbody tr th {\n",
              "        vertical-align: top;\n",
              "    }\n",
              "\n",
              "    .dataframe thead th {\n",
              "        text-align: right;\n",
              "    }\n",
              "</style>\n",
              "<table border=\"1\" class=\"dataframe\">\n",
              "  <thead>\n",
              "    <tr style=\"text-align: right;\">\n",
              "      <th></th>\n",
              "      <th>accountNumber</th>\n",
              "      <th>customerId</th>\n",
              "      <th>creditLimit</th>\n",
              "      <th>availableMoney</th>\n",
              "      <th>transactionDateTime</th>\n",
              "      <th>transactionAmount</th>\n",
              "      <th>merchantName</th>\n",
              "      <th>acqCountry</th>\n",
              "      <th>merchantCountryCode</th>\n",
              "      <th>posEntryMode</th>\n",
              "      <th>posConditionCode</th>\n",
              "      <th>merchantCategoryCode</th>\n",
              "      <th>currentExpDate</th>\n",
              "      <th>accountOpenDate</th>\n",
              "      <th>dateOfLastAddressChange</th>\n",
              "      <th>cardCVV</th>\n",
              "      <th>enteredCVV</th>\n",
              "      <th>cardLast4Digits</th>\n",
              "      <th>transactionType</th>\n",
              "      <th>currentBalance</th>\n",
              "      <th>merchantZip</th>\n",
              "      <th>cardPresent</th>\n",
              "      <th>expirationDateKeyInMatch</th>\n",
              "      <th>isFraud</th>\n",
              "    </tr>\n",
              "  </thead>\n",
              "  <tbody>\n",
              "    <tr>\n",
              "      <th>0</th>\n",
              "      <td>737265056</td>\n",
              "      <td>737265056</td>\n",
              "      <td>5000</td>\n",
              "      <td>5000.0</td>\n",
              "      <td>2016-08-13 14:27:32</td>\n",
              "      <td>98.55</td>\n",
              "      <td>Uber</td>\n",
              "      <td>US</td>\n",
              "      <td>US</td>\n",
              "      <td>02</td>\n",
              "      <td>01</td>\n",
              "      <td>rideshare</td>\n",
              "      <td>2023-06-01</td>\n",
              "      <td>2015-03-14</td>\n",
              "      <td>2015-03-14</td>\n",
              "      <td>414</td>\n",
              "      <td>414</td>\n",
              "      <td>1803</td>\n",
              "      <td>PURCHASE</td>\n",
              "      <td>0.0</td>\n",
              "      <td></td>\n",
              "      <td>False</td>\n",
              "      <td>False</td>\n",
              "      <td>False</td>\n",
              "    </tr>\n",
              "    <tr>\n",
              "      <th>1</th>\n",
              "      <td>737265056</td>\n",
              "      <td>737265056</td>\n",
              "      <td>5000</td>\n",
              "      <td>5000.0</td>\n",
              "      <td>2016-10-11 05:05:54</td>\n",
              "      <td>74.51</td>\n",
              "      <td>AMC #191138</td>\n",
              "      <td>US</td>\n",
              "      <td>US</td>\n",
              "      <td>09</td>\n",
              "      <td>01</td>\n",
              "      <td>entertainment</td>\n",
              "      <td>2024-02-01</td>\n",
              "      <td>2015-03-14</td>\n",
              "      <td>2015-03-14</td>\n",
              "      <td>486</td>\n",
              "      <td>486</td>\n",
              "      <td>767</td>\n",
              "      <td>PURCHASE</td>\n",
              "      <td>0.0</td>\n",
              "      <td></td>\n",
              "      <td>True</td>\n",
              "      <td>False</td>\n",
              "      <td>False</td>\n",
              "    </tr>\n",
              "    <tr>\n",
              "      <th>2</th>\n",
              "      <td>737265056</td>\n",
              "      <td>737265056</td>\n",
              "      <td>5000</td>\n",
              "      <td>5000.0</td>\n",
              "      <td>2016-11-08 09:18:39</td>\n",
              "      <td>7.47</td>\n",
              "      <td>Play Store</td>\n",
              "      <td>US</td>\n",
              "      <td>US</td>\n",
              "      <td>09</td>\n",
              "      <td>01</td>\n",
              "      <td>mobileapps</td>\n",
              "      <td>2025-08-01</td>\n",
              "      <td>2015-03-14</td>\n",
              "      <td>2015-03-14</td>\n",
              "      <td>486</td>\n",
              "      <td>486</td>\n",
              "      <td>767</td>\n",
              "      <td>PURCHASE</td>\n",
              "      <td>0.0</td>\n",
              "      <td></td>\n",
              "      <td>False</td>\n",
              "      <td>False</td>\n",
              "      <td>False</td>\n",
              "    </tr>\n",
              "    <tr>\n",
              "      <th>3</th>\n",
              "      <td>737265056</td>\n",
              "      <td>737265056</td>\n",
              "      <td>5000</td>\n",
              "      <td>5000.0</td>\n",
              "      <td>2016-12-10 02:14:50</td>\n",
              "      <td>7.47</td>\n",
              "      <td>Play Store</td>\n",
              "      <td>US</td>\n",
              "      <td>US</td>\n",
              "      <td>09</td>\n",
              "      <td>01</td>\n",
              "      <td>mobileapps</td>\n",
              "      <td>2025-08-01</td>\n",
              "      <td>2015-03-14</td>\n",
              "      <td>2015-03-14</td>\n",
              "      <td>486</td>\n",
              "      <td>486</td>\n",
              "      <td>767</td>\n",
              "      <td>PURCHASE</td>\n",
              "      <td>0.0</td>\n",
              "      <td></td>\n",
              "      <td>False</td>\n",
              "      <td>False</td>\n",
              "      <td>False</td>\n",
              "    </tr>\n",
              "    <tr>\n",
              "      <th>4</th>\n",
              "      <td>830329091</td>\n",
              "      <td>830329091</td>\n",
              "      <td>5000</td>\n",
              "      <td>5000.0</td>\n",
              "      <td>2016-03-24 21:04:46</td>\n",
              "      <td>71.18</td>\n",
              "      <td>Tim Hortons #947751</td>\n",
              "      <td>US</td>\n",
              "      <td>US</td>\n",
              "      <td>02</td>\n",
              "      <td>01</td>\n",
              "      <td>fastfood</td>\n",
              "      <td>2029-10-01</td>\n",
              "      <td>2015-08-06</td>\n",
              "      <td>2015-08-06</td>\n",
              "      <td>885</td>\n",
              "      <td>885</td>\n",
              "      <td>3143</td>\n",
              "      <td>PURCHASE</td>\n",
              "      <td>0.0</td>\n",
              "      <td></td>\n",
              "      <td>True</td>\n",
              "      <td>False</td>\n",
              "      <td>False</td>\n",
              "    </tr>\n",
              "  </tbody>\n",
              "</table>\n",
              "</div>"
            ],
            "text/plain": [
              "   accountNumber  customerId  ...  expirationDateKeyInMatch  isFraud\n",
              "0      737265056   737265056  ...                     False    False\n",
              "1      737265056   737265056  ...                     False    False\n",
              "2      737265056   737265056  ...                     False    False\n",
              "3      737265056   737265056  ...                     False    False\n",
              "4      830329091   830329091  ...                     False    False\n",
              "\n",
              "[5 rows x 24 columns]"
            ]
          },
          "metadata": {
            "tags": []
          },
          "execution_count": 44
        }
      ]
    },
    {
      "cell_type": "code",
      "metadata": {
        "id": "D6ZMVSiUSRa5",
        "colab_type": "code",
        "outputId": "eb2c1302-d205-47e6-edd3-c6f4b4c6075c",
        "colab": {
          "base_uri": "https://localhost:8080/",
          "height": 256
        }
      },
      "source": [
        "iub"
      ],
      "execution_count": 0,
      "outputs": [
        {
          "output_type": "error",
          "ename": "NameError",
          "evalue": "ignored",
          "traceback": [
            "\u001b[0;31m---------------------------------------------------------------------------\u001b[0m",
            "\u001b[0;31mNameError\u001b[0m                                 Traceback (most recent call last)",
            "\u001b[0;32m<ipython-input-45-729e9c4bd92f>\u001b[0m in \u001b[0;36m<module>\u001b[0;34m()\u001b[0m\n\u001b[0;32m----> 1\u001b[0;31m \u001b[0miub\u001b[0m\u001b[0;34m\u001b[0m\u001b[0;34m\u001b[0m\u001b[0m\n\u001b[0m",
            "\u001b[0;31mNameError\u001b[0m: name 'iub' is not defined",
            "",
            "\u001b[0;31m---------------------------------------------------------------------------\u001b[0;32m\nNOTE: Current TensorFlow version is 2.2.0-rc1. To use TF 1.x instead,\nrestart your runtime (Ctrl+M .) and run \"%tensorflow_version 1.x\" before\nyou run \"import tensorflow\".\n\u001b[0;31m---------------------------------------------------------------------------\u001b[0m\n"
          ]
        }
      ]
    },
    {
      "cell_type": "markdown",
      "metadata": {
        "id": "FzIg0G9Zud1V",
        "colab_type": "text"
      },
      "source": [
        "Copying the dataset for model so that we do not change the original and removing cardlast4Digits feature as the those numbers are randomized"
      ]
    },
    {
      "cell_type": "code",
      "metadata": {
        "id": "giCkD3KxVg7N",
        "colab_type": "code",
        "colab": {}
      },
      "source": [
        "df_model = data.drop([ \"cardLast4Digits\"], axis=1)"
      ],
      "execution_count": 0,
      "outputs": []
    },
    {
      "cell_type": "markdown",
      "metadata": {
        "id": "Cd43OxtEu3VN",
        "colab_type": "text"
      },
      "source": [
        "Feature Engineering:\n",
        "\n",
        "As we look through the features that we have, we can create some useful features from transactionDateTime.\n",
        "\n",
        "1. transaction_count_acc: The number of transactions conducted by the accountNumber in the given year. ***Our data shows almost a 1 to 1 mapping between customerID and accountNumber so the customerID could have been used as well.***\n",
        "\n",
        "2. timesince_last_transaction: [in days] This is the time in days past since the previous transaction from the account. For simplistic purposes, we shall mark the starting time as the mean of all accountholder previous transaction time."
      ]
    },
    {
      "cell_type": "code",
      "metadata": {
        "id": "-2q7umDKVhFk",
        "colab_type": "code",
        "outputId": "90bb8450-3f2e-44a9-cf9c-b2f3065bafc9",
        "colab": {
          "base_uri": "https://localhost:8080/",
          "height": 227
        }
      },
      "source": [
        "df_model[\"transaction_count_acc\"] = df_model.groupby(\"accountNumber\").cumcount()\n",
        "df_model[\"timesince_last_transac\"] = df_model.groupby(\"accountNumber\").transactionDateTime.apply(lambda x: x.diff().dt.days)\n",
        "df_model.fillna(int(np.mean(df_model[\"timesince_last_transac\"])+1), inplace=True)\n",
        "df_model.head()"
      ],
      "execution_count": 0,
      "outputs": [
        {
          "output_type": "execute_result",
          "data": {
            "text/html": [
              "<div>\n",
              "<style scoped>\n",
              "    .dataframe tbody tr th:only-of-type {\n",
              "        vertical-align: middle;\n",
              "    }\n",
              "\n",
              "    .dataframe tbody tr th {\n",
              "        vertical-align: top;\n",
              "    }\n",
              "\n",
              "    .dataframe thead th {\n",
              "        text-align: right;\n",
              "    }\n",
              "</style>\n",
              "<table border=\"1\" class=\"dataframe\">\n",
              "  <thead>\n",
              "    <tr style=\"text-align: right;\">\n",
              "      <th></th>\n",
              "      <th>accountNumber</th>\n",
              "      <th>customerId</th>\n",
              "      <th>creditLimit</th>\n",
              "      <th>availableMoney</th>\n",
              "      <th>transactionDateTime</th>\n",
              "      <th>transactionAmount</th>\n",
              "      <th>merchantName</th>\n",
              "      <th>acqCountry</th>\n",
              "      <th>merchantCountryCode</th>\n",
              "      <th>posEntryMode</th>\n",
              "      <th>posConditionCode</th>\n",
              "      <th>merchantCategoryCode</th>\n",
              "      <th>currentExpDate</th>\n",
              "      <th>accountOpenDate</th>\n",
              "      <th>dateOfLastAddressChange</th>\n",
              "      <th>cardCVV</th>\n",
              "      <th>enteredCVV</th>\n",
              "      <th>transactionType</th>\n",
              "      <th>currentBalance</th>\n",
              "      <th>merchantZip</th>\n",
              "      <th>cardPresent</th>\n",
              "      <th>expirationDateKeyInMatch</th>\n",
              "      <th>isFraud</th>\n",
              "      <th>transaction_count_acc</th>\n",
              "      <th>timesince_last_transac</th>\n",
              "    </tr>\n",
              "  </thead>\n",
              "  <tbody>\n",
              "    <tr>\n",
              "      <th>0</th>\n",
              "      <td>737265056</td>\n",
              "      <td>737265056</td>\n",
              "      <td>5000</td>\n",
              "      <td>5000.0</td>\n",
              "      <td>2016-08-13 14:27:32</td>\n",
              "      <td>98.55</td>\n",
              "      <td>Uber</td>\n",
              "      <td>US</td>\n",
              "      <td>US</td>\n",
              "      <td>02</td>\n",
              "      <td>01</td>\n",
              "      <td>rideshare</td>\n",
              "      <td>2023-06-01</td>\n",
              "      <td>2015-03-14</td>\n",
              "      <td>2015-03-14</td>\n",
              "      <td>414</td>\n",
              "      <td>414</td>\n",
              "      <td>PURCHASE</td>\n",
              "      <td>0.0</td>\n",
              "      <td></td>\n",
              "      <td>False</td>\n",
              "      <td>False</td>\n",
              "      <td>False</td>\n",
              "      <td>0</td>\n",
              "      <td>2.0</td>\n",
              "    </tr>\n",
              "    <tr>\n",
              "      <th>1</th>\n",
              "      <td>737265056</td>\n",
              "      <td>737265056</td>\n",
              "      <td>5000</td>\n",
              "      <td>5000.0</td>\n",
              "      <td>2016-10-11 05:05:54</td>\n",
              "      <td>74.51</td>\n",
              "      <td>AMC #191138</td>\n",
              "      <td>US</td>\n",
              "      <td>US</td>\n",
              "      <td>09</td>\n",
              "      <td>01</td>\n",
              "      <td>entertainment</td>\n",
              "      <td>2024-02-01</td>\n",
              "      <td>2015-03-14</td>\n",
              "      <td>2015-03-14</td>\n",
              "      <td>486</td>\n",
              "      <td>486</td>\n",
              "      <td>PURCHASE</td>\n",
              "      <td>0.0</td>\n",
              "      <td></td>\n",
              "      <td>True</td>\n",
              "      <td>False</td>\n",
              "      <td>False</td>\n",
              "      <td>1</td>\n",
              "      <td>58.0</td>\n",
              "    </tr>\n",
              "    <tr>\n",
              "      <th>2</th>\n",
              "      <td>737265056</td>\n",
              "      <td>737265056</td>\n",
              "      <td>5000</td>\n",
              "      <td>5000.0</td>\n",
              "      <td>2016-11-08 09:18:39</td>\n",
              "      <td>7.47</td>\n",
              "      <td>Play Store</td>\n",
              "      <td>US</td>\n",
              "      <td>US</td>\n",
              "      <td>09</td>\n",
              "      <td>01</td>\n",
              "      <td>mobileapps</td>\n",
              "      <td>2025-08-01</td>\n",
              "      <td>2015-03-14</td>\n",
              "      <td>2015-03-14</td>\n",
              "      <td>486</td>\n",
              "      <td>486</td>\n",
              "      <td>PURCHASE</td>\n",
              "      <td>0.0</td>\n",
              "      <td></td>\n",
              "      <td>False</td>\n",
              "      <td>False</td>\n",
              "      <td>False</td>\n",
              "      <td>2</td>\n",
              "      <td>28.0</td>\n",
              "    </tr>\n",
              "    <tr>\n",
              "      <th>3</th>\n",
              "      <td>737265056</td>\n",
              "      <td>737265056</td>\n",
              "      <td>5000</td>\n",
              "      <td>5000.0</td>\n",
              "      <td>2016-12-10 02:14:50</td>\n",
              "      <td>7.47</td>\n",
              "      <td>Play Store</td>\n",
              "      <td>US</td>\n",
              "      <td>US</td>\n",
              "      <td>09</td>\n",
              "      <td>01</td>\n",
              "      <td>mobileapps</td>\n",
              "      <td>2025-08-01</td>\n",
              "      <td>2015-03-14</td>\n",
              "      <td>2015-03-14</td>\n",
              "      <td>486</td>\n",
              "      <td>486</td>\n",
              "      <td>PURCHASE</td>\n",
              "      <td>0.0</td>\n",
              "      <td></td>\n",
              "      <td>False</td>\n",
              "      <td>False</td>\n",
              "      <td>False</td>\n",
              "      <td>3</td>\n",
              "      <td>31.0</td>\n",
              "    </tr>\n",
              "    <tr>\n",
              "      <th>4</th>\n",
              "      <td>830329091</td>\n",
              "      <td>830329091</td>\n",
              "      <td>5000</td>\n",
              "      <td>5000.0</td>\n",
              "      <td>2016-03-24 21:04:46</td>\n",
              "      <td>71.18</td>\n",
              "      <td>Tim Hortons #947751</td>\n",
              "      <td>US</td>\n",
              "      <td>US</td>\n",
              "      <td>02</td>\n",
              "      <td>01</td>\n",
              "      <td>fastfood</td>\n",
              "      <td>2029-10-01</td>\n",
              "      <td>2015-08-06</td>\n",
              "      <td>2015-08-06</td>\n",
              "      <td>885</td>\n",
              "      <td>885</td>\n",
              "      <td>PURCHASE</td>\n",
              "      <td>0.0</td>\n",
              "      <td></td>\n",
              "      <td>True</td>\n",
              "      <td>False</td>\n",
              "      <td>False</td>\n",
              "      <td>0</td>\n",
              "      <td>2.0</td>\n",
              "    </tr>\n",
              "  </tbody>\n",
              "</table>\n",
              "</div>"
            ],
            "text/plain": [
              "   accountNumber  customerId  ...  transaction_count_acc  timesince_last_transac\n",
              "0      737265056   737265056  ...                      0                     2.0\n",
              "1      737265056   737265056  ...                      1                    58.0\n",
              "2      737265056   737265056  ...                      2                    28.0\n",
              "3      737265056   737265056  ...                      3                    31.0\n",
              "4      830329091   830329091  ...                      0                     2.0\n",
              "\n",
              "[5 rows x 25 columns]"
            ]
          },
          "metadata": {
            "tags": []
          },
          "execution_count": 47
        }
      ]
    },
    {
      "cell_type": "markdown",
      "metadata": {
        "id": "YtLCBT4P_vlf",
        "colab_type": "text"
      },
      "source": [
        "There is a special relationship between customers and the catergories they spend on and the merchants they visit. We develop some features for that:\n",
        "\n",
        "Customer and Merchant:\n",
        "1. cus_merch_transac_count: number of previous transactions conducted at the merchant.\n",
        "\n",
        "2. cus_merch_transac_med: Median money spent at the merchant.\n",
        "\n",
        "Customer and category:\n",
        "1. cus_cat_transac_count: number of previous transactions in the category/\n",
        "\n",
        "2. cus_merch_transac_avg: Median money spent in the specific category.\n",
        "\n",
        "We used median as it is resistant to outliers."
      ]
    },
    {
      "cell_type": "code",
      "metadata": {
        "id": "Z1HmR3sK55E5",
        "colab_type": "code",
        "outputId": "46e6ce97-a137-4954-d77d-f6eb932f261b",
        "colab": {
          "base_uri": "https://localhost:8080/",
          "height": 227
        }
      },
      "source": [
        "df_model[\"cus_merch_transac_count\"]=df_model.groupby([\"customerId\", \"merchantName\"]).cumcount()\n",
        "df_model[\"cus_merch_transac_med\"]=df_model.groupby([\"customerId\", \"merchantName\"])['transactionAmount'].transform(\"median\")\n",
        "\n",
        "df_model[\"cus_cat_transac_count\"]=df_model.groupby([\"customerId\", \"merchantCategoryCode\"]).cumcount()\n",
        "df_model[\"cus_cat_transac_med\"]=df_model.groupby([\"customerId\", \"merchantCategoryCode\"])['transactionAmount'].transform(\"median\")\n",
        "df_model.head()"
      ],
      "execution_count": 0,
      "outputs": [
        {
          "output_type": "execute_result",
          "data": {
            "text/html": [
              "<div>\n",
              "<style scoped>\n",
              "    .dataframe tbody tr th:only-of-type {\n",
              "        vertical-align: middle;\n",
              "    }\n",
              "\n",
              "    .dataframe tbody tr th {\n",
              "        vertical-align: top;\n",
              "    }\n",
              "\n",
              "    .dataframe thead th {\n",
              "        text-align: right;\n",
              "    }\n",
              "</style>\n",
              "<table border=\"1\" class=\"dataframe\">\n",
              "  <thead>\n",
              "    <tr style=\"text-align: right;\">\n",
              "      <th></th>\n",
              "      <th>accountNumber</th>\n",
              "      <th>customerId</th>\n",
              "      <th>creditLimit</th>\n",
              "      <th>availableMoney</th>\n",
              "      <th>transactionDateTime</th>\n",
              "      <th>transactionAmount</th>\n",
              "      <th>merchantName</th>\n",
              "      <th>acqCountry</th>\n",
              "      <th>merchantCountryCode</th>\n",
              "      <th>posEntryMode</th>\n",
              "      <th>posConditionCode</th>\n",
              "      <th>merchantCategoryCode</th>\n",
              "      <th>currentExpDate</th>\n",
              "      <th>accountOpenDate</th>\n",
              "      <th>dateOfLastAddressChange</th>\n",
              "      <th>cardCVV</th>\n",
              "      <th>enteredCVV</th>\n",
              "      <th>transactionType</th>\n",
              "      <th>currentBalance</th>\n",
              "      <th>merchantZip</th>\n",
              "      <th>cardPresent</th>\n",
              "      <th>expirationDateKeyInMatch</th>\n",
              "      <th>isFraud</th>\n",
              "      <th>transaction_count_acc</th>\n",
              "      <th>timesince_last_transac</th>\n",
              "      <th>cus_merch_transac_count</th>\n",
              "      <th>cus_merch_transac_med</th>\n",
              "      <th>cus_cat_transac_count</th>\n",
              "      <th>cus_cat_transac_med</th>\n",
              "    </tr>\n",
              "  </thead>\n",
              "  <tbody>\n",
              "    <tr>\n",
              "      <th>0</th>\n",
              "      <td>737265056</td>\n",
              "      <td>737265056</td>\n",
              "      <td>5000</td>\n",
              "      <td>5000.0</td>\n",
              "      <td>2016-08-13 14:27:32</td>\n",
              "      <td>98.55</td>\n",
              "      <td>Uber</td>\n",
              "      <td>US</td>\n",
              "      <td>US</td>\n",
              "      <td>02</td>\n",
              "      <td>01</td>\n",
              "      <td>rideshare</td>\n",
              "      <td>2023-06-01</td>\n",
              "      <td>2015-03-14</td>\n",
              "      <td>2015-03-14</td>\n",
              "      <td>414</td>\n",
              "      <td>414</td>\n",
              "      <td>PURCHASE</td>\n",
              "      <td>0.0</td>\n",
              "      <td></td>\n",
              "      <td>False</td>\n",
              "      <td>False</td>\n",
              "      <td>False</td>\n",
              "      <td>0</td>\n",
              "      <td>2.0</td>\n",
              "      <td>0</td>\n",
              "      <td>98.55</td>\n",
              "      <td>0</td>\n",
              "      <td>98.55</td>\n",
              "    </tr>\n",
              "    <tr>\n",
              "      <th>1</th>\n",
              "      <td>737265056</td>\n",
              "      <td>737265056</td>\n",
              "      <td>5000</td>\n",
              "      <td>5000.0</td>\n",
              "      <td>2016-10-11 05:05:54</td>\n",
              "      <td>74.51</td>\n",
              "      <td>AMC #191138</td>\n",
              "      <td>US</td>\n",
              "      <td>US</td>\n",
              "      <td>09</td>\n",
              "      <td>01</td>\n",
              "      <td>entertainment</td>\n",
              "      <td>2024-02-01</td>\n",
              "      <td>2015-03-14</td>\n",
              "      <td>2015-03-14</td>\n",
              "      <td>486</td>\n",
              "      <td>486</td>\n",
              "      <td>PURCHASE</td>\n",
              "      <td>0.0</td>\n",
              "      <td></td>\n",
              "      <td>True</td>\n",
              "      <td>False</td>\n",
              "      <td>False</td>\n",
              "      <td>1</td>\n",
              "      <td>58.0</td>\n",
              "      <td>0</td>\n",
              "      <td>74.51</td>\n",
              "      <td>0</td>\n",
              "      <td>74.51</td>\n",
              "    </tr>\n",
              "    <tr>\n",
              "      <th>2</th>\n",
              "      <td>737265056</td>\n",
              "      <td>737265056</td>\n",
              "      <td>5000</td>\n",
              "      <td>5000.0</td>\n",
              "      <td>2016-11-08 09:18:39</td>\n",
              "      <td>7.47</td>\n",
              "      <td>Play Store</td>\n",
              "      <td>US</td>\n",
              "      <td>US</td>\n",
              "      <td>09</td>\n",
              "      <td>01</td>\n",
              "      <td>mobileapps</td>\n",
              "      <td>2025-08-01</td>\n",
              "      <td>2015-03-14</td>\n",
              "      <td>2015-03-14</td>\n",
              "      <td>486</td>\n",
              "      <td>486</td>\n",
              "      <td>PURCHASE</td>\n",
              "      <td>0.0</td>\n",
              "      <td></td>\n",
              "      <td>False</td>\n",
              "      <td>False</td>\n",
              "      <td>False</td>\n",
              "      <td>2</td>\n",
              "      <td>28.0</td>\n",
              "      <td>0</td>\n",
              "      <td>7.47</td>\n",
              "      <td>0</td>\n",
              "      <td>7.47</td>\n",
              "    </tr>\n",
              "    <tr>\n",
              "      <th>3</th>\n",
              "      <td>737265056</td>\n",
              "      <td>737265056</td>\n",
              "      <td>5000</td>\n",
              "      <td>5000.0</td>\n",
              "      <td>2016-12-10 02:14:50</td>\n",
              "      <td>7.47</td>\n",
              "      <td>Play Store</td>\n",
              "      <td>US</td>\n",
              "      <td>US</td>\n",
              "      <td>09</td>\n",
              "      <td>01</td>\n",
              "      <td>mobileapps</td>\n",
              "      <td>2025-08-01</td>\n",
              "      <td>2015-03-14</td>\n",
              "      <td>2015-03-14</td>\n",
              "      <td>486</td>\n",
              "      <td>486</td>\n",
              "      <td>PURCHASE</td>\n",
              "      <td>0.0</td>\n",
              "      <td></td>\n",
              "      <td>False</td>\n",
              "      <td>False</td>\n",
              "      <td>False</td>\n",
              "      <td>3</td>\n",
              "      <td>31.0</td>\n",
              "      <td>1</td>\n",
              "      <td>7.47</td>\n",
              "      <td>1</td>\n",
              "      <td>7.47</td>\n",
              "    </tr>\n",
              "    <tr>\n",
              "      <th>4</th>\n",
              "      <td>830329091</td>\n",
              "      <td>830329091</td>\n",
              "      <td>5000</td>\n",
              "      <td>5000.0</td>\n",
              "      <td>2016-03-24 21:04:46</td>\n",
              "      <td>71.18</td>\n",
              "      <td>Tim Hortons #947751</td>\n",
              "      <td>US</td>\n",
              "      <td>US</td>\n",
              "      <td>02</td>\n",
              "      <td>01</td>\n",
              "      <td>fastfood</td>\n",
              "      <td>2029-10-01</td>\n",
              "      <td>2015-08-06</td>\n",
              "      <td>2015-08-06</td>\n",
              "      <td>885</td>\n",
              "      <td>885</td>\n",
              "      <td>PURCHASE</td>\n",
              "      <td>0.0</td>\n",
              "      <td></td>\n",
              "      <td>True</td>\n",
              "      <td>False</td>\n",
              "      <td>False</td>\n",
              "      <td>0</td>\n",
              "      <td>2.0</td>\n",
              "      <td>0</td>\n",
              "      <td>71.18</td>\n",
              "      <td>0</td>\n",
              "      <td>71.18</td>\n",
              "    </tr>\n",
              "  </tbody>\n",
              "</table>\n",
              "</div>"
            ],
            "text/plain": [
              "   accountNumber  customerId  ...  cus_cat_transac_count  cus_cat_transac_med\n",
              "0      737265056   737265056  ...                      0                98.55\n",
              "1      737265056   737265056  ...                      0                74.51\n",
              "2      737265056   737265056  ...                      0                 7.47\n",
              "3      737265056   737265056  ...                      1                 7.47\n",
              "4      830329091   830329091  ...                      0                71.18\n",
              "\n",
              "[5 rows x 29 columns]"
            ]
          },
          "metadata": {
            "tags": []
          },
          "execution_count": 48
        }
      ]
    },
    {
      "cell_type": "code",
      "metadata": {
        "id": "p67Vc2MzTBEZ",
        "colab_type": "code",
        "colab": {}
      },
      "source": [
        "df_model[\"trans_over_mean_merch\"] = df_model[\"transactionAmount\"]/df_model.groupby([\"merchantName\"])['transactionAmount'].transform(\"mean\")\n",
        "df_model[\"trans_over_std_merch\"] = df_model[\"transactionAmount\"]/df_model.groupby([\"merchantName\"])['transactionAmount'].transform(\"std\")\n",
        "\n",
        "df_model[\"trans_over_mean_cat\"] = df_model[\"transactionAmount\"]/df_model.groupby([\"merchantCategoryCode\"])['transactionAmount'].transform(\"mean\")\n",
        "df_model[\"trans_over_std_cat\"] = df_model[\"transactionAmount\"]/df_model.groupby([\"merchantCategoryCode\"])['transactionAmount'].transform(\"std\")\n",
        "\n",
        "df_model[\"trans_over_mean_cus\"] = df_model[\"transactionAmount\"]/df_model.groupby([\"customerId\"])['transactionAmount'].transform(\"mean\")\n",
        "df_model[\"trans_over_std_cus\"] = df_model[\"transactionAmount\"]/df_model.groupby([\"customerId\"])['transactionAmount'].transform(\"std\")"
      ],
      "execution_count": 0,
      "outputs": []
    },
    {
      "cell_type": "markdown",
      "metadata": {
        "id": "fVGbFYD2xvk-",
        "colab_type": "text"
      },
      "source": [
        "Another feature that could be developed is:\n",
        "1. how many fraudulent transactions have been conducted from an account. This will show us if an account has been compromised.\n",
        "\n",
        "2. how many fraudulent transactions have been conducted from a merchant. This will show us if a merchant has been compromised."
      ]
    },
    {
      "cell_type": "code",
      "metadata": {
        "id": "ktSRU7P0gQlm",
        "colab_type": "code",
        "colab": {}
      },
      "source": [
        "df_model[\"prev_Fraud_acc\"] = data.groupby([\"accountNumber\"])['isFraud'].transform('sum')\n",
        "df_model[\"prev_Fraud_merch\"] = data.groupby([\"merchantName\"])['isFraud'].transform('sum')"
      ],
      "execution_count": 0,
      "outputs": []
    },
    {
      "cell_type": "markdown",
      "metadata": {
        "id": "MnSCkSqBgFqp",
        "colab_type": "text"
      },
      "source": [
        "\n",
        "Some features which might be useful:\n",
        "\n",
        "1. Whether the entered CVV matches the card CVV. Then dropping the CVV.\n",
        "2. Whether country match\n",
        "3. Using date time features, taking the time difference between the transaction time and the rest may offer some insight. then dropping the dates."
      ]
    },
    {
      "cell_type": "code",
      "metadata": {
        "id": "7e2Ki61jhBvM",
        "colab_type": "code",
        "colab": {}
      },
      "source": [
        "df_model[\"cvv_match\"] = df_model.apply(lambda x: x[\"cardCVV\"]==x[\"enteredCVV\"], axis=1)\n",
        "df_model[\"country_match\"] = df_model.apply(lambda x: x[\"acqCountry\"]==x[\"merchantCountryCode\"], axis=1)"
      ],
      "execution_count": 0,
      "outputs": []
    },
    {
      "cell_type": "code",
      "metadata": {
        "id": "QxQjyCmNhtJd",
        "colab_type": "code",
        "colab": {}
      },
      "source": [
        "df_model[\"datediff_exp\"] = (df_model[\"currentExpDate\"]-df_model[\"transactionDateTime\"]).dt.days//30\n",
        "df_model[\"datediff_acc\"] = (df_model[\"transactionDateTime\"]-df_model[\"accountOpenDate\"]).dt.days//30\n",
        "df_model[\"datediff_add\"] = (df_model[\"transactionDateTime\"]-df_model[\"dateOfLastAddressChange\"]).dt.days//30"
      ],
      "execution_count": 0,
      "outputs": []
    },
    {
      "cell_type": "markdown",
      "metadata": {
        "id": "9IE9x0UL18ed",
        "colab_type": "text"
      },
      "source": [
        "Assuming Fraud is only being conducted on transactiontype as PURCHASE so cutting down our data."
      ]
    },
    {
      "cell_type": "code",
      "metadata": {
        "id": "3x-XZolu3Piv",
        "colab_type": "code",
        "colab": {}
      },
      "source": [
        "df_model = df_model.loc[df_model.transactionType==\"PURCHASE\"]"
      ],
      "execution_count": 0,
      "outputs": []
    },
    {
      "cell_type": "markdown",
      "metadata": {
        "id": "wC6kSvHkpaSv",
        "colab_type": "text"
      },
      "source": [
        "Dropping Unimportant features:\n",
        "\n",
        "1. AccountNumber and CustomerID have been used above for some features but cannot be used for modeling.\n",
        "\n",
        "2. Date and time features have been used for some features above. Could be used for more feature engineering, but we proceed further due to time constraints. \n",
        "\n",
        "3. MerchantCountry code and acqcountry was used for a logical vector feature. \n",
        "\n",
        "4. Dropping merchant name which was used above. Her the assumption is that certain locations of the merchant (assigned numbers) can be fraudulent not entire merchant.\n",
        "\n",
        "5. Merchant Zip is dropped as it is an empty column\n",
        "\n",
        "6. CardCVV and enteredCVV was used for matching feature and are now being dropped.\n",
        "\n",
        "7. Transactiontype as only one type is left.\n",
        "\n",
        "8. Merchant Category as we have already used for feature engineering"
      ]
    },
    {
      "cell_type": "code",
      "metadata": {
        "id": "8DOB9W_smlyw",
        "colab_type": "code",
        "outputId": "5ae230e0-2281-408f-ef1a-19065bdf25bb",
        "colab": {
          "base_uri": "https://localhost:8080/",
          "height": 211
        }
      },
      "source": [
        "df_model = df_model.drop([\"accountNumber\", \"customerId\", \"transactionDateTime\", \"currentExpDate\", \"dateOfLastAddressChange\", \"accountOpenDate\", \"cardCVV\", \"enteredCVV\", \\\n",
        "                          \"acqCountry\", \"merchantCountryCode\", \"merchantZip\", \"merchantName\", 'transactionType', \"merchantCategoryCode\"], axis=1)\n",
        "df_model.head()"
      ],
      "execution_count": 0,
      "outputs": [
        {
          "output_type": "execute_result",
          "data": {
            "text/html": [
              "<div>\n",
              "<style scoped>\n",
              "    .dataframe tbody tr th:only-of-type {\n",
              "        vertical-align: middle;\n",
              "    }\n",
              "\n",
              "    .dataframe tbody tr th {\n",
              "        vertical-align: top;\n",
              "    }\n",
              "\n",
              "    .dataframe thead th {\n",
              "        text-align: right;\n",
              "    }\n",
              "</style>\n",
              "<table border=\"1\" class=\"dataframe\">\n",
              "  <thead>\n",
              "    <tr style=\"text-align: right;\">\n",
              "      <th></th>\n",
              "      <th>creditLimit</th>\n",
              "      <th>availableMoney</th>\n",
              "      <th>transactionAmount</th>\n",
              "      <th>posEntryMode</th>\n",
              "      <th>posConditionCode</th>\n",
              "      <th>currentBalance</th>\n",
              "      <th>cardPresent</th>\n",
              "      <th>expirationDateKeyInMatch</th>\n",
              "      <th>isFraud</th>\n",
              "      <th>transaction_count_acc</th>\n",
              "      <th>timesince_last_transac</th>\n",
              "      <th>cus_merch_transac_count</th>\n",
              "      <th>cus_merch_transac_med</th>\n",
              "      <th>cus_cat_transac_count</th>\n",
              "      <th>cus_cat_transac_med</th>\n",
              "      <th>trans_over_mean_merch</th>\n",
              "      <th>trans_over_std_merch</th>\n",
              "      <th>trans_over_mean_cat</th>\n",
              "      <th>trans_over_std_cat</th>\n",
              "      <th>trans_over_mean_cus</th>\n",
              "      <th>trans_over_std_cus</th>\n",
              "      <th>prev_Fraud_acc</th>\n",
              "      <th>prev_Fraud_merch</th>\n",
              "      <th>cvv_match</th>\n",
              "      <th>country_match</th>\n",
              "      <th>datediff_exp</th>\n",
              "      <th>datediff_acc</th>\n",
              "      <th>datediff_add</th>\n",
              "    </tr>\n",
              "  </thead>\n",
              "  <tbody>\n",
              "    <tr>\n",
              "      <th>0</th>\n",
              "      <td>5000</td>\n",
              "      <td>5000.0</td>\n",
              "      <td>98.55</td>\n",
              "      <td>02</td>\n",
              "      <td>01</td>\n",
              "      <td>0.0</td>\n",
              "      <td>False</td>\n",
              "      <td>False</td>\n",
              "      <td>False</td>\n",
              "      <td>0</td>\n",
              "      <td>2.0</td>\n",
              "      <td>0</td>\n",
              "      <td>98.55</td>\n",
              "      <td>0</td>\n",
              "      <td>98.55</td>\n",
              "      <td>0.676336</td>\n",
              "      <td>0.654610</td>\n",
              "      <td>0.673981</td>\n",
              "      <td>0.655354</td>\n",
              "      <td>2.096809</td>\n",
              "      <td>2.110799</td>\n",
              "      <td>0.0</td>\n",
              "      <td>512.0</td>\n",
              "      <td>True</td>\n",
              "      <td>True</td>\n",
              "      <td>82</td>\n",
              "      <td>17</td>\n",
              "      <td>17</td>\n",
              "    </tr>\n",
              "    <tr>\n",
              "      <th>1</th>\n",
              "      <td>5000</td>\n",
              "      <td>5000.0</td>\n",
              "      <td>74.51</td>\n",
              "      <td>09</td>\n",
              "      <td>01</td>\n",
              "      <td>0.0</td>\n",
              "      <td>True</td>\n",
              "      <td>False</td>\n",
              "      <td>False</td>\n",
              "      <td>1</td>\n",
              "      <td>58.0</td>\n",
              "      <td>0</td>\n",
              "      <td>74.51</td>\n",
              "      <td>0</td>\n",
              "      <td>74.51</td>\n",
              "      <td>0.514582</td>\n",
              "      <td>0.497311</td>\n",
              "      <td>0.510197</td>\n",
              "      <td>0.495961</td>\n",
              "      <td>1.585319</td>\n",
              "      <td>1.595897</td>\n",
              "      <td>0.0</td>\n",
              "      <td>20.0</td>\n",
              "      <td>True</td>\n",
              "      <td>True</td>\n",
              "      <td>88</td>\n",
              "      <td>19</td>\n",
              "      <td>19</td>\n",
              "    </tr>\n",
              "    <tr>\n",
              "      <th>2</th>\n",
              "      <td>5000</td>\n",
              "      <td>5000.0</td>\n",
              "      <td>7.47</td>\n",
              "      <td>09</td>\n",
              "      <td>01</td>\n",
              "      <td>0.0</td>\n",
              "      <td>False</td>\n",
              "      <td>False</td>\n",
              "      <td>False</td>\n",
              "      <td>2</td>\n",
              "      <td>28.0</td>\n",
              "      <td>0</td>\n",
              "      <td>7.47</td>\n",
              "      <td>0</td>\n",
              "      <td>7.47</td>\n",
              "      <td>1.273399</td>\n",
              "      <td>3.926232</td>\n",
              "      <td>1.279722</td>\n",
              "      <td>3.832968</td>\n",
              "      <td>0.158936</td>\n",
              "      <td>0.159997</td>\n",
              "      <td>0.0</td>\n",
              "      <td>0.0</td>\n",
              "      <td>True</td>\n",
              "      <td>True</td>\n",
              "      <td>106</td>\n",
              "      <td>20</td>\n",
              "      <td>20</td>\n",
              "    </tr>\n",
              "    <tr>\n",
              "      <th>3</th>\n",
              "      <td>5000</td>\n",
              "      <td>5000.0</td>\n",
              "      <td>7.47</td>\n",
              "      <td>09</td>\n",
              "      <td>01</td>\n",
              "      <td>0.0</td>\n",
              "      <td>False</td>\n",
              "      <td>False</td>\n",
              "      <td>False</td>\n",
              "      <td>3</td>\n",
              "      <td>31.0</td>\n",
              "      <td>1</td>\n",
              "      <td>7.47</td>\n",
              "      <td>1</td>\n",
              "      <td>7.47</td>\n",
              "      <td>1.273399</td>\n",
              "      <td>3.926232</td>\n",
              "      <td>1.279722</td>\n",
              "      <td>3.832968</td>\n",
              "      <td>0.158936</td>\n",
              "      <td>0.159997</td>\n",
              "      <td>0.0</td>\n",
              "      <td>0.0</td>\n",
              "      <td>True</td>\n",
              "      <td>True</td>\n",
              "      <td>105</td>\n",
              "      <td>21</td>\n",
              "      <td>21</td>\n",
              "    </tr>\n",
              "    <tr>\n",
              "      <th>4</th>\n",
              "      <td>5000</td>\n",
              "      <td>5000.0</td>\n",
              "      <td>71.18</td>\n",
              "      <td>02</td>\n",
              "      <td>01</td>\n",
              "      <td>0.0</td>\n",
              "      <td>True</td>\n",
              "      <td>False</td>\n",
              "      <td>False</td>\n",
              "      <td>0</td>\n",
              "      <td>2.0</td>\n",
              "      <td>0</td>\n",
              "      <td>71.18</td>\n",
              "      <td>0</td>\n",
              "      <td>71.18</td>\n",
              "      <td>0.515317</td>\n",
              "      <td>0.598171</td>\n",
              "      <td>0.488902</td>\n",
              "      <td>0.474981</td>\n",
              "      <td>0.663649</td>\n",
              "      <td>0.483884</td>\n",
              "      <td>0.0</td>\n",
              "      <td>1.0</td>\n",
              "      <td>True</td>\n",
              "      <td>True</td>\n",
              "      <td>164</td>\n",
              "      <td>7</td>\n",
              "      <td>7</td>\n",
              "    </tr>\n",
              "  </tbody>\n",
              "</table>\n",
              "</div>"
            ],
            "text/plain": [
              "   creditLimit  availableMoney  ...  datediff_acc datediff_add\n",
              "0         5000          5000.0  ...            17           17\n",
              "1         5000          5000.0  ...            19           19\n",
              "2         5000          5000.0  ...            20           20\n",
              "3         5000          5000.0  ...            21           21\n",
              "4         5000          5000.0  ...             7            7\n",
              "\n",
              "[5 rows x 28 columns]"
            ]
          },
          "metadata": {
            "tags": []
          },
          "execution_count": 54
        }
      ]
    },
    {
      "cell_type": "markdown",
      "metadata": {
        "id": "BFMG7uRF1voG",
        "colab_type": "text"
      },
      "source": [
        "Assuming posEntry and posConditionCode might offer some insights, we convert them into categories and one-hot vector features"
      ]
    },
    {
      "cell_type": "code",
      "metadata": {
        "id": "FVwZJAyaQ8OK",
        "colab_type": "code",
        "colab": {}
      },
      "source": [
        "for col in ['posEntryMode', \"posConditionCode\"]:\n",
        "    df_model[col] = df_model[col].astype('category')\n",
        "df_model = pd.get_dummies(df_model)"
      ],
      "execution_count": 0,
      "outputs": []
    },
    {
      "cell_type": "markdown",
      "metadata": {
        "id": "Mek4LE-3DVxg",
        "colab_type": "text"
      },
      "source": [
        "Label encoding our logical vectors and changing type to category:\n",
        "\n",
        "1. cardPresent\n",
        "2. expirationDateKeyInMatch\n",
        "3. cvv_match\n",
        "4. country_match\n",
        "5. isFraud - our target vector"
      ]
    },
    {
      "cell_type": "code",
      "metadata": {
        "id": "0hgb7fPJlE06",
        "colab_type": "code",
        "outputId": "bdb8e68b-9bc5-4c0a-f382-056324d3b9bb",
        "colab": {
          "base_uri": "https://localhost:8080/",
          "height": 211
        }
      },
      "source": [
        "from sklearn import preprocessing\n",
        "le = preprocessing.LabelEncoder()\n",
        "df_model[\"cardPresent\"] = le.fit_transform(df_model[\"cardPresent\"])\n",
        "le = preprocessing.LabelEncoder()\n",
        "df_model[\"expirationDateKeyInMatch\"] = le.fit_transform(df_model[\"expirationDateKeyInMatch\"])\n",
        "le = preprocessing.LabelEncoder()\n",
        "df_model[\"cvv_match\"] = le.fit_transform(df_model[\"cvv_match\"])\n",
        "le = preprocessing.LabelEncoder()\n",
        "df_model[\"isFraud\"] = le.fit_transform(df_model[\"isFraud\"])\n",
        "le = preprocessing.LabelEncoder()\n",
        "df_model[\"country_match\"] = le.fit_transform(df_model[\"country_match\"])\n",
        "\n",
        "df_model.head()"
      ],
      "execution_count": 0,
      "outputs": [
        {
          "output_type": "execute_result",
          "data": {
            "text/html": [
              "<div>\n",
              "<style scoped>\n",
              "    .dataframe tbody tr th:only-of-type {\n",
              "        vertical-align: middle;\n",
              "    }\n",
              "\n",
              "    .dataframe tbody tr th {\n",
              "        vertical-align: top;\n",
              "    }\n",
              "\n",
              "    .dataframe thead th {\n",
              "        text-align: right;\n",
              "    }\n",
              "</style>\n",
              "<table border=\"1\" class=\"dataframe\">\n",
              "  <thead>\n",
              "    <tr style=\"text-align: right;\">\n",
              "      <th></th>\n",
              "      <th>creditLimit</th>\n",
              "      <th>availableMoney</th>\n",
              "      <th>transactionAmount</th>\n",
              "      <th>currentBalance</th>\n",
              "      <th>cardPresent</th>\n",
              "      <th>expirationDateKeyInMatch</th>\n",
              "      <th>isFraud</th>\n",
              "      <th>transaction_count_acc</th>\n",
              "      <th>timesince_last_transac</th>\n",
              "      <th>cus_merch_transac_count</th>\n",
              "      <th>cus_merch_transac_med</th>\n",
              "      <th>cus_cat_transac_count</th>\n",
              "      <th>cus_cat_transac_med</th>\n",
              "      <th>trans_over_mean_merch</th>\n",
              "      <th>trans_over_std_merch</th>\n",
              "      <th>trans_over_mean_cat</th>\n",
              "      <th>trans_over_std_cat</th>\n",
              "      <th>trans_over_mean_cus</th>\n",
              "      <th>trans_over_std_cus</th>\n",
              "      <th>prev_Fraud_acc</th>\n",
              "      <th>prev_Fraud_merch</th>\n",
              "      <th>cvv_match</th>\n",
              "      <th>country_match</th>\n",
              "      <th>datediff_exp</th>\n",
              "      <th>datediff_acc</th>\n",
              "      <th>datediff_add</th>\n",
              "      <th>posEntryMode_</th>\n",
              "      <th>posEntryMode_02</th>\n",
              "      <th>posEntryMode_05</th>\n",
              "      <th>posEntryMode_09</th>\n",
              "      <th>posEntryMode_80</th>\n",
              "      <th>posEntryMode_90</th>\n",
              "      <th>posConditionCode_</th>\n",
              "      <th>posConditionCode_01</th>\n",
              "      <th>posConditionCode_08</th>\n",
              "      <th>posConditionCode_99</th>\n",
              "    </tr>\n",
              "  </thead>\n",
              "  <tbody>\n",
              "    <tr>\n",
              "      <th>0</th>\n",
              "      <td>5000</td>\n",
              "      <td>5000.0</td>\n",
              "      <td>98.55</td>\n",
              "      <td>0.0</td>\n",
              "      <td>0</td>\n",
              "      <td>0</td>\n",
              "      <td>0</td>\n",
              "      <td>0</td>\n",
              "      <td>2.0</td>\n",
              "      <td>0</td>\n",
              "      <td>98.55</td>\n",
              "      <td>0</td>\n",
              "      <td>98.55</td>\n",
              "      <td>0.676336</td>\n",
              "      <td>0.654610</td>\n",
              "      <td>0.673981</td>\n",
              "      <td>0.655354</td>\n",
              "      <td>2.096809</td>\n",
              "      <td>2.110799</td>\n",
              "      <td>0.0</td>\n",
              "      <td>512.0</td>\n",
              "      <td>1</td>\n",
              "      <td>1</td>\n",
              "      <td>82</td>\n",
              "      <td>17</td>\n",
              "      <td>17</td>\n",
              "      <td>0</td>\n",
              "      <td>1</td>\n",
              "      <td>0</td>\n",
              "      <td>0</td>\n",
              "      <td>0</td>\n",
              "      <td>0</td>\n",
              "      <td>0</td>\n",
              "      <td>1</td>\n",
              "      <td>0</td>\n",
              "      <td>0</td>\n",
              "    </tr>\n",
              "    <tr>\n",
              "      <th>1</th>\n",
              "      <td>5000</td>\n",
              "      <td>5000.0</td>\n",
              "      <td>74.51</td>\n",
              "      <td>0.0</td>\n",
              "      <td>1</td>\n",
              "      <td>0</td>\n",
              "      <td>0</td>\n",
              "      <td>1</td>\n",
              "      <td>58.0</td>\n",
              "      <td>0</td>\n",
              "      <td>74.51</td>\n",
              "      <td>0</td>\n",
              "      <td>74.51</td>\n",
              "      <td>0.514582</td>\n",
              "      <td>0.497311</td>\n",
              "      <td>0.510197</td>\n",
              "      <td>0.495961</td>\n",
              "      <td>1.585319</td>\n",
              "      <td>1.595897</td>\n",
              "      <td>0.0</td>\n",
              "      <td>20.0</td>\n",
              "      <td>1</td>\n",
              "      <td>1</td>\n",
              "      <td>88</td>\n",
              "      <td>19</td>\n",
              "      <td>19</td>\n",
              "      <td>0</td>\n",
              "      <td>0</td>\n",
              "      <td>0</td>\n",
              "      <td>1</td>\n",
              "      <td>0</td>\n",
              "      <td>0</td>\n",
              "      <td>0</td>\n",
              "      <td>1</td>\n",
              "      <td>0</td>\n",
              "      <td>0</td>\n",
              "    </tr>\n",
              "    <tr>\n",
              "      <th>2</th>\n",
              "      <td>5000</td>\n",
              "      <td>5000.0</td>\n",
              "      <td>7.47</td>\n",
              "      <td>0.0</td>\n",
              "      <td>0</td>\n",
              "      <td>0</td>\n",
              "      <td>0</td>\n",
              "      <td>2</td>\n",
              "      <td>28.0</td>\n",
              "      <td>0</td>\n",
              "      <td>7.47</td>\n",
              "      <td>0</td>\n",
              "      <td>7.47</td>\n",
              "      <td>1.273399</td>\n",
              "      <td>3.926232</td>\n",
              "      <td>1.279722</td>\n",
              "      <td>3.832968</td>\n",
              "      <td>0.158936</td>\n",
              "      <td>0.159997</td>\n",
              "      <td>0.0</td>\n",
              "      <td>0.0</td>\n",
              "      <td>1</td>\n",
              "      <td>1</td>\n",
              "      <td>106</td>\n",
              "      <td>20</td>\n",
              "      <td>20</td>\n",
              "      <td>0</td>\n",
              "      <td>0</td>\n",
              "      <td>0</td>\n",
              "      <td>1</td>\n",
              "      <td>0</td>\n",
              "      <td>0</td>\n",
              "      <td>0</td>\n",
              "      <td>1</td>\n",
              "      <td>0</td>\n",
              "      <td>0</td>\n",
              "    </tr>\n",
              "    <tr>\n",
              "      <th>3</th>\n",
              "      <td>5000</td>\n",
              "      <td>5000.0</td>\n",
              "      <td>7.47</td>\n",
              "      <td>0.0</td>\n",
              "      <td>0</td>\n",
              "      <td>0</td>\n",
              "      <td>0</td>\n",
              "      <td>3</td>\n",
              "      <td>31.0</td>\n",
              "      <td>1</td>\n",
              "      <td>7.47</td>\n",
              "      <td>1</td>\n",
              "      <td>7.47</td>\n",
              "      <td>1.273399</td>\n",
              "      <td>3.926232</td>\n",
              "      <td>1.279722</td>\n",
              "      <td>3.832968</td>\n",
              "      <td>0.158936</td>\n",
              "      <td>0.159997</td>\n",
              "      <td>0.0</td>\n",
              "      <td>0.0</td>\n",
              "      <td>1</td>\n",
              "      <td>1</td>\n",
              "      <td>105</td>\n",
              "      <td>21</td>\n",
              "      <td>21</td>\n",
              "      <td>0</td>\n",
              "      <td>0</td>\n",
              "      <td>0</td>\n",
              "      <td>1</td>\n",
              "      <td>0</td>\n",
              "      <td>0</td>\n",
              "      <td>0</td>\n",
              "      <td>1</td>\n",
              "      <td>0</td>\n",
              "      <td>0</td>\n",
              "    </tr>\n",
              "    <tr>\n",
              "      <th>4</th>\n",
              "      <td>5000</td>\n",
              "      <td>5000.0</td>\n",
              "      <td>71.18</td>\n",
              "      <td>0.0</td>\n",
              "      <td>1</td>\n",
              "      <td>0</td>\n",
              "      <td>0</td>\n",
              "      <td>0</td>\n",
              "      <td>2.0</td>\n",
              "      <td>0</td>\n",
              "      <td>71.18</td>\n",
              "      <td>0</td>\n",
              "      <td>71.18</td>\n",
              "      <td>0.515317</td>\n",
              "      <td>0.598171</td>\n",
              "      <td>0.488902</td>\n",
              "      <td>0.474981</td>\n",
              "      <td>0.663649</td>\n",
              "      <td>0.483884</td>\n",
              "      <td>0.0</td>\n",
              "      <td>1.0</td>\n",
              "      <td>1</td>\n",
              "      <td>1</td>\n",
              "      <td>164</td>\n",
              "      <td>7</td>\n",
              "      <td>7</td>\n",
              "      <td>0</td>\n",
              "      <td>1</td>\n",
              "      <td>0</td>\n",
              "      <td>0</td>\n",
              "      <td>0</td>\n",
              "      <td>0</td>\n",
              "      <td>0</td>\n",
              "      <td>1</td>\n",
              "      <td>0</td>\n",
              "      <td>0</td>\n",
              "    </tr>\n",
              "  </tbody>\n",
              "</table>\n",
              "</div>"
            ],
            "text/plain": [
              "   creditLimit  availableMoney  ...  posConditionCode_08  posConditionCode_99\n",
              "0         5000          5000.0  ...                    0                    0\n",
              "1         5000          5000.0  ...                    0                    0\n",
              "2         5000          5000.0  ...                    0                    0\n",
              "3         5000          5000.0  ...                    0                    0\n",
              "4         5000          5000.0  ...                    0                    0\n",
              "\n",
              "[5 rows x 36 columns]"
            ]
          },
          "metadata": {
            "tags": []
          },
          "execution_count": 56
        }
      ]
    },
    {
      "cell_type": "code",
      "metadata": {
        "id": "ZNU6R28bQwI5",
        "colab_type": "code",
        "colab": {}
      },
      "source": [
        "for col in ['isFraud', 'expirationDateKeyInMatch', 'cardPresent', 'cvv_match', 'country_match']:\n",
        "    df_model[col] = df_model[col].astype('category')"
      ],
      "execution_count": 0,
      "outputs": []
    },
    {
      "cell_type": "markdown",
      "metadata": {
        "id": "7-zRxh5-tU80",
        "colab_type": "text"
      },
      "source": [
        "Getting some insight on the data"
      ]
    },
    {
      "cell_type": "code",
      "metadata": {
        "id": "poqh6hvilKl6",
        "colab_type": "code",
        "colab": {}
      },
      "source": [
        "sns.countplot(df_model[\"isFraud\"])"
      ],
      "execution_count": 0,
      "outputs": []
    },
    {
      "cell_type": "markdown",
      "metadata": {
        "id": "38ZivSEstuNo",
        "colab_type": "text"
      },
      "source": [
        "***As we see this is a highly imbalanced dataset, so One class modeling methods will be useful here.***\n",
        "\n",
        "I can easily create a balanced dataset and do modeling on it using common ML algorithms but it will be futile with our test dataset or in a production environment.\n",
        "\n",
        "Other methods that can be used are bootstrapping methods (sampling methods), but I shall focus on using one class algorithms.\n",
        "\n",
        "Checking histograms"
      ]
    },
    {
      "cell_type": "code",
      "metadata": {
        "id": "yGeZErOXvOAY",
        "colab_type": "code",
        "colab": {}
      },
      "source": [
        "from pylab import rcParams\n",
        "rcParams['figure.figsize'] = 20, 10\n",
        "f, (ax1, ax2) = plt.subplots(1, 2)\n",
        "ax1.hist(df_model.loc[df_model[\"isFraud\"]==0][\"transactionAmount\"], bins=np.arange(0,1001,10))\n",
        "ax1.set_title(\"Histogram for Valid Transactions\")\n",
        "ax2.hist(df_model.loc[df_model[\"isFraud\"]==1][\"transactionAmount\"], bins=np.arange(0,1001,10))\n",
        "ax2.set_title(\"Histogram for Fraud Transactions\")\n",
        "plt.show()"
      ],
      "execution_count": 0,
      "outputs": []
    },
    {
      "cell_type": "markdown",
      "metadata": {
        "id": "-HNG4ssLIbIC",
        "colab_type": "text"
      },
      "source": [
        "I can log transform the transaction amounts here but will not do that at this step as there are other features derived from it."
      ]
    },
    {
      "cell_type": "code",
      "metadata": {
        "id": "gjtLFfLrIgFJ",
        "colab_type": "code",
        "colab": {}
      },
      "source": [
        "# df_model[\"transactionAmount_log\"] = df_model[\"transactionAmount\"].map(lambda x: np.log(x) if x!=0 else 0)\n",
        "# df_model = df_model.drop([\"transactionAmount\"], axis=1)\n",
        "# df_model.head()"
      ],
      "execution_count": 0,
      "outputs": []
    },
    {
      "cell_type": "markdown",
      "metadata": {
        "id": "1yOvNSRkFVjX",
        "colab_type": "text"
      },
      "source": [
        "Breaking the numeric features apart to observe correlations between them."
      ]
    },
    {
      "cell_type": "code",
      "metadata": {
        "id": "SXImlUn-J4p2",
        "colab_type": "code",
        "outputId": "44114554-20ac-45f5-83b7-d0b61f008a63",
        "colab": {
          "base_uri": "https://localhost:8080/",
          "height": 715
        }
      },
      "source": [
        "numerics = ['int16', 'int32', 'int64', 'float16', 'float32', 'float64']\n",
        "\n",
        "numdf = df_model.select_dtypes(include=numerics)\n",
        "df_model = df_model.drop(numdf.columns, axis=1)\n",
        "corrmat = numdf.corr()\n",
        "top_corr_features = corrmat.index\n",
        "plt.figure(figsize=(10,10))\n",
        "#plot heat map\n",
        "g=sns.heatmap(numdf[top_corr_features].corr(),annot=True,cmap=\"RdYlGn\")"
      ],
      "execution_count": 0,
      "outputs": [
        {
          "output_type": "display_data",
          "data": {
            "image/png": "[encoded data removed]",
            "text/plain": [
              "<Figure size 720x720 with 2 Axes>"
            ]
          },
          "metadata": {
            "tags": []
          }
        }
      ]
    },
    {
      "cell_type": "markdown",
      "metadata": {
        "id": "m6bJexU2Fyf6",
        "colab_type": "text"
      },
      "source": [
        "dropping highly correlated features:\n",
        "\n",
        "1. Credit Limit: 2 features highly correlate it namely: availableMoney and currentBalance\n",
        "\n",
        "2. transactionCountacc - this is a feature we developed but others highly correlated so dropping.\n",
        "\n",
        "I let prev_Fraud_acc stay there on purpose as I feel, although they are correlated, it offers valuable information."
      ]
    },
    {
      "cell_type": "code",
      "metadata": {
        "id": "xJBUCJXjq5C0",
        "colab_type": "code",
        "colab": {}
      },
      "source": [
        "numdf = numdf.drop([\"creditLimit\", \"transaction_count_acc\"], axis=1)"
      ],
      "execution_count": 0,
      "outputs": []
    },
    {
      "cell_type": "markdown",
      "metadata": {
        "id": "9WS8tsVmI4JO",
        "colab_type": "text"
      },
      "source": [
        "At this point I can conduct PCA, but we have already removed correlated features so not conducting PCA"
      ]
    },
    {
      "cell_type": "code",
      "metadata": {
        "id": "M66c1N4sNIx4",
        "colab_type": "code",
        "colab": {}
      },
      "source": [
        "# from sklearn.decomposition import PCA\n",
        "# numdf = numdf.drop([\"creditLimit\", \"transaction_count_acc\"], axis=1)\n",
        "# pca = PCA(n_components=7)\n",
        "# principalComponents = pca.fit_transform(numdf)\n",
        "# numdf = pd.DataFrame(principalComponents, columns = [\"PC1\", \"PC2\", \"PC3\", \"PC4\", \"PC5\", \"PC6\", \"PC7\"])\n",
        "# numdf.head()\n"
      ],
      "execution_count": 0,
      "outputs": []
    },
    {
      "cell_type": "markdown",
      "metadata": {
        "id": "wPsH14UAd10O",
        "colab_type": "text"
      },
      "source": [
        "We can also do some Normalizing/scaling the columns with Robust Scaler (less prone to outliers) but skipping that as well.\n",
        "The algorithms we use does not need normalizing, but normalizing will be done for autoencoder afterwards.\n",
        "Normalizing at this point also impacted performance which has been tested."
      ]
    },
    {
      "cell_type": "code",
      "metadata": {
        "id": "dRgSe_gkeGIo",
        "colab_type": "code",
        "colab": {}
      },
      "source": [
        "# scaler = preprocessing.RobustScaler()\n",
        "# numdf = pd.DataFrame(scaler.fit_transform(numdf), columns=numdf.columns, index=numdf.index)\n",
        "# numdf.head()"
      ],
      "execution_count": 0,
      "outputs": []
    },
    {
      "cell_type": "code",
      "metadata": {
        "id": "NgbGKPx-TReK",
        "colab_type": "code",
        "outputId": "e2b3a470-e2d2-4e5c-ce80-877f89c1a272",
        "colab": {
          "base_uri": "https://localhost:8080/",
          "height": 211
        }
      },
      "source": [
        "df_model = pd.concat([numdf, df_model], axis=1)\n",
        "df_model.head()"
      ],
      "execution_count": 0,
      "outputs": [
        {
          "output_type": "execute_result",
          "data": {
            "text/html": [
              "<div>\n",
              "<style scoped>\n",
              "    .dataframe tbody tr th:only-of-type {\n",
              "        vertical-align: middle;\n",
              "    }\n",
              "\n",
              "    .dataframe tbody tr th {\n",
              "        vertical-align: top;\n",
              "    }\n",
              "\n",
              "    .dataframe thead th {\n",
              "        text-align: right;\n",
              "    }\n",
              "</style>\n",
              "<table border=\"1\" class=\"dataframe\">\n",
              "  <thead>\n",
              "    <tr style=\"text-align: right;\">\n",
              "      <th></th>\n",
              "      <th>availableMoney</th>\n",
              "      <th>transactionAmount</th>\n",
              "      <th>currentBalance</th>\n",
              "      <th>timesince_last_transac</th>\n",
              "      <th>cus_merch_transac_count</th>\n",
              "      <th>cus_merch_transac_med</th>\n",
              "      <th>cus_cat_transac_count</th>\n",
              "      <th>cus_cat_transac_med</th>\n",
              "      <th>trans_over_mean_merch</th>\n",
              "      <th>trans_over_std_merch</th>\n",
              "      <th>trans_over_mean_cat</th>\n",
              "      <th>trans_over_std_cat</th>\n",
              "      <th>trans_over_mean_cus</th>\n",
              "      <th>trans_over_std_cus</th>\n",
              "      <th>prev_Fraud_acc</th>\n",
              "      <th>prev_Fraud_merch</th>\n",
              "      <th>datediff_exp</th>\n",
              "      <th>datediff_acc</th>\n",
              "      <th>datediff_add</th>\n",
              "      <th>cardPresent</th>\n",
              "      <th>expirationDateKeyInMatch</th>\n",
              "      <th>isFraud</th>\n",
              "      <th>cvv_match</th>\n",
              "      <th>country_match</th>\n",
              "      <th>posEntryMode_</th>\n",
              "      <th>posEntryMode_02</th>\n",
              "      <th>posEntryMode_05</th>\n",
              "      <th>posEntryMode_09</th>\n",
              "      <th>posEntryMode_80</th>\n",
              "      <th>posEntryMode_90</th>\n",
              "      <th>posConditionCode_</th>\n",
              "      <th>posConditionCode_01</th>\n",
              "      <th>posConditionCode_08</th>\n",
              "      <th>posConditionCode_99</th>\n",
              "    </tr>\n",
              "  </thead>\n",
              "  <tbody>\n",
              "    <tr>\n",
              "      <th>0</th>\n",
              "      <td>5000.0</td>\n",
              "      <td>98.55</td>\n",
              "      <td>0.0</td>\n",
              "      <td>2.0</td>\n",
              "      <td>0</td>\n",
              "      <td>98.55</td>\n",
              "      <td>0</td>\n",
              "      <td>98.55</td>\n",
              "      <td>0.676336</td>\n",
              "      <td>0.654610</td>\n",
              "      <td>0.673981</td>\n",
              "      <td>0.655354</td>\n",
              "      <td>2.096809</td>\n",
              "      <td>2.110799</td>\n",
              "      <td>0.0</td>\n",
              "      <td>512.0</td>\n",
              "      <td>82</td>\n",
              "      <td>17</td>\n",
              "      <td>17</td>\n",
              "      <td>0</td>\n",
              "      <td>0</td>\n",
              "      <td>0</td>\n",
              "      <td>1</td>\n",
              "      <td>1</td>\n",
              "      <td>0</td>\n",
              "      <td>1</td>\n",
              "      <td>0</td>\n",
              "      <td>0</td>\n",
              "      <td>0</td>\n",
              "      <td>0</td>\n",
              "      <td>0</td>\n",
              "      <td>1</td>\n",
              "      <td>0</td>\n",
              "      <td>0</td>\n",
              "    </tr>\n",
              "    <tr>\n",
              "      <th>1</th>\n",
              "      <td>5000.0</td>\n",
              "      <td>74.51</td>\n",
              "      <td>0.0</td>\n",
              "      <td>58.0</td>\n",
              "      <td>0</td>\n",
              "      <td>74.51</td>\n",
              "      <td>0</td>\n",
              "      <td>74.51</td>\n",
              "      <td>0.514582</td>\n",
              "      <td>0.497311</td>\n",
              "      <td>0.510197</td>\n",
              "      <td>0.495961</td>\n",
              "      <td>1.585319</td>\n",
              "      <td>1.595897</td>\n",
              "      <td>0.0</td>\n",
              "      <td>20.0</td>\n",
              "      <td>88</td>\n",
              "      <td>19</td>\n",
              "      <td>19</td>\n",
              "      <td>1</td>\n",
              "      <td>0</td>\n",
              "      <td>0</td>\n",
              "      <td>1</td>\n",
              "      <td>1</td>\n",
              "      <td>0</td>\n",
              "      <td>0</td>\n",
              "      <td>0</td>\n",
              "      <td>1</td>\n",
              "      <td>0</td>\n",
              "      <td>0</td>\n",
              "      <td>0</td>\n",
              "      <td>1</td>\n",
              "      <td>0</td>\n",
              "      <td>0</td>\n",
              "    </tr>\n",
              "    <tr>\n",
              "      <th>2</th>\n",
              "      <td>5000.0</td>\n",
              "      <td>7.47</td>\n",
              "      <td>0.0</td>\n",
              "      <td>28.0</td>\n",
              "      <td>0</td>\n",
              "      <td>7.47</td>\n",
              "      <td>0</td>\n",
              "      <td>7.47</td>\n",
              "      <td>1.273399</td>\n",
              "      <td>3.926232</td>\n",
              "      <td>1.279722</td>\n",
              "      <td>3.832968</td>\n",
              "      <td>0.158936</td>\n",
              "      <td>0.159997</td>\n",
              "      <td>0.0</td>\n",
              "      <td>0.0</td>\n",
              "      <td>106</td>\n",
              "      <td>20</td>\n",
              "      <td>20</td>\n",
              "      <td>0</td>\n",
              "      <td>0</td>\n",
              "      <td>0</td>\n",
              "      <td>1</td>\n",
              "      <td>1</td>\n",
              "      <td>0</td>\n",
              "      <td>0</td>\n",
              "      <td>0</td>\n",
              "      <td>1</td>\n",
              "      <td>0</td>\n",
              "      <td>0</td>\n",
              "      <td>0</td>\n",
              "      <td>1</td>\n",
              "      <td>0</td>\n",
              "      <td>0</td>\n",
              "    </tr>\n",
              "    <tr>\n",
              "      <th>3</th>\n",
              "      <td>5000.0</td>\n",
              "      <td>7.47</td>\n",
              "      <td>0.0</td>\n",
              "      <td>31.0</td>\n",
              "      <td>1</td>\n",
              "      <td>7.47</td>\n",
              "      <td>1</td>\n",
              "      <td>7.47</td>\n",
              "      <td>1.273399</td>\n",
              "      <td>3.926232</td>\n",
              "      <td>1.279722</td>\n",
              "      <td>3.832968</td>\n",
              "      <td>0.158936</td>\n",
              "      <td>0.159997</td>\n",
              "      <td>0.0</td>\n",
              "      <td>0.0</td>\n",
              "      <td>105</td>\n",
              "      <td>21</td>\n",
              "      <td>21</td>\n",
              "      <td>0</td>\n",
              "      <td>0</td>\n",
              "      <td>0</td>\n",
              "      <td>1</td>\n",
              "      <td>1</td>\n",
              "      <td>0</td>\n",
              "      <td>0</td>\n",
              "      <td>0</td>\n",
              "      <td>1</td>\n",
              "      <td>0</td>\n",
              "      <td>0</td>\n",
              "      <td>0</td>\n",
              "      <td>1</td>\n",
              "      <td>0</td>\n",
              "      <td>0</td>\n",
              "    </tr>\n",
              "    <tr>\n",
              "      <th>4</th>\n",
              "      <td>5000.0</td>\n",
              "      <td>71.18</td>\n",
              "      <td>0.0</td>\n",
              "      <td>2.0</td>\n",
              "      <td>0</td>\n",
              "      <td>71.18</td>\n",
              "      <td>0</td>\n",
              "      <td>71.18</td>\n",
              "      <td>0.515317</td>\n",
              "      <td>0.598171</td>\n",
              "      <td>0.488902</td>\n",
              "      <td>0.474981</td>\n",
              "      <td>0.663649</td>\n",
              "      <td>0.483884</td>\n",
              "      <td>0.0</td>\n",
              "      <td>1.0</td>\n",
              "      <td>164</td>\n",
              "      <td>7</td>\n",
              "      <td>7</td>\n",
              "      <td>1</td>\n",
              "      <td>0</td>\n",
              "      <td>0</td>\n",
              "      <td>1</td>\n",
              "      <td>1</td>\n",
              "      <td>0</td>\n",
              "      <td>1</td>\n",
              "      <td>0</td>\n",
              "      <td>0</td>\n",
              "      <td>0</td>\n",
              "      <td>0</td>\n",
              "      <td>0</td>\n",
              "      <td>1</td>\n",
              "      <td>0</td>\n",
              "      <td>0</td>\n",
              "    </tr>\n",
              "  </tbody>\n",
              "</table>\n",
              "</div>"
            ],
            "text/plain": [
              "   availableMoney  transactionAmount  ...  posConditionCode_08  posConditionCode_99\n",
              "0          5000.0              98.55  ...                    0                    0\n",
              "1          5000.0              74.51  ...                    0                    0\n",
              "2          5000.0               7.47  ...                    0                    0\n",
              "3          5000.0               7.47  ...                    0                    0\n",
              "4          5000.0              71.18  ...                    0                    0\n",
              "\n",
              "[5 rows x 34 columns]"
            ]
          },
          "metadata": {
            "tags": []
          },
          "execution_count": 60
        }
      ]
    },
    {
      "cell_type": "code",
      "metadata": {
        "id": "NibVFT1hU2nh",
        "colab_type": "code",
        "colab": {}
      },
      "source": [
        "df_model = df_model.replace([np.inf, -np.inf], np.nan)\n",
        "df_model.fillna(0, inplace=True)"
      ],
      "execution_count": 0,
      "outputs": []
    },
    {
      "cell_type": "code",
      "metadata": {
        "id": "ZkQ6h2TXVg9c",
        "colab_type": "code",
        "outputId": "845567e5-3728-4982-8f28-d201d9a8eda8",
        "colab": {
          "base_uri": "https://localhost:8080/",
          "height": 586
        }
      },
      "source": [
        "df_model.isnull().sum()"
      ],
      "execution_count": 0,
      "outputs": [
        {
          "output_type": "execute_result",
          "data": {
            "text/plain": [
              "availableMoney              0\n",
              "transactionAmount           0\n",
              "currentBalance              0\n",
              "timesince_last_transac      0\n",
              "cus_merch_transac_count     0\n",
              "cus_merch_transac_med       0\n",
              "cus_cat_transac_count       0\n",
              "cus_cat_transac_med         0\n",
              "trans_over_mean_merch       0\n",
              "trans_over_std_merch        0\n",
              "trans_over_mean_cat         0\n",
              "trans_over_std_cat          0\n",
              "trans_over_mean_cus         0\n",
              "trans_over_std_cus          0\n",
              "prev_Fraud_acc              0\n",
              "prev_Fraud_merch            0\n",
              "datediff_exp                0\n",
              "datediff_acc                0\n",
              "datediff_add                0\n",
              "cardPresent                 0\n",
              "expirationDateKeyInMatch    0\n",
              "isFraud                     0\n",
              "cvv_match                   0\n",
              "country_match               0\n",
              "posEntryMode_               0\n",
              "posEntryMode_02             0\n",
              "posEntryMode_05             0\n",
              "posEntryMode_09             0\n",
              "posEntryMode_80             0\n",
              "posEntryMode_90             0\n",
              "posConditionCode_           0\n",
              "posConditionCode_01         0\n",
              "posConditionCode_08         0\n",
              "posConditionCode_99         0\n",
              "dtype: int64"
            ]
          },
          "metadata": {
            "tags": []
          },
          "execution_count": 69
        }
      ]
    },
    {
      "cell_type": "markdown",
      "metadata": {
        "id": "cm8zd9ZOhl9T",
        "colab_type": "text"
      },
      "source": [
        "Using Traditional One Class ML algorithms first:\n",
        "1. Isolation Forest\n",
        "2. Local Outlier Factor"
      ]
    },
    {
      "cell_type": "markdown",
      "metadata": {
        "id": "3ksN2Y8LJc_N",
        "colab_type": "text"
      },
      "source": [
        "How much of the distribution data is outliers?"
      ]
    },
    {
      "cell_type": "code",
      "metadata": {
        "id": "r-Ve029_8ucP",
        "colab_type": "code",
        "outputId": "2950c2ac-48d5-4cef-d590-3f69d9b45fc7",
        "colab": {
          "base_uri": "https://localhost:8080/",
          "height": 33
        }
      },
      "source": [
        "outlier_fraction = sum(df_model[\"isFraud\"])/len(df_model)\n",
        "outlier_fraction"
      ],
      "execution_count": 0,
      "outputs": [
        {
          "output_type": "execute_result",
          "data": {
            "text/plain": [
              "0.01603611413419074"
            ]
          },
          "metadata": {
            "tags": []
          },
          "execution_count": 61
        }
      ]
    },
    {
      "cell_type": "markdown",
      "metadata": {
        "id": "Yh5fIovDJl5t",
        "colab_type": "text"
      },
      "source": [
        "We make sure that out Train and test data has the right distributions of fraud and normal cases:"
      ]
    },
    {
      "cell_type": "code",
      "metadata": {
        "id": "U1ANYscshoiB",
        "colab_type": "code",
        "outputId": "ce7076d5-7a54-4e15-b665-e1e9e6da3adb",
        "colab": {
          "base_uri": "https://localhost:8080/",
          "height": 232
        }
      },
      "source": [
        "y = df_model['isFraud']\n",
        "X = df_model.drop('isFraud', axis=1)\n",
        "\n",
        "\n",
        "sss = StratifiedKFold(n_splits=5, random_state=321, shuffle=False)\n",
        "\n",
        "for train_index, test_index in sss.split(X, y):\n",
        "    print(\"Train:\", train_index, \"Test:\", test_index)\n",
        "    X_train, X_test = X.iloc[train_index], X.iloc[test_index]\n",
        "    y_train, y_test = y.iloc[train_index], y.iloc[test_index]\n",
        "\n",
        "# See if both the train and test label distribution are similarly distributed\n",
        "train_unique_label, train_counts_label = np.unique(y_train, return_counts=True)\n",
        "test_unique_label, test_counts_label = np.unique(y_test, return_counts=True)\n",
        "print('-' * 100)\n",
        "\n",
        "print('Label Distributions: \\n')\n",
        "print(train_counts_label/ len(y_train))\n",
        "print(test_counts_label/ len(y_test))"
      ],
      "execution_count": 0,
      "outputs": [
        {
          "output_type": "stream",
          "text": [
            "/usr/local/lib/python3.6/dist-packages/sklearn/model_selection/_split.py:296: FutureWarning: Setting a random_state has no effect since shuffle is False. This will raise an error in 0.24. You should leave random_state to its default (None), or set shuffle=True.\n",
            "  FutureWarning\n"
          ],
          "name": "stderr"
        },
        {
          "output_type": "stream",
          "text": [
            "Train: [145903 145909 145919 ... 745190 745191 745192] Test: [     0      1      2 ... 149169 149170 149171]\n",
            "Train: [     0      1      2 ... 745190 745191 745192] Test: [145903 145909 145919 ... 298207 298208 298209]\n",
            "Train: [     0      1      2 ... 745190 745191 745192] Test: [292670 292684 292697 ... 454094 454214 454235]\n",
            "Train: [     0      1      2 ... 745190 745191 745192] Test: [447018 447019 447020 ... 599373 599578 599718]\n",
            "Train: [     0      1      2 ... 599373 599578 599718] Test: [596116 596117 596118 ... 745190 745191 745192]\n",
            "----------------------------------------------------------------------------------------------------\n",
            "Label Distributions: \n",
            "\n",
            "[0.9839639 0.0160361]\n",
            "[0.98396382 0.01603618]\n"
          ],
          "name": "stdout"
        }
      ]
    },
    {
      "cell_type": "markdown",
      "metadata": {
        "id": "iNcDSv-hWDCP",
        "colab_type": "text"
      },
      "source": [
        "Trying ***Isolation forest Algorithm*** first\n"
      ]
    },
    {
      "cell_type": "code",
      "metadata": {
        "id": "GmjY0aaTWcgI",
        "colab_type": "code",
        "outputId": "a3ac0bf3-e632-4c12-9ce1-2f8816fd7b4a",
        "colab": {
          "base_uri": "https://localhost:8080/",
          "height": 492
        }
      },
      "source": [
        "clf = IsolationForest(n_estimators=100, max_samples=int(len(df_model)*0.9), contamination=outlier_fraction,random_state=12, verbose=0)\n",
        "clf.fit(X_train)\n",
        "y_pred_train = clf.predict(X_train)\n",
        "y_pred_train[y_pred_train == 1] = 0\n",
        "y_pred_train[y_pred_train == -1] = 1\n",
        "y_pred_test = clf.predict(X_test)\n",
        "y_pred_test[y_pred_test == 1] = 0\n",
        "y_pred_test[y_pred_test == -1] = 1\n",
        "print(\"Accuracy Score :\")\n",
        "print(\"For train set {} and for test set{}\".format(accuracy_score(y_train,y_pred_train), accuracy_score(y_test,y_pred_test)))\n",
        "print(\"Classification Report :\")\n",
        "print(\"For train set {} and for test set{}\".format(classification_report(y_train,y_pred_train), classification_report(y_test,y_pred_test)))\n",
        "print(\"For Train the confusion matrix is \\n\", confusion_matrix(y_train,y_pred_train, labels=[0,1]))\n",
        "print(\"For test the confusion matrix is \\n\", confusion_matrix(y_test,y_pred_test, labels=[0,1]))"
      ],
      "execution_count": 0,
      "outputs": [
        {
          "output_type": "stream",
          "text": [
            "/usr/local/lib/python3.6/dist-packages/sklearn/ensemble/_iforest.py:281: UserWarning: max_samples (670673) is greater than the total number of samples (596155). max_samples will be set to n_samples for estimation.\n",
            "  % (self.max_samples, n_samples))\n"
          ],
          "name": "stderr"
        },
        {
          "output_type": "stream",
          "text": [
            "Accuracy Score :\n",
            "For train set 0.9696454781055263 and for test set0.9735436600061729\n",
            "Classification Report :\n",
            "For train set               precision    recall  f1-score   support\n",
            "\n",
            "           0       0.98      0.98      0.98    586595\n",
            "           1       0.05      0.05      0.05      9560\n",
            "\n",
            "    accuracy                           0.97    596155\n",
            "   macro avg       0.52      0.52      0.52    596155\n",
            "weighted avg       0.97      0.97      0.97    596155\n",
            " and for test set              precision    recall  f1-score   support\n",
            "\n",
            "           0       0.98      0.99      0.99    146648\n",
            "           1       0.04      0.03      0.03      2390\n",
            "\n",
            "    accuracy                           0.97    149038\n",
            "   macro avg       0.51      0.51      0.51    149038\n",
            "weighted avg       0.97      0.97      0.97    149038\n",
            "\n",
            "For Train the confusion matrix is \n",
            " [[577547   9048]\n",
            " [  9048    512]]\n",
            "For test the confusion matrix is \n",
            " [[145026   1622]\n",
            " [  2321     69]]\n"
          ],
          "name": "stdout"
        }
      ]
    },
    {
      "cell_type": "markdown",
      "metadata": {
        "id": "m5DCag4TXcxk",
        "colab_type": "text"
      },
      "source": [
        "The accuracy seems to be great, but our performance metrics should be Precision, Recall and F1 scores here.\n",
        "\n",
        "Our F1 score for fraud detection is not good."
      ]
    },
    {
      "cell_type": "markdown",
      "metadata": {
        "id": "8rMkrZXqZFU1",
        "colab_type": "text"
      },
      "source": [
        "***Local outlier Factor***\n",
        "please un-comment if you wish to test"
      ]
    },
    {
      "cell_type": "code",
      "metadata": {
        "id": "6Y90SB-0W1ou",
        "colab_type": "code",
        "colab": {}
      },
      "source": [
        "# clf = LocalOutlierFactor(n_neighbors=20, algorithm='auto', \n",
        "#                           leaf_size=30, metric='minkowski', novelty=True,\n",
        "#                           p=2, metric_params=None, contamination=outlier_fraction, n_jobs=4)\n",
        "# clf = clf.fit(X_train)\n",
        "\n",
        "# y_pred_train = clf.predict(X_train)\n",
        "# y_pred_train[y_pred_train == 1] = 0\n",
        "# y_pred_train[y_pred_train == -1] = 1\n",
        "# y_pred_test = clf.predict(X_test)\n",
        "# y_pred_test[y_pred_test == 1] = 0\n",
        "# y_pred_test[y_pred_test == -1] = 1\n",
        "# print(\"Accuracy Score :\")\n",
        "# print(\"For train set {} and for test set{}\".format(accuracy_score(y_train,y_pred_train), accuracy_score(y_test,y_pred_test)))\n",
        "# print(\"Classification Report :\")\n",
        "# print(\"For train set {} and for test set{}\".format(classification_report(y_train,y_pred_train), classification_report(y_test,y_pred_test)))\n",
        "# print(\"For Train \\n\", confusion_matrix(y_train,y_pred_train, labels=[0,1]))\n",
        "# print(\"For test \\n\", confusion_matrix(y_test,y_pred_test, labels=[0,1]))"
      ],
      "execution_count": 0,
      "outputs": []
    },
    {
      "cell_type": "markdown",
      "metadata": {
        "id": "zWKSqND4ZAQO",
        "colab_type": "text"
      },
      "source": [
        "We see similar trend with Local Outlier Factor."
      ]
    },
    {
      "cell_type": "markdown",
      "metadata": {
        "id": "py_5NYlPZ1gC",
        "colab_type": "text"
      },
      "source": [
        "Lets dive deeper into why that is happening and analyse our features. I will use dimentional reduction techniques to plot our data and see if the data is seperable. The methods I shall use are:\n",
        "\n",
        "1. TSNE\n",
        "2. PCA\n",
        "3. TruncatedSVD"
      ]
    },
    {
      "cell_type": "code",
      "metadata": {
        "id": "KU0LVEaSayGW",
        "colab_type": "code",
        "colab": {}
      },
      "source": [
        "# getting total fraud transactions\n",
        "len(df_model.loc[df_model['isFraud'] == 1])"
      ],
      "execution_count": 0,
      "outputs": []
    },
    {
      "cell_type": "code",
      "metadata": {
        "id": "MX7AvUgFj2z6",
        "colab_type": "code",
        "colab": {}
      },
      "source": [
        "df_model = df_model.sample(frac=1) # shuffling\n",
        "\n",
        "# amount of fraud classes 11950 rows.\n",
        "fraud_df = df_model.loc[df_model['isFraud'] == 1]\n",
        "non_fraud_df = df_model.loc[df_model['isFraud'] == 0][:11950]\n",
        "\n",
        "normal_distributed_df = pd.concat([fraud_df, non_fraud_df])\n",
        "\n",
        "# Shuffle dataframe rows\n",
        "new_df = normal_distributed_df.sample(frac=1, random_state=42)\n",
        "\n",
        "# New_df is from the random undersample data (fewer instances)\n",
        "X = new_df.drop('isFraud', axis=1)\n",
        "y = new_df['isFraud']\n",
        "\n",
        "\n",
        "# T-SNE Implementation\n",
        "t0 = time.time()\n",
        "X_reduced_tsne = TSNE(n_components=2, random_state=42).fit_transform(X.values)\n",
        "t1 = time.time()\n",
        "print(\"T-SNE took {:.2} s\".format(t1 - t0))\n",
        "\n",
        "# PCA Implementation\n",
        "t0 = time.time()\n",
        "X_reduced_pca = PCA(n_components=2, random_state=42).fit_transform(X.values)\n",
        "t1 = time.time()\n",
        "print(\"PCA took {:.2} s\".format(t1 - t0))\n",
        "\n",
        "# TruncatedSVD\n",
        "t0 = time.time()\n",
        "X_reduced_svd = TruncatedSVD(n_components=2, algorithm='randomized', random_state=42).fit_transform(X.values)\n",
        "t1 = time.time()\n",
        "print(\"Truncated SVD took {:.2} s\".format(t1 - t0))"
      ],
      "execution_count": 0,
      "outputs": []
    },
    {
      "cell_type": "code",
      "metadata": {
        "id": "Ixn8g0ribTa_",
        "colab_type": "code",
        "colab": {}
      },
      "source": [
        "f, (ax1, ax2, ax3) = plt.subplots(1, 3, figsize=(24,6))\n",
        "# labels = ['No Fraud', 'Fraud']\n",
        "f.suptitle('Clusters using Dimensionality Reduction', fontsize=14)\n",
        "\n",
        "\n",
        "blue_patch = mpatches.Patch(color='#0A0AFF', label='No Fraud')\n",
        "red_patch = mpatches.Patch(color='#AF0000', label='Fraud')\n",
        "\n",
        "\n",
        "# t-SNE scatter plot\n",
        "ax1.scatter(X_reduced_tsne[:,0], X_reduced_tsne[:,1], c=(y == 0), cmap='coolwarm', label='No Fraud', linewidths=2)\n",
        "ax1.scatter(X_reduced_tsne[:,0], X_reduced_tsne[:,1], c=(y == 1), cmap='coolwarm', label='Fraud', linewidths=2)\n",
        "ax1.set_title('t-SNE', fontsize=14)\n",
        "\n",
        "ax1.grid(True)\n",
        "\n",
        "ax1.legend(handles=[blue_patch, red_patch])\n",
        "\n",
        "\n",
        "# PCA scatter plot\n",
        "ax2.scatter(X_reduced_pca[:,0], X_reduced_pca[:,1], c=(y == 0), cmap='coolwarm', label='No Fraud', linewidths=2)\n",
        "ax2.scatter(X_reduced_pca[:,0], X_reduced_pca[:,1], c=(y == 1), cmap='coolwarm', label='Fraud', linewidths=2)\n",
        "ax2.set_title('PCA', fontsize=14)\n",
        "\n",
        "ax2.grid(True)\n",
        "\n",
        "ax2.legend(handles=[blue_patch, red_patch])\n",
        "\n",
        "# TruncatedSVD scatter plot\n",
        "ax3.scatter(X_reduced_svd[:,0], X_reduced_svd[:,1], c=(y == 0), cmap='coolwarm', label='No Fraud', linewidths=2)\n",
        "ax3.scatter(X_reduced_svd[:,0], X_reduced_svd[:,1], c=(y == 1), cmap='coolwarm', label='Fraud', linewidths=2)\n",
        "ax3.set_title('Truncated SVD', fontsize=14)"
      ],
      "execution_count": 0,
      "outputs": []
    },
    {
      "cell_type": "markdown",
      "metadata": {
        "id": "F3gQqBKTbW9P",
        "colab_type": "text"
      },
      "source": [
        "This clearly shows that the classes are not seperable with the features at hand, and seem completely randomized.\n",
        "\n",
        "Therefore the ML methods are failing under the current features available."
      ]
    },
    {
      "cell_type": "markdown",
      "metadata": {
        "id": "c0kxuks9b1EA",
        "colab_type": "text"
      },
      "source": [
        "Giving Deeplearning Method a try:\n",
        "\n",
        "***Autoencoder***"
      ]
    },
    {
      "cell_type": "code",
      "metadata": {
        "id": "Fyl2TEDgbKmi",
        "colab_type": "code",
        "colab": {}
      },
      "source": [
        "# changing type to float and normalizing \n",
        "X_train = X_train.astype(float)\n",
        "X_train = tf.keras.utils.normalize(X_train)\n",
        "X_test = X_test.astype(float)\n",
        "X_test = tf.keras.utils.normalize(X_test)"
      ],
      "execution_count": 0,
      "outputs": []
    },
    {
      "cell_type": "code",
      "metadata": {
        "id": "q6E4d74Fg9el",
        "colab_type": "code",
        "colab": {}
      },
      "source": [
        "# designing the encoder-decoder architecture\n",
        "input_dim = X_train.shape[1]\n",
        "encoding_dim = 14\n",
        "input_layer = tf.keras.layers.Input(shape=(input_dim, ))\n",
        "encoder = tf.keras.layers.Dense(encoding_dim, activation=\"tanh\", \n",
        "                activity_regularizer=regularizers.l1(10e-5))(input_layer)\n",
        "encoder = tf.keras.layers.Dense(int(encoding_dim / 2), activation=\"relu\")(encoder)\n",
        "decoder = tf.keras.layers.Dense(int(encoding_dim / 2), activation='tanh')(encoder)\n",
        "decoder = tf.keras.layers.Dense(input_dim, activation='relu')(decoder)\n",
        "autoencoder = tf.keras.Model(inputs=input_layer, outputs=decoder)"
      ],
      "execution_count": 0,
      "outputs": []
    },
    {
      "cell_type": "code",
      "metadata": {
        "id": "3sHjRr8cg9iE",
        "colab_type": "code",
        "colab": {}
      },
      "source": [
        "# running for only 3 epochs\n",
        "nb_epoch = 3\n",
        "batch_size = 32\n",
        "autoencoder.compile(optimizer='adam', \n",
        "                    loss='mean_squared_error', \n",
        "                    metrics=['accuracy'])\n",
        "history = autoencoder.fit(X_train, X_train,\n",
        "                    epochs=nb_epoch,\n",
        "                    batch_size=batch_size,\n",
        "                    shuffle=True,\n",
        "                    validation_data=(X_test, X_test),\n",
        "                    verbose=1).history"
      ],
      "execution_count": 0,
      "outputs": []
    },
    {
      "cell_type": "code",
      "metadata": {
        "id": "PtuhKnF8g9os",
        "colab_type": "code",
        "colab": {}
      },
      "source": [
        "#saving the model for future use\n",
        "autoencoder.save_weights('autoencoder.h5')"
      ],
      "execution_count": 0,
      "outputs": []
    },
    {
      "cell_type": "markdown",
      "metadata": {
        "id": "hQfiJ2o_jFKa",
        "colab_type": "text"
      },
      "source": [
        "Looking at some plots:\n",
        "1. Train test loss plot\n",
        "2. ROC curve\n",
        "3. Precision Recall Plot\n",
        "4. Precision plot with threshold\n",
        "5. Recall plot with threshold"
      ]
    },
    {
      "cell_type": "code",
      "metadata": {
        "id": "cJ-hFn9dg9sX",
        "colab_type": "code",
        "colab": {}
      },
      "source": [
        "# train test loss plot\n",
        "plt.plot(history['loss'])\n",
        "plt.plot(history['val_loss'])\n",
        "plt.title('model loss')\n",
        "plt.ylabel('loss')\n",
        "plt.xlabel('epoch')\n",
        "plt.legend(['train', 'test'], loc='upper right');"
      ],
      "execution_count": 0,
      "outputs": []
    },
    {
      "cell_type": "code",
      "metadata": {
        "id": "r8-RjuDYg9wH",
        "colab_type": "code",
        "colab": {}
      },
      "source": [
        "# reconstruction error description\n",
        "\n",
        "predictions = autoencoder.predict(X_test)\n",
        "mse = np.mean(np.power(X_test - predictions, 2), axis=1)\n",
        "error_df = pd.DataFrame({'reconstruction_error': mse,\n",
        "                        'true_class': y_test})\n",
        "error_df.describe()"
      ],
      "execution_count": 0,
      "outputs": []
    },
    {
      "cell_type": "code",
      "metadata": {
        "id": "zTZckUmMiJ75",
        "colab_type": "code",
        "colab": {}
      },
      "source": [
        "# ROC curve\n",
        "fpr, tpr, thresholds = roc_curve(error_df.true_class, error_df.reconstruction_error)\n",
        "roc_auc = auc(fpr, tpr)\n",
        "\n",
        "plt.title('Receiver Operating Characteristic')\n",
        "plt.plot(fpr, tpr, label='AUC = %0.4f'% roc_auc)\n",
        "plt.legend(loc='lower right')\n",
        "plt.plot([0,1],[0,1],'r--')\n",
        "plt.xlim([-0.001, 1])\n",
        "plt.ylim([0, 1.001])\n",
        "plt.ylabel('True Positive Rate')\n",
        "plt.xlabel('False Positive Rate')\n",
        "plt.show();"
      ],
      "execution_count": 0,
      "outputs": []
    },
    {
      "cell_type": "code",
      "metadata": {
        "id": "FqYm9G4CiJ_u",
        "colab_type": "code",
        "colab": {}
      },
      "source": [
        "# Precision Recall plot\n",
        "precision, recall, th = precision_recall_curve(error_df.true_class, error_df.reconstruction_error)\n",
        "plt.plot(recall, precision, 'b', label='Precision-Recall curve')\n",
        "plt.title('Recall vs Precision')\n",
        "plt.xlabel('Recall')\n",
        "plt.ylabel('Precision')\n",
        "plt.show()"
      ],
      "execution_count": 0,
      "outputs": []
    },
    {
      "cell_type": "code",
      "metadata": {
        "id": "iSVEGLo5iP1h",
        "colab_type": "code",
        "colab": {}
      },
      "source": [
        "# Precision with threshold\n",
        "plt.plot(th, precision[1:], 'b', label='Threshold-Precision curve')\n",
        "plt.title('Precision for different threshold values')\n",
        "plt.xlabel('Threshold')\n",
        "plt.ylabel('Precision')\n",
        "plt.show()"
      ],
      "execution_count": 0,
      "outputs": []
    },
    {
      "cell_type": "code",
      "metadata": {
        "id": "i-ya-oxriP5P",
        "colab_type": "code",
        "colab": {}
      },
      "source": [
        "# Recall  with threshold\n",
        "plt.plot(th, recall[1:], 'b', label='Threshold-Recall curve')\n",
        "plt.title('Recall for different threshold values')\n",
        "plt.xlabel('Reconstruction error')\n",
        "plt.ylabel('Recall')\n",
        "plt.show()"
      ],
      "execution_count": 0,
      "outputs": []
    },
    {
      "cell_type": "markdown",
      "metadata": {
        "id": "g8HoYqsjj3TS",
        "colab_type": "text"
      },
      "source": [
        "Now we are setting our threshold by looking at the above plots and see how well it works"
      ]
    },
    {
      "cell_type": "code",
      "metadata": {
        "id": "5m8mlzE9iZrt",
        "colab_type": "code",
        "colab": {}
      },
      "source": [
        "# different thresholds can be tested from here.\n",
        "\n",
        "threshold = 0.00003\n",
        "groups = error_df.groupby('true_class')\n",
        "fig, ax = plt.subplots()\n",
        "\n",
        "for name, group in groups:\n",
        "    ax.plot(group.index, group.reconstruction_error, marker='o', ms=3.5, linestyle='',\n",
        "            label= \"Fraud\" if name == 1 else \"Normal\")\n",
        "ax.hlines(threshold, ax.get_xlim()[0], ax.get_xlim()[1], colors=\"r\", zorder=100, label='Threshold')\n",
        "ax.legend()\n",
        "plt.title(\"Reconstruction error for different classes\")\n",
        "plt.ylabel(\"Reconstruction error\")\n",
        "plt.xlabel(\"Data point index\")\n",
        "plt.show();"
      ],
      "execution_count": 0,
      "outputs": []
    },
    {
      "cell_type": "code",
      "metadata": {
        "id": "__4pWAVRigcg",
        "colab_type": "code",
        "colab": {}
      },
      "source": [
        "y_pred = [1 if e > threshold else 0 for e in error_df.reconstruction_error.values]\n",
        "conf_matrix = confusion_matrix(error_df.true_class, y_pred)\n",
        "plt.figure(figsize=(12, 12))\n",
        "sns.heatmap(conf_matrix, xticklabels=[0,1], yticklabels=[0,1], annot=True, fmt=\"d\");\n",
        "plt.title(\"Confusion matrix\")\n",
        "plt.ylabel('True class')\n",
        "plt.xlabel('Predicted class')\n",
        "plt.show()"
      ],
      "execution_count": 0,
      "outputs": []
    },
    {
      "cell_type": "markdown",
      "metadata": {
        "id": "M72scz-g8ZIu",
        "colab_type": "text"
      },
      "source": [
        "We can move the threshold to see how the confusion matrix changes.\n",
        "\n",
        "Again, the visualization we see here shows that Fraud cases see unseprable from the normal cases given the features at hand. Given more time, qaulity features should be developed."
      ]
    }
  ]
}